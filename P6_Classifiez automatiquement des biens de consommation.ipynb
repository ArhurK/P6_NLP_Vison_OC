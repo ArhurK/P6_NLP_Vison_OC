{
 "cells": [
  {
   "cell_type": "code",
   "execution_count": 53,
   "id": "1d783206",
   "metadata": {},
   "outputs": [],
   "source": [
    "import pandas as pd\n",
    "import numpy as np\n",
    "import matplotlib.pyplot as plt\n",
    "import seaborn as sns\n",
    "from collections import Counter\n",
    "%matplotlib inline"
   ]
  },
  {
   "cell_type": "code",
   "execution_count": 2,
   "id": "650a1f4c",
   "metadata": {
    "scrolled": true
   },
   "outputs": [
    {
     "data": {
      "text/html": [
       "<div>\n",
       "<style scoped>\n",
       "    .dataframe tbody tr th:only-of-type {\n",
       "        vertical-align: middle;\n",
       "    }\n",
       "\n",
       "    .dataframe tbody tr th {\n",
       "        vertical-align: top;\n",
       "    }\n",
       "\n",
       "    .dataframe thead th {\n",
       "        text-align: right;\n",
       "    }\n",
       "</style>\n",
       "<table border=\"1\" class=\"dataframe\">\n",
       "  <thead>\n",
       "    <tr style=\"text-align: right;\">\n",
       "      <th></th>\n",
       "      <th>uniq_id</th>\n",
       "      <th>crawl_timestamp</th>\n",
       "      <th>product_url</th>\n",
       "      <th>product_name</th>\n",
       "      <th>product_category_tree</th>\n",
       "      <th>pid</th>\n",
       "      <th>retail_price</th>\n",
       "      <th>discounted_price</th>\n",
       "      <th>image</th>\n",
       "      <th>is_FK_Advantage_product</th>\n",
       "      <th>description</th>\n",
       "      <th>product_rating</th>\n",
       "      <th>overall_rating</th>\n",
       "      <th>brand</th>\n",
       "      <th>product_specifications</th>\n",
       "    </tr>\n",
       "  </thead>\n",
       "  <tbody>\n",
       "    <tr>\n",
       "      <th>0</th>\n",
       "      <td>55b85ea15a1536d46b7190ad6fff8ce7</td>\n",
       "      <td>2016-04-30 03:22:56 +0000</td>\n",
       "      <td>http://www.flipkart.com/elegance-polyester-mul...</td>\n",
       "      <td>Elegance Polyester Multicolor Abstract Eyelet ...</td>\n",
       "      <td>[\"Home Furnishing &gt;&gt; Curtains &amp; Accessories &gt;&gt;...</td>\n",
       "      <td>CRNEG7BKMFFYHQ8Z</td>\n",
       "      <td>1899.0</td>\n",
       "      <td>899.0</td>\n",
       "      <td>55b85ea15a1536d46b7190ad6fff8ce7.jpg</td>\n",
       "      <td>False</td>\n",
       "      <td>Key Features of Elegance Polyester Multicolor ...</td>\n",
       "      <td>No rating available</td>\n",
       "      <td>No rating available</td>\n",
       "      <td>Elegance</td>\n",
       "      <td>{\"product_specification\"=&gt;[{\"key\"=&gt;\"Brand\", \"v...</td>\n",
       "    </tr>\n",
       "    <tr>\n",
       "      <th>1</th>\n",
       "      <td>7b72c92c2f6c40268628ec5f14c6d590</td>\n",
       "      <td>2016-04-30 03:22:56 +0000</td>\n",
       "      <td>http://www.flipkart.com/sathiyas-cotton-bath-t...</td>\n",
       "      <td>Sathiyas Cotton Bath Towel</td>\n",
       "      <td>[\"Baby Care &gt;&gt; Baby Bath &amp; Skin &gt;&gt; Baby Bath T...</td>\n",
       "      <td>BTWEGFZHGBXPHZUH</td>\n",
       "      <td>600.0</td>\n",
       "      <td>449.0</td>\n",
       "      <td>7b72c92c2f6c40268628ec5f14c6d590.jpg</td>\n",
       "      <td>False</td>\n",
       "      <td>Specifications of Sathiyas Cotton Bath Towel (...</td>\n",
       "      <td>No rating available</td>\n",
       "      <td>No rating available</td>\n",
       "      <td>Sathiyas</td>\n",
       "      <td>{\"product_specification\"=&gt;[{\"key\"=&gt;\"Machine Wa...</td>\n",
       "    </tr>\n",
       "    <tr>\n",
       "      <th>2</th>\n",
       "      <td>64d5d4a258243731dc7bbb1eef49ad74</td>\n",
       "      <td>2016-04-30 03:22:56 +0000</td>\n",
       "      <td>http://www.flipkart.com/eurospa-cotton-terry-f...</td>\n",
       "      <td>Eurospa Cotton Terry Face Towel Set</td>\n",
       "      <td>[\"Baby Care &gt;&gt; Baby Bath &amp; Skin &gt;&gt; Baby Bath T...</td>\n",
       "      <td>BTWEG6SHXTDB2A2Y</td>\n",
       "      <td>NaN</td>\n",
       "      <td>NaN</td>\n",
       "      <td>64d5d4a258243731dc7bbb1eef49ad74.jpg</td>\n",
       "      <td>False</td>\n",
       "      <td>Key Features of Eurospa Cotton Terry Face Towe...</td>\n",
       "      <td>No rating available</td>\n",
       "      <td>No rating available</td>\n",
       "      <td>Eurospa</td>\n",
       "      <td>{\"product_specification\"=&gt;[{\"key\"=&gt;\"Material\",...</td>\n",
       "    </tr>\n",
       "    <tr>\n",
       "      <th>3</th>\n",
       "      <td>d4684dcdc759dd9cdf41504698d737d8</td>\n",
       "      <td>2016-06-20 08:49:52 +0000</td>\n",
       "      <td>http://www.flipkart.com/santosh-royal-fashion-...</td>\n",
       "      <td>SANTOSH ROYAL FASHION Cotton Printed King size...</td>\n",
       "      <td>[\"Home Furnishing &gt;&gt; Bed Linen &gt;&gt; Bedsheets &gt;&gt;...</td>\n",
       "      <td>BDSEJT9UQWHDUBH4</td>\n",
       "      <td>2699.0</td>\n",
       "      <td>1299.0</td>\n",
       "      <td>d4684dcdc759dd9cdf41504698d737d8.jpg</td>\n",
       "      <td>False</td>\n",
       "      <td>Key Features of SANTOSH ROYAL FASHION Cotton P...</td>\n",
       "      <td>No rating available</td>\n",
       "      <td>No rating available</td>\n",
       "      <td>SANTOSH ROYAL FASHION</td>\n",
       "      <td>{\"product_specification\"=&gt;[{\"key\"=&gt;\"Brand\", \"v...</td>\n",
       "    </tr>\n",
       "    <tr>\n",
       "      <th>4</th>\n",
       "      <td>6325b6870c54cd47be6ebfbffa620ec7</td>\n",
       "      <td>2016-06-20 08:49:52 +0000</td>\n",
       "      <td>http://www.flipkart.com/jaipur-print-cotton-fl...</td>\n",
       "      <td>Jaipur Print Cotton Floral King sized Double B...</td>\n",
       "      <td>[\"Home Furnishing &gt;&gt; Bed Linen &gt;&gt; Bedsheets &gt;&gt;...</td>\n",
       "      <td>BDSEJTHNGWVGWWQU</td>\n",
       "      <td>2599.0</td>\n",
       "      <td>698.0</td>\n",
       "      <td>6325b6870c54cd47be6ebfbffa620ec7.jpg</td>\n",
       "      <td>False</td>\n",
       "      <td>Key Features of Jaipur Print Cotton Floral Kin...</td>\n",
       "      <td>No rating available</td>\n",
       "      <td>No rating available</td>\n",
       "      <td>Jaipur Print</td>\n",
       "      <td>{\"product_specification\"=&gt;[{\"key\"=&gt;\"Machine Wa...</td>\n",
       "    </tr>\n",
       "  </tbody>\n",
       "</table>\n",
       "</div>"
      ],
      "text/plain": [
       "                            uniq_id            crawl_timestamp  \\\n",
       "0  55b85ea15a1536d46b7190ad6fff8ce7  2016-04-30 03:22:56 +0000   \n",
       "1  7b72c92c2f6c40268628ec5f14c6d590  2016-04-30 03:22:56 +0000   \n",
       "2  64d5d4a258243731dc7bbb1eef49ad74  2016-04-30 03:22:56 +0000   \n",
       "3  d4684dcdc759dd9cdf41504698d737d8  2016-06-20 08:49:52 +0000   \n",
       "4  6325b6870c54cd47be6ebfbffa620ec7  2016-06-20 08:49:52 +0000   \n",
       "\n",
       "                                         product_url  \\\n",
       "0  http://www.flipkart.com/elegance-polyester-mul...   \n",
       "1  http://www.flipkart.com/sathiyas-cotton-bath-t...   \n",
       "2  http://www.flipkart.com/eurospa-cotton-terry-f...   \n",
       "3  http://www.flipkart.com/santosh-royal-fashion-...   \n",
       "4  http://www.flipkart.com/jaipur-print-cotton-fl...   \n",
       "\n",
       "                                        product_name  \\\n",
       "0  Elegance Polyester Multicolor Abstract Eyelet ...   \n",
       "1                         Sathiyas Cotton Bath Towel   \n",
       "2                Eurospa Cotton Terry Face Towel Set   \n",
       "3  SANTOSH ROYAL FASHION Cotton Printed King size...   \n",
       "4  Jaipur Print Cotton Floral King sized Double B...   \n",
       "\n",
       "                               product_category_tree               pid  \\\n",
       "0  [\"Home Furnishing >> Curtains & Accessories >>...  CRNEG7BKMFFYHQ8Z   \n",
       "1  [\"Baby Care >> Baby Bath & Skin >> Baby Bath T...  BTWEGFZHGBXPHZUH   \n",
       "2  [\"Baby Care >> Baby Bath & Skin >> Baby Bath T...  BTWEG6SHXTDB2A2Y   \n",
       "3  [\"Home Furnishing >> Bed Linen >> Bedsheets >>...  BDSEJT9UQWHDUBH4   \n",
       "4  [\"Home Furnishing >> Bed Linen >> Bedsheets >>...  BDSEJTHNGWVGWWQU   \n",
       "\n",
       "   retail_price  discounted_price                                 image  \\\n",
       "0        1899.0             899.0  55b85ea15a1536d46b7190ad6fff8ce7.jpg   \n",
       "1         600.0             449.0  7b72c92c2f6c40268628ec5f14c6d590.jpg   \n",
       "2           NaN               NaN  64d5d4a258243731dc7bbb1eef49ad74.jpg   \n",
       "3        2699.0            1299.0  d4684dcdc759dd9cdf41504698d737d8.jpg   \n",
       "4        2599.0             698.0  6325b6870c54cd47be6ebfbffa620ec7.jpg   \n",
       "\n",
       "   is_FK_Advantage_product                                        description  \\\n",
       "0                    False  Key Features of Elegance Polyester Multicolor ...   \n",
       "1                    False  Specifications of Sathiyas Cotton Bath Towel (...   \n",
       "2                    False  Key Features of Eurospa Cotton Terry Face Towe...   \n",
       "3                    False  Key Features of SANTOSH ROYAL FASHION Cotton P...   \n",
       "4                    False  Key Features of Jaipur Print Cotton Floral Kin...   \n",
       "\n",
       "        product_rating       overall_rating                  brand  \\\n",
       "0  No rating available  No rating available               Elegance   \n",
       "1  No rating available  No rating available               Sathiyas   \n",
       "2  No rating available  No rating available                Eurospa   \n",
       "3  No rating available  No rating available  SANTOSH ROYAL FASHION   \n",
       "4  No rating available  No rating available           Jaipur Print   \n",
       "\n",
       "                              product_specifications  \n",
       "0  {\"product_specification\"=>[{\"key\"=>\"Brand\", \"v...  \n",
       "1  {\"product_specification\"=>[{\"key\"=>\"Machine Wa...  \n",
       "2  {\"product_specification\"=>[{\"key\"=>\"Material\",...  \n",
       "3  {\"product_specification\"=>[{\"key\"=>\"Brand\", \"v...  \n",
       "4  {\"product_specification\"=>[{\"key\"=>\"Machine Wa...  "
      ]
     },
     "execution_count": 2,
     "metadata": {},
     "output_type": "execute_result"
    }
   ],
   "source": [
    "df = pd.read_csv('flipkart_com-ecommerce_sample_1050.csv',sep=',')\n",
    "df.head()"
   ]
  },
  {
   "cell_type": "code",
   "execution_count": 3,
   "id": "a3451f84",
   "metadata": {
    "scrolled": true
   },
   "outputs": [
    {
     "data": {
      "text/plain": [
       "Index(['uniq_id', 'crawl_timestamp', 'product_url', 'product_name',\n",
       "       'product_category_tree', 'pid', 'retail_price', 'discounted_price',\n",
       "       'image', 'is_FK_Advantage_product', 'description', 'product_rating',\n",
       "       'overall_rating', 'brand', 'product_specifications'],\n",
       "      dtype='object')"
      ]
     },
     "execution_count": 3,
     "metadata": {},
     "output_type": "execute_result"
    }
   ],
   "source": [
    "df.columns"
   ]
  },
  {
   "cell_type": "code",
   "execution_count": 5,
   "id": "3c632447",
   "metadata": {
    "scrolled": false
   },
   "outputs": [
    {
     "data": {
      "text/plain": [
       "False    993\n",
       "True      57\n",
       "Name: is_FK_Advantage_product, dtype: int64"
      ]
     },
     "execution_count": 5,
     "metadata": {},
     "output_type": "execute_result"
    }
   ],
   "source": [
    "df['is_FK_Advantage_product'].value_counts()"
   ]
  },
  {
   "cell_type": "markdown",
   "id": "0a430ab7",
   "metadata": {},
   "source": [
    "> Produits exclusifs ?"
   ]
  },
  {
   "cell_type": "code",
   "execution_count": 8,
   "id": "8259924c",
   "metadata": {},
   "outputs": [
    {
     "data": {
      "text/html": [
       "<div>\n",
       "<style scoped>\n",
       "    .dataframe tbody tr th:only-of-type {\n",
       "        vertical-align: middle;\n",
       "    }\n",
       "\n",
       "    .dataframe tbody tr th {\n",
       "        vertical-align: top;\n",
       "    }\n",
       "\n",
       "    .dataframe thead th {\n",
       "        text-align: right;\n",
       "    }\n",
       "</style>\n",
       "<table border=\"1\" class=\"dataframe\">\n",
       "  <thead>\n",
       "    <tr style=\"text-align: right;\">\n",
       "      <th></th>\n",
       "      <th>retail_price</th>\n",
       "      <th>discounted_price</th>\n",
       "    </tr>\n",
       "  </thead>\n",
       "  <tbody>\n",
       "    <tr>\n",
       "      <th>count</th>\n",
       "      <td>1049.000000</td>\n",
       "      <td>1049.000000</td>\n",
       "    </tr>\n",
       "    <tr>\n",
       "      <th>mean</th>\n",
       "      <td>2186.197331</td>\n",
       "      <td>1584.527169</td>\n",
       "    </tr>\n",
       "    <tr>\n",
       "      <th>std</th>\n",
       "      <td>7639.229411</td>\n",
       "      <td>7475.099680</td>\n",
       "    </tr>\n",
       "    <tr>\n",
       "      <th>min</th>\n",
       "      <td>35.000000</td>\n",
       "      <td>35.000000</td>\n",
       "    </tr>\n",
       "    <tr>\n",
       "      <th>25%</th>\n",
       "      <td>555.000000</td>\n",
       "      <td>340.000000</td>\n",
       "    </tr>\n",
       "    <tr>\n",
       "      <th>50%</th>\n",
       "      <td>999.000000</td>\n",
       "      <td>600.000000</td>\n",
       "    </tr>\n",
       "    <tr>\n",
       "      <th>75%</th>\n",
       "      <td>1999.000000</td>\n",
       "      <td>1199.000000</td>\n",
       "    </tr>\n",
       "    <tr>\n",
       "      <th>max</th>\n",
       "      <td>201000.000000</td>\n",
       "      <td>201000.000000</td>\n",
       "    </tr>\n",
       "  </tbody>\n",
       "</table>\n",
       "</div>"
      ],
      "text/plain": [
       "        retail_price  discounted_price\n",
       "count    1049.000000       1049.000000\n",
       "mean     2186.197331       1584.527169\n",
       "std      7639.229411       7475.099680\n",
       "min        35.000000         35.000000\n",
       "25%       555.000000        340.000000\n",
       "50%       999.000000        600.000000\n",
       "75%      1999.000000       1199.000000\n",
       "max    201000.000000     201000.000000"
      ]
     },
     "execution_count": 8,
     "metadata": {},
     "output_type": "execute_result"
    }
   ],
   "source": [
    "df.describe()"
   ]
  },
  {
   "cell_type": "code",
   "execution_count": 7,
   "id": "e00865ce",
   "metadata": {},
   "outputs": [
    {
     "data": {
      "text/html": [
       "<div>\n",
       "<style scoped>\n",
       "    .dataframe tbody tr th:only-of-type {\n",
       "        vertical-align: middle;\n",
       "    }\n",
       "\n",
       "    .dataframe tbody tr th {\n",
       "        vertical-align: top;\n",
       "    }\n",
       "\n",
       "    .dataframe thead th {\n",
       "        text-align: right;\n",
       "    }\n",
       "</style>\n",
       "<table border=\"1\" class=\"dataframe\">\n",
       "  <thead>\n",
       "    <tr style=\"text-align: right;\">\n",
       "      <th></th>\n",
       "      <th>uniq_id</th>\n",
       "      <th>crawl_timestamp</th>\n",
       "      <th>product_url</th>\n",
       "      <th>product_name</th>\n",
       "      <th>product_category_tree</th>\n",
       "      <th>pid</th>\n",
       "      <th>retail_price</th>\n",
       "      <th>discounted_price</th>\n",
       "      <th>image</th>\n",
       "      <th>is_FK_Advantage_product</th>\n",
       "      <th>description</th>\n",
       "      <th>product_rating</th>\n",
       "      <th>overall_rating</th>\n",
       "      <th>brand</th>\n",
       "      <th>product_specifications</th>\n",
       "    </tr>\n",
       "  </thead>\n",
       "  <tbody>\n",
       "    <tr>\n",
       "      <th>0</th>\n",
       "      <td>55b85ea15a1536d46b7190ad6fff8ce7</td>\n",
       "      <td>2016-04-30 03:22:56 +0000</td>\n",
       "      <td>http://www.flipkart.com/elegance-polyester-mul...</td>\n",
       "      <td>Elegance Polyester Multicolor Abstract Eyelet ...</td>\n",
       "      <td>[\"Home Furnishing &gt;&gt; Curtains &amp; Accessories &gt;&gt;...</td>\n",
       "      <td>CRNEG7BKMFFYHQ8Z</td>\n",
       "      <td>1899.0</td>\n",
       "      <td>899.0</td>\n",
       "      <td>55b85ea15a1536d46b7190ad6fff8ce7.jpg</td>\n",
       "      <td>False</td>\n",
       "      <td>Key Features of Elegance Polyester Multicolor ...</td>\n",
       "      <td>No rating available</td>\n",
       "      <td>No rating available</td>\n",
       "      <td>Elegance</td>\n",
       "      <td>{\"product_specification\"=&gt;[{\"key\"=&gt;\"Brand\", \"v...</td>\n",
       "    </tr>\n",
       "    <tr>\n",
       "      <th>1</th>\n",
       "      <td>7b72c92c2f6c40268628ec5f14c6d590</td>\n",
       "      <td>2016-04-30 03:22:56 +0000</td>\n",
       "      <td>http://www.flipkart.com/sathiyas-cotton-bath-t...</td>\n",
       "      <td>Sathiyas Cotton Bath Towel</td>\n",
       "      <td>[\"Baby Care &gt;&gt; Baby Bath &amp; Skin &gt;&gt; Baby Bath T...</td>\n",
       "      <td>BTWEGFZHGBXPHZUH</td>\n",
       "      <td>600.0</td>\n",
       "      <td>449.0</td>\n",
       "      <td>7b72c92c2f6c40268628ec5f14c6d590.jpg</td>\n",
       "      <td>False</td>\n",
       "      <td>Specifications of Sathiyas Cotton Bath Towel (...</td>\n",
       "      <td>No rating available</td>\n",
       "      <td>No rating available</td>\n",
       "      <td>Sathiyas</td>\n",
       "      <td>{\"product_specification\"=&gt;[{\"key\"=&gt;\"Machine Wa...</td>\n",
       "    </tr>\n",
       "    <tr>\n",
       "      <th>2</th>\n",
       "      <td>64d5d4a258243731dc7bbb1eef49ad74</td>\n",
       "      <td>2016-04-30 03:22:56 +0000</td>\n",
       "      <td>http://www.flipkart.com/eurospa-cotton-terry-f...</td>\n",
       "      <td>Eurospa Cotton Terry Face Towel Set</td>\n",
       "      <td>[\"Baby Care &gt;&gt; Baby Bath &amp; Skin &gt;&gt; Baby Bath T...</td>\n",
       "      <td>BTWEG6SHXTDB2A2Y</td>\n",
       "      <td>NaN</td>\n",
       "      <td>NaN</td>\n",
       "      <td>64d5d4a258243731dc7bbb1eef49ad74.jpg</td>\n",
       "      <td>False</td>\n",
       "      <td>Key Features of Eurospa Cotton Terry Face Towe...</td>\n",
       "      <td>No rating available</td>\n",
       "      <td>No rating available</td>\n",
       "      <td>Eurospa</td>\n",
       "      <td>{\"product_specification\"=&gt;[{\"key\"=&gt;\"Material\",...</td>\n",
       "    </tr>\n",
       "    <tr>\n",
       "      <th>3</th>\n",
       "      <td>d4684dcdc759dd9cdf41504698d737d8</td>\n",
       "      <td>2016-06-20 08:49:52 +0000</td>\n",
       "      <td>http://www.flipkart.com/santosh-royal-fashion-...</td>\n",
       "      <td>SANTOSH ROYAL FASHION Cotton Printed King size...</td>\n",
       "      <td>[\"Home Furnishing &gt;&gt; Bed Linen &gt;&gt; Bedsheets &gt;&gt;...</td>\n",
       "      <td>BDSEJT9UQWHDUBH4</td>\n",
       "      <td>2699.0</td>\n",
       "      <td>1299.0</td>\n",
       "      <td>d4684dcdc759dd9cdf41504698d737d8.jpg</td>\n",
       "      <td>False</td>\n",
       "      <td>Key Features of SANTOSH ROYAL FASHION Cotton P...</td>\n",
       "      <td>No rating available</td>\n",
       "      <td>No rating available</td>\n",
       "      <td>SANTOSH ROYAL FASHION</td>\n",
       "      <td>{\"product_specification\"=&gt;[{\"key\"=&gt;\"Brand\", \"v...</td>\n",
       "    </tr>\n",
       "    <tr>\n",
       "      <th>4</th>\n",
       "      <td>6325b6870c54cd47be6ebfbffa620ec7</td>\n",
       "      <td>2016-06-20 08:49:52 +0000</td>\n",
       "      <td>http://www.flipkart.com/jaipur-print-cotton-fl...</td>\n",
       "      <td>Jaipur Print Cotton Floral King sized Double B...</td>\n",
       "      <td>[\"Home Furnishing &gt;&gt; Bed Linen &gt;&gt; Bedsheets &gt;&gt;...</td>\n",
       "      <td>BDSEJTHNGWVGWWQU</td>\n",
       "      <td>2599.0</td>\n",
       "      <td>698.0</td>\n",
       "      <td>6325b6870c54cd47be6ebfbffa620ec7.jpg</td>\n",
       "      <td>False</td>\n",
       "      <td>Key Features of Jaipur Print Cotton Floral Kin...</td>\n",
       "      <td>No rating available</td>\n",
       "      <td>No rating available</td>\n",
       "      <td>Jaipur Print</td>\n",
       "      <td>{\"product_specification\"=&gt;[{\"key\"=&gt;\"Machine Wa...</td>\n",
       "    </tr>\n",
       "    <tr>\n",
       "      <th>...</th>\n",
       "      <td>...</td>\n",
       "      <td>...</td>\n",
       "      <td>...</td>\n",
       "      <td>...</td>\n",
       "      <td>...</td>\n",
       "      <td>...</td>\n",
       "      <td>...</td>\n",
       "      <td>...</td>\n",
       "      <td>...</td>\n",
       "      <td>...</td>\n",
       "      <td>...</td>\n",
       "      <td>...</td>\n",
       "      <td>...</td>\n",
       "      <td>...</td>\n",
       "      <td>...</td>\n",
       "    </tr>\n",
       "    <tr>\n",
       "      <th>1045</th>\n",
       "      <td>958f54f4c46b53c8a0a9b8167d9140bc</td>\n",
       "      <td>2015-12-01 10:15:43 +0000</td>\n",
       "      <td>http://www.flipkart.com/oren-empower-extra-lar...</td>\n",
       "      <td>Oren Empower Extra Large Self Adhesive Sticker</td>\n",
       "      <td>[\"Baby Care &gt;&gt; Baby &amp; Kids Gifts &gt;&gt; Stickers &gt;...</td>\n",
       "      <td>STIE88ZGTX65GH4V</td>\n",
       "      <td>1399.0</td>\n",
       "      <td>999.0</td>\n",
       "      <td>958f54f4c46b53c8a0a9b8167d9140bc.jpg</td>\n",
       "      <td>False</td>\n",
       "      <td>Oren Empower Extra Large Self Adhesive Sticker...</td>\n",
       "      <td>No rating available</td>\n",
       "      <td>No rating available</td>\n",
       "      <td>Oren Empower</td>\n",
       "      <td>{\"product_specification\"=&gt;[{\"key\"=&gt;\"Number of ...</td>\n",
       "    </tr>\n",
       "    <tr>\n",
       "      <th>1046</th>\n",
       "      <td>fd6cbcc22efb6b761bd564c28928483c</td>\n",
       "      <td>2015-12-01 10:15:43 +0000</td>\n",
       "      <td>http://www.flipkart.com/wallmantra-large-vinyl...</td>\n",
       "      <td>Wallmantra Large Vinyl Sticker Sticker</td>\n",
       "      <td>[\"Baby Care &gt;&gt; Baby &amp; Kids Gifts &gt;&gt; Stickers &gt;...</td>\n",
       "      <td>STIEC889ZD5GDCVQ</td>\n",
       "      <td>4930.0</td>\n",
       "      <td>1896.0</td>\n",
       "      <td>fd6cbcc22efb6b761bd564c28928483c.jpg</td>\n",
       "      <td>False</td>\n",
       "      <td>Wallmantra Large Vinyl Sticker Sticker (Pack o...</td>\n",
       "      <td>No rating available</td>\n",
       "      <td>No rating available</td>\n",
       "      <td>Wallmantra</td>\n",
       "      <td>{\"product_specification\"=&gt;[{\"key\"=&gt;\"Number of ...</td>\n",
       "    </tr>\n",
       "    <tr>\n",
       "      <th>1047</th>\n",
       "      <td>5912e037d12774bb73a2048f35a00009</td>\n",
       "      <td>2015-12-01 10:15:43 +0000</td>\n",
       "      <td>http://www.flipkart.com/uberlyfe-extra-large-p...</td>\n",
       "      <td>Uberlyfe Extra Large Pigmented Polyvinyl Films...</td>\n",
       "      <td>[\"Baby Care &gt;&gt; Baby &amp; Kids Gifts &gt;&gt; Stickers &gt;...</td>\n",
       "      <td>STIE5UVGW2JWVWCT</td>\n",
       "      <td>4500.0</td>\n",
       "      <td>1449.0</td>\n",
       "      <td>5912e037d12774bb73a2048f35a00009.jpg</td>\n",
       "      <td>False</td>\n",
       "      <td>Buy Uberlyfe Extra Large Pigmented Polyvinyl F...</td>\n",
       "      <td>No rating available</td>\n",
       "      <td>No rating available</td>\n",
       "      <td>Uberlyfe</td>\n",
       "      <td>{\"product_specification\"=&gt;[{\"key\"=&gt;\"Number of ...</td>\n",
       "    </tr>\n",
       "    <tr>\n",
       "      <th>1048</th>\n",
       "      <td>c3edc504d1b4f0ba6224fa53a43a7ad6</td>\n",
       "      <td>2015-12-01 10:15:43 +0000</td>\n",
       "      <td>http://www.flipkart.com/wallmantra-medium-viny...</td>\n",
       "      <td>Wallmantra Medium Vinyl Sticker Sticker</td>\n",
       "      <td>[\"Baby Care &gt;&gt; Baby &amp; Kids Gifts &gt;&gt; Stickers &gt;...</td>\n",
       "      <td>STIEC889ZGFD3RCE</td>\n",
       "      <td>3465.0</td>\n",
       "      <td>1333.0</td>\n",
       "      <td>c3edc504d1b4f0ba6224fa53a43a7ad6.jpg</td>\n",
       "      <td>False</td>\n",
       "      <td>Buy Wallmantra Medium Vinyl Sticker Sticker fo...</td>\n",
       "      <td>No rating available</td>\n",
       "      <td>No rating available</td>\n",
       "      <td>Wallmantra</td>\n",
       "      <td>{\"product_specification\"=&gt;[{\"key\"=&gt;\"Number of ...</td>\n",
       "    </tr>\n",
       "    <tr>\n",
       "      <th>1049</th>\n",
       "      <td>f2f027ad6a6df617c9f125173da71e44</td>\n",
       "      <td>2015-12-01 10:15:43 +0000</td>\n",
       "      <td>http://www.flipkart.com/uberlyfe-large-vinyl-s...</td>\n",
       "      <td>Uberlyfe Large Vinyl Sticker</td>\n",
       "      <td>[\"Baby Care &gt;&gt; Baby &amp; Kids Gifts &gt;&gt; Stickers &gt;...</td>\n",
       "      <td>STIE2ZEPACRQJKH7</td>\n",
       "      <td>1190.0</td>\n",
       "      <td>595.0</td>\n",
       "      <td>f2f027ad6a6df617c9f125173da71e44.jpg</td>\n",
       "      <td>False</td>\n",
       "      <td>Buy Uberlyfe Large Vinyl Sticker for Rs.595 on...</td>\n",
       "      <td>4</td>\n",
       "      <td>4</td>\n",
       "      <td>Uberlyfe</td>\n",
       "      <td>{\"product_specification\"=&gt;[{\"key\"=&gt;\"Sales Pack...</td>\n",
       "    </tr>\n",
       "  </tbody>\n",
       "</table>\n",
       "<p>993 rows × 15 columns</p>\n",
       "</div>"
      ],
      "text/plain": [
       "                               uniq_id            crawl_timestamp  \\\n",
       "0     55b85ea15a1536d46b7190ad6fff8ce7  2016-04-30 03:22:56 +0000   \n",
       "1     7b72c92c2f6c40268628ec5f14c6d590  2016-04-30 03:22:56 +0000   \n",
       "2     64d5d4a258243731dc7bbb1eef49ad74  2016-04-30 03:22:56 +0000   \n",
       "3     d4684dcdc759dd9cdf41504698d737d8  2016-06-20 08:49:52 +0000   \n",
       "4     6325b6870c54cd47be6ebfbffa620ec7  2016-06-20 08:49:52 +0000   \n",
       "...                                ...                        ...   \n",
       "1045  958f54f4c46b53c8a0a9b8167d9140bc  2015-12-01 10:15:43 +0000   \n",
       "1046  fd6cbcc22efb6b761bd564c28928483c  2015-12-01 10:15:43 +0000   \n",
       "1047  5912e037d12774bb73a2048f35a00009  2015-12-01 10:15:43 +0000   \n",
       "1048  c3edc504d1b4f0ba6224fa53a43a7ad6  2015-12-01 10:15:43 +0000   \n",
       "1049  f2f027ad6a6df617c9f125173da71e44  2015-12-01 10:15:43 +0000   \n",
       "\n",
       "                                            product_url  \\\n",
       "0     http://www.flipkart.com/elegance-polyester-mul...   \n",
       "1     http://www.flipkart.com/sathiyas-cotton-bath-t...   \n",
       "2     http://www.flipkart.com/eurospa-cotton-terry-f...   \n",
       "3     http://www.flipkart.com/santosh-royal-fashion-...   \n",
       "4     http://www.flipkart.com/jaipur-print-cotton-fl...   \n",
       "...                                                 ...   \n",
       "1045  http://www.flipkart.com/oren-empower-extra-lar...   \n",
       "1046  http://www.flipkart.com/wallmantra-large-vinyl...   \n",
       "1047  http://www.flipkart.com/uberlyfe-extra-large-p...   \n",
       "1048  http://www.flipkart.com/wallmantra-medium-viny...   \n",
       "1049  http://www.flipkart.com/uberlyfe-large-vinyl-s...   \n",
       "\n",
       "                                           product_name  \\\n",
       "0     Elegance Polyester Multicolor Abstract Eyelet ...   \n",
       "1                            Sathiyas Cotton Bath Towel   \n",
       "2                   Eurospa Cotton Terry Face Towel Set   \n",
       "3     SANTOSH ROYAL FASHION Cotton Printed King size...   \n",
       "4     Jaipur Print Cotton Floral King sized Double B...   \n",
       "...                                                 ...   \n",
       "1045     Oren Empower Extra Large Self Adhesive Sticker   \n",
       "1046             Wallmantra Large Vinyl Sticker Sticker   \n",
       "1047  Uberlyfe Extra Large Pigmented Polyvinyl Films...   \n",
       "1048            Wallmantra Medium Vinyl Sticker Sticker   \n",
       "1049                       Uberlyfe Large Vinyl Sticker   \n",
       "\n",
       "                                  product_category_tree               pid  \\\n",
       "0     [\"Home Furnishing >> Curtains & Accessories >>...  CRNEG7BKMFFYHQ8Z   \n",
       "1     [\"Baby Care >> Baby Bath & Skin >> Baby Bath T...  BTWEGFZHGBXPHZUH   \n",
       "2     [\"Baby Care >> Baby Bath & Skin >> Baby Bath T...  BTWEG6SHXTDB2A2Y   \n",
       "3     [\"Home Furnishing >> Bed Linen >> Bedsheets >>...  BDSEJT9UQWHDUBH4   \n",
       "4     [\"Home Furnishing >> Bed Linen >> Bedsheets >>...  BDSEJTHNGWVGWWQU   \n",
       "...                                                 ...               ...   \n",
       "1045  [\"Baby Care >> Baby & Kids Gifts >> Stickers >...  STIE88ZGTX65GH4V   \n",
       "1046  [\"Baby Care >> Baby & Kids Gifts >> Stickers >...  STIEC889ZD5GDCVQ   \n",
       "1047  [\"Baby Care >> Baby & Kids Gifts >> Stickers >...  STIE5UVGW2JWVWCT   \n",
       "1048  [\"Baby Care >> Baby & Kids Gifts >> Stickers >...  STIEC889ZGFD3RCE   \n",
       "1049  [\"Baby Care >> Baby & Kids Gifts >> Stickers >...  STIE2ZEPACRQJKH7   \n",
       "\n",
       "      retail_price  discounted_price                                 image  \\\n",
       "0           1899.0             899.0  55b85ea15a1536d46b7190ad6fff8ce7.jpg   \n",
       "1            600.0             449.0  7b72c92c2f6c40268628ec5f14c6d590.jpg   \n",
       "2              NaN               NaN  64d5d4a258243731dc7bbb1eef49ad74.jpg   \n",
       "3           2699.0            1299.0  d4684dcdc759dd9cdf41504698d737d8.jpg   \n",
       "4           2599.0             698.0  6325b6870c54cd47be6ebfbffa620ec7.jpg   \n",
       "...            ...               ...                                   ...   \n",
       "1045        1399.0             999.0  958f54f4c46b53c8a0a9b8167d9140bc.jpg   \n",
       "1046        4930.0            1896.0  fd6cbcc22efb6b761bd564c28928483c.jpg   \n",
       "1047        4500.0            1449.0  5912e037d12774bb73a2048f35a00009.jpg   \n",
       "1048        3465.0            1333.0  c3edc504d1b4f0ba6224fa53a43a7ad6.jpg   \n",
       "1049        1190.0             595.0  f2f027ad6a6df617c9f125173da71e44.jpg   \n",
       "\n",
       "      is_FK_Advantage_product  \\\n",
       "0                       False   \n",
       "1                       False   \n",
       "2                       False   \n",
       "3                       False   \n",
       "4                       False   \n",
       "...                       ...   \n",
       "1045                    False   \n",
       "1046                    False   \n",
       "1047                    False   \n",
       "1048                    False   \n",
       "1049                    False   \n",
       "\n",
       "                                            description       product_rating  \\\n",
       "0     Key Features of Elegance Polyester Multicolor ...  No rating available   \n",
       "1     Specifications of Sathiyas Cotton Bath Towel (...  No rating available   \n",
       "2     Key Features of Eurospa Cotton Terry Face Towe...  No rating available   \n",
       "3     Key Features of SANTOSH ROYAL FASHION Cotton P...  No rating available   \n",
       "4     Key Features of Jaipur Print Cotton Floral Kin...  No rating available   \n",
       "...                                                 ...                  ...   \n",
       "1045  Oren Empower Extra Large Self Adhesive Sticker...  No rating available   \n",
       "1046  Wallmantra Large Vinyl Sticker Sticker (Pack o...  No rating available   \n",
       "1047  Buy Uberlyfe Extra Large Pigmented Polyvinyl F...  No rating available   \n",
       "1048  Buy Wallmantra Medium Vinyl Sticker Sticker fo...  No rating available   \n",
       "1049  Buy Uberlyfe Large Vinyl Sticker for Rs.595 on...                    4   \n",
       "\n",
       "           overall_rating                  brand  \\\n",
       "0     No rating available               Elegance   \n",
       "1     No rating available               Sathiyas   \n",
       "2     No rating available                Eurospa   \n",
       "3     No rating available  SANTOSH ROYAL FASHION   \n",
       "4     No rating available           Jaipur Print   \n",
       "...                   ...                    ...   \n",
       "1045  No rating available           Oren Empower   \n",
       "1046  No rating available             Wallmantra   \n",
       "1047  No rating available               Uberlyfe   \n",
       "1048  No rating available             Wallmantra   \n",
       "1049                    4               Uberlyfe   \n",
       "\n",
       "                                 product_specifications  \n",
       "0     {\"product_specification\"=>[{\"key\"=>\"Brand\", \"v...  \n",
       "1     {\"product_specification\"=>[{\"key\"=>\"Machine Wa...  \n",
       "2     {\"product_specification\"=>[{\"key\"=>\"Material\",...  \n",
       "3     {\"product_specification\"=>[{\"key\"=>\"Brand\", \"v...  \n",
       "4     {\"product_specification\"=>[{\"key\"=>\"Machine Wa...  \n",
       "...                                                 ...  \n",
       "1045  {\"product_specification\"=>[{\"key\"=>\"Number of ...  \n",
       "1046  {\"product_specification\"=>[{\"key\"=>\"Number of ...  \n",
       "1047  {\"product_specification\"=>[{\"key\"=>\"Number of ...  \n",
       "1048  {\"product_specification\"=>[{\"key\"=>\"Number of ...  \n",
       "1049  {\"product_specification\"=>[{\"key\"=>\"Sales Pack...  \n",
       "\n",
       "[993 rows x 15 columns]"
      ]
     },
     "execution_count": 7,
     "metadata": {},
     "output_type": "execute_result"
    }
   ],
   "source": [
    "df.loc[\n",
    "    df['is_FK_Advantage_product'] == False\n",
    "]"
   ]
  },
  {
   "cell_type": "code",
   "execution_count": 4,
   "id": "6b4eec1f",
   "metadata": {},
   "outputs": [
    {
     "data": {
      "text/html": [
       "<div>\n",
       "<style scoped>\n",
       "    .dataframe tbody tr th:only-of-type {\n",
       "        vertical-align: middle;\n",
       "    }\n",
       "\n",
       "    .dataframe tbody tr th {\n",
       "        vertical-align: top;\n",
       "    }\n",
       "\n",
       "    .dataframe thead th {\n",
       "        text-align: right;\n",
       "    }\n",
       "</style>\n",
       "<table border=\"1\" class=\"dataframe\">\n",
       "  <thead>\n",
       "    <tr style=\"text-align: right;\">\n",
       "      <th></th>\n",
       "      <th>product_category_tree</th>\n",
       "      <th>product_name</th>\n",
       "      <th>description</th>\n",
       "      <th>product_specifications</th>\n",
       "    </tr>\n",
       "  </thead>\n",
       "  <tbody>\n",
       "    <tr>\n",
       "      <th>0</th>\n",
       "      <td>[\"Home Furnishing &gt;&gt; Curtains &amp; Accessories &gt;&gt; Curtains &gt;&gt; Elegance Polyester Multicolor Abstract Eyelet Do...\"]</td>\n",
       "      <td>Elegance Polyester Multicolor Abstract Eyelet Door Curtain</td>\n",
       "      <td>Key Features of Elegance Polyester Multicolor Abstract Eyelet Door Curtain Floral Curtain,Elegance Polyester Multicolor Abstract Eyelet Door Curtain (213 cm in Height, Pack of 2) Price: Rs. 899 This curtain enhances the look of the interiors.This curtain is made from 100% high quality polyester fabric.It features an eyelet style stitch with Metal Ring.It makes the room environment romantic and loving.This curtain is ant- wrinkle and anti shrinkage and have elegant apparance.Give your home a ...</td>\n",
       "      <td>{\"product_specification\"=&gt;[{\"key\"=&gt;\"Brand\", \"value\"=&gt;\"Elegance\"}, {\"key\"=&gt;\"Designed For\", \"value\"=&gt;\"Door\"}, {\"key\"=&gt;\"Type\", \"value\"=&gt;\"Eyelet\"}, {\"key\"=&gt;\"Model Name\", \"value\"=&gt;\"Abstract Polyester Door Curtain Set Of 2\"}, {\"key\"=&gt;\"Model ID\", \"value\"=&gt;\"Duster25\"}, {\"key\"=&gt;\"Color\", \"value\"=&gt;\"Multicolor\"}, {\"key\"=&gt;\"Length\", \"value\"=&gt;\"213 cm\"}, {\"key\"=&gt;\"Number of Contents in Sales Package\", \"value\"=&gt;\"Pack of 2\"}, {\"key\"=&gt;\"Sales Package\", \"value\"=&gt;\"2 Curtains\"}, {\"key\"=&gt;\"Material\", \"value\"=&gt;\"Polyes...</td>\n",
       "    </tr>\n",
       "    <tr>\n",
       "      <th>1</th>\n",
       "      <td>[\"Baby Care &gt;&gt; Baby Bath &amp; Skin &gt;&gt; Baby Bath Towels &gt;&gt; Sathiyas Baby Bath Towels &gt;&gt; Sathiyas Cotton Bath Towel (3 Bath Towel, Red, Y...\"]</td>\n",
       "      <td>Sathiyas Cotton Bath Towel</td>\n",
       "      <td>Specifications of Sathiyas Cotton Bath Towel (3 Bath Towel, Red, Yellow, Blue) Bath Towel Features Machine Washable Yes Material Cotton Design Self Design General Brand Sathiyas Type Bath Towel GSM 500 Model Name Sathiyas cotton bath towel Ideal For Men, Women, Boys, Girls Model ID asvtwl322 Color Red, Yellow, Blue Size Mediam Dimensions Length 30 inch Width 60 inch In the Box Number of Contents in Sales Package 3 Sales Package 3 Bath Towel</td>\n",
       "      <td>{\"product_specification\"=&gt;[{\"key\"=&gt;\"Machine Washable\", \"value\"=&gt;\"Yes\"}, {\"key\"=&gt;\"Material\", \"value\"=&gt;\"Cotton\"}, {\"key\"=&gt;\"Design\", \"value\"=&gt;\"Self Design\"}, {\"key\"=&gt;\"Brand\", \"value\"=&gt;\"Sathiyas\"}, {\"key\"=&gt;\"Type\", \"value\"=&gt;\"Bath Towel\"}, {\"key\"=&gt;\"GSM\", \"value\"=&gt;\"500\"}, {\"key\"=&gt;\"Model Name\", \"value\"=&gt;\"Sathiyas cotton bath towel\"}, {\"key\"=&gt;\"Ideal For\", \"value\"=&gt;\"Men, Women, Boys, Girls\"}, {\"key\"=&gt;\"Model ID\", \"value\"=&gt;\"asvtwl322\"}, {\"key\"=&gt;\"Color\", \"value\"=&gt;\"Red, Yellow, Blue\"}, {\"key\"=&gt;\"Size\", \"va...</td>\n",
       "    </tr>\n",
       "    <tr>\n",
       "      <th>2</th>\n",
       "      <td>[\"Baby Care &gt;&gt; Baby Bath &amp; Skin &gt;&gt; Baby Bath Towels &gt;&gt; Eurospa Baby Bath Towels &gt;&gt; Eurospa Cotton Terry Face Towel Set (20 PIECE FA...\"]</td>\n",
       "      <td>Eurospa Cotton Terry Face Towel Set</td>\n",
       "      <td>Key Features of Eurospa Cotton Terry Face Towel Set Size: small Height: 9 inch GSM: 360,Eurospa Cotton Terry Face Towel Set (20 PIECE FACE TOWEL SET, Assorted) Price: Rs. 299 Eurospa brings to you an exclusively designed, 100% soft cotton towels of export quality. All our products have soft texture that takes care of your skin and gives you that enriched feeling you deserve. Eurospa has been exporting its bath towels to lot of renowned brands for last 10 years and is famous for its fine prin...</td>\n",
       "      <td>{\"product_specification\"=&gt;[{\"key\"=&gt;\"Material\", \"value\"=&gt;\"Cotton Terry\"}, {\"key\"=&gt;\"Design\", \"value\"=&gt;\"SHUVAM\"}, {\"key\"=&gt;\"Brand\", \"value\"=&gt;\"Eurospa\"}, {\"key\"=&gt;\"GSM\", \"value\"=&gt;\"360\"}, {\"key\"=&gt;\"Type\", \"value\"=&gt;\"Face Towel Set\"}, {\"key\"=&gt;\"Model Name\", \"value\"=&gt;\"SHUVAM20PCFTSETASSORTED\"}, {\"key\"=&gt;\"Ideal For\", \"value\"=&gt;\"Boys, Girls, Men, Women\"}, {\"key\"=&gt;\"Model ID\", \"value\"=&gt;\"SHUVAM20PCFTSETASSORTED\"}, {\"key\"=&gt;\"Size\", \"value\"=&gt;\"small\"}, {\"key\"=&gt;\"Color\", \"value\"=&gt;\"Assorted\"}, {\"key\"=&gt;\"Weight\", \"valu...</td>\n",
       "    </tr>\n",
       "    <tr>\n",
       "      <th>3</th>\n",
       "      <td>[\"Home Furnishing &gt;&gt; Bed Linen &gt;&gt; Bedsheets &gt;&gt; SANTOSH ROYAL FASHION Bedsheets &gt;&gt; SANTOSH ROYAL FASHION Cotton Printed King sized ...\"]</td>\n",
       "      <td>SANTOSH ROYAL FASHION Cotton Printed King sized Double Bedsheet</td>\n",
       "      <td>Key Features of SANTOSH ROYAL FASHION Cotton Printed King sized Double Bedsheet Royal Bedsheet Perfact for Wedding &amp; Gifting,Specifications of SANTOSH ROYAL FASHION Cotton Printed King sized Double Bedsheet (1 Bedsheet,2 Pillow Cover, Multicolor) General Brand SANTOSH ROYAL FASHION Machine Washable Yes Type Flat Material Cotton Model Name Gold Design Royal Cotton Printed Wedding &amp; Gifted Double Bedsheet With 2 Pillow cover Model ID goldbedi-38 Color Multicolor Size King Fabric Care Machine W...</td>\n",
       "      <td>{\"product_specification\"=&gt;[{\"key\"=&gt;\"Brand\", \"value\"=&gt;\"SANTOSH ROYAL FASHION\"}, {\"key\"=&gt;\"Machine Washable\", \"value\"=&gt;\"Yes\"}, {\"key\"=&gt;\"Type\", \"value\"=&gt;\"Flat\"}, {\"key\"=&gt;\"Material\", \"value\"=&gt;\"Cotton\"}, {\"key\"=&gt;\"Model Name\", \"value\"=&gt;\"Gold Design Royal Cotton Printed Wedding and Gifted Double Bedsheet With 2 Pillow cover\"}, {\"key\"=&gt;\"Model ID\", \"value\"=&gt;\"goldbedi-38\"}, {\"key\"=&gt;\"Color\", \"value\"=&gt;\"Multicolor\"}, {\"key\"=&gt;\"Size\", \"value\"=&gt;\"King\"}, {\"key\"=&gt;\"Fabric Care\", \"value\"=&gt;\"Machine Wash, Do Not B...</td>\n",
       "    </tr>\n",
       "    <tr>\n",
       "      <th>4</th>\n",
       "      <td>[\"Home Furnishing &gt;&gt; Bed Linen &gt;&gt; Bedsheets &gt;&gt; Jaipur Print Bedsheets &gt;&gt; Jaipur Print Cotton Floral King sized Double Bed...\"]</td>\n",
       "      <td>Jaipur Print Cotton Floral King sized Double Bedsheet</td>\n",
       "      <td>Key Features of Jaipur Print Cotton Floral King sized Double Bedsheet 100% cotton,Jaipur Print Cotton Floral King sized Double Bedsheet (1 bed sheet 2 pillow cover, White) Price: Rs. 998 This nice bed sheet made up of 100% cotton to give you comfort. This bed sheet is hand printed. This bedsheet gives nice look to your room And its fast colour and good quality gives this bedsheet long life.,Specifications of Jaipur Print Cotton Floral King sized Double Bedsheet (1 bed sheet 2 pillow cover, W...</td>\n",
       "      <td>{\"product_specification\"=&gt;[{\"key\"=&gt;\"Machine Washable\", \"value\"=&gt;\"Yes\"}, {\"key\"=&gt;\"Brand\", \"value\"=&gt;\"Jaipur Print\"}, {\"key\"=&gt;\"Type\", \"value\"=&gt;\"Flat\"}, {\"key\"=&gt;\"Model Name\", \"value\"=&gt;\"jaipur117\"}, {\"key\"=&gt;\"Material\", \"value\"=&gt;\"Cotton\"}, {\"key\"=&gt;\"Thread Count\", \"value\"=&gt;\"140\"}, {\"key\"=&gt;\"Model ID\", \"value\"=&gt;\"jaipur117\"}, {\"key\"=&gt;\"Fabric Care\", \"value\"=&gt;\"machinewash, do not bleach\"}, {\"key\"=&gt;\"Size\", \"value\"=&gt;\"King\"}, {\"key\"=&gt;\"Color\", \"value\"=&gt;\"White\"}, {\"value\"=&gt;\"waranty of the product only for ma...</td>\n",
       "    </tr>\n",
       "    <tr>\n",
       "      <th>...</th>\n",
       "      <td>...</td>\n",
       "      <td>...</td>\n",
       "      <td>...</td>\n",
       "      <td>...</td>\n",
       "    </tr>\n",
       "    <tr>\n",
       "      <th>1045</th>\n",
       "      <td>[\"Baby Care &gt;&gt; Baby &amp; Kids Gifts &gt;&gt; Stickers &gt;&gt; Oren Empower Stickers\"]</td>\n",
       "      <td>Oren Empower Extra Large Self Adhesive Sticker</td>\n",
       "      <td>Oren Empower Extra Large Self Adhesive Sticker (Pack of 2)\\r\\n                         Price: Rs. 999\\r\\n\\t\\t\\t\\t\\r\\n\\t\\t\\tDouble sticker can be used for the big walls. Two pieces is there that can be arranged alternatively or reflectively. This will d�cor the wall like 3d look. Tree with the green shaded leaves will give the sharp feature of the greenery. Reusable i.e. Can be used again after applied once. Simple remove and re-use the sticker on same or another wall with a different idea\\r\\...</td>\n",
       "      <td>{\"product_specification\"=&gt;[{\"key\"=&gt;\"Number of Contents in Sales Package\", \"value\"=&gt;\"Pack of 2\"}, {\"key\"=&gt;\"Sales Package\", \"value\"=&gt;\"Sheet Containing Set of Small Stickers\"}, {\"key\"=&gt;\"Ideal Use\", \"value\"=&gt;\"Any place where there is need of ample decoration\"}, {\"key\"=&gt;\"Brand\", \"value\"=&gt;\"Oren Empower\"}, {\"key\"=&gt;\"Acid Free\", \"value\"=&gt;\"No\"}, {\"key\"=&gt;\"Type\", \"value\"=&gt;\"Self Adhesive\"}, {\"key\"=&gt;\"Size in Number\", \"value\"=&gt;\"90 cm\"}, {\"key\"=&gt;\"Material\", \"value\"=&gt;\"PVC Vinyl\"}, {\"key\"=&gt;\"Lamination Type\", ...</td>\n",
       "    </tr>\n",
       "    <tr>\n",
       "      <th>1046</th>\n",
       "      <td>[\"Baby Care &gt;&gt; Baby &amp; Kids Gifts &gt;&gt; Stickers &gt;&gt; Wallmantra Stickers\"]</td>\n",
       "      <td>Wallmantra Large Vinyl Sticker Sticker</td>\n",
       "      <td>Wallmantra Large Vinyl Sticker Sticker (Pack of 1)\\r\\n                         Price: Rs. 1,896\\r\\n\\t\\t\\t\\t\\r\\n\\t\\t\\tBring home this exclusive Piece of Wall Art to give your home a refreshing look it deserves !\\r\\nWall Decals are the latest trend, sweeping the world of interior design, as a quick and easy way to personalise and transform your home. We at Wallmantra use only the highest quality premium self-adhesive vinyl for our products to ensure you receive the best quality product.\\r\\nThe...</td>\n",
       "      <td>{\"product_specification\"=&gt;[{\"key\"=&gt;\"Number of Contents in Sales Package\", \"value\"=&gt;\"Pack of 1\"}, {\"key\"=&gt;\"Sales Package\", \"value\"=&gt;\"1 Wall Decal/Sticker, 1 Practice Decal, Instructions\"}, {\"key\"=&gt;\"Ideal Use\", \"value\"=&gt;\"Child Bedroom, Bedroom, Living Room\"}, {\"key\"=&gt;\"Brand\", \"value\"=&gt;\"Wallmantra\"}, {\"key\"=&gt;\"Shape\", \"value\"=&gt;\"Rectangular\"}, {\"key\"=&gt;\"Scratch-resistant\", \"value\"=&gt;\"No\"}, {\"key\"=&gt;\"Laminated\", \"value\"=&gt;\"Yes\"}, {\"key\"=&gt;\"Type\", \"value\"=&gt;\"Vinyl Sticker\"}, {\"key\"=&gt;\"Number of Stickers\",...</td>\n",
       "    </tr>\n",
       "    <tr>\n",
       "      <th>1047</th>\n",
       "      <td>[\"Baby Care &gt;&gt; Baby &amp; Kids Gifts &gt;&gt; Stickers &gt;&gt; Uberlyfe Stickers\"]</td>\n",
       "      <td>Uberlyfe Extra Large Pigmented Polyvinyl Films (Imported) Sticker</td>\n",
       "      <td>Buy Uberlyfe Extra Large Pigmented Polyvinyl Films (Imported) Sticker for Rs.1449 online. Uberlyfe Extra Large Pigmented Polyvinyl Films (Imported) Sticker at best prices with FREE shipping &amp; cash on delivery. Only Genuine Products. 30 Day Replacement Guarantee.</td>\n",
       "      <td>{\"product_specification\"=&gt;[{\"key\"=&gt;\"Number of Contents in Sales Package\", \"value\"=&gt;\"Pack of 1\"}, {\"key\"=&gt;\"Sales Package\", \"value\"=&gt;\"Sticker\"}, {\"key\"=&gt;\"Brand\", \"value\"=&gt;\"Uberlyfe\"}, {\"key\"=&gt;\"Type\", \"value\"=&gt;\"Pigmented Polyvinyl Films (Imported)\"}, {\"key\"=&gt;\"Size in Number\", \"value\"=&gt;\"150 cm\"}, {\"key\"=&gt;\"Number of Stickers\", \"value\"=&gt;\"1\"}, {\"key\"=&gt;\"Material\", \"value\"=&gt;\"Polyvinyl\"}, {\"key\"=&gt;\"Size\", \"value\"=&gt;\"Extra Large\"}, {\"key\"=&gt;\"Height\", \"value\"=&gt;\"190 cm\"}, {\"key\"=&gt;\"Width\", \"value\"=&gt;\"260 cm\"}...</td>\n",
       "    </tr>\n",
       "    <tr>\n",
       "      <th>1048</th>\n",
       "      <td>[\"Baby Care &gt;&gt; Baby &amp; Kids Gifts &gt;&gt; Stickers &gt;&gt; Wallmantra Stickers\"]</td>\n",
       "      <td>Wallmantra Medium Vinyl Sticker Sticker</td>\n",
       "      <td>Buy Wallmantra Medium Vinyl Sticker Sticker for Rs.1333 online. Wallmantra Medium Vinyl Sticker Sticker at best prices with FREE shipping &amp; cash on delivery. Only Genuine Products. 30 Day Replacement Guarantee.</td>\n",
       "      <td>{\"product_specification\"=&gt;[{\"key\"=&gt;\"Number of Contents in Sales Package\", \"value\"=&gt;\"Pack of 1\"}, {\"key\"=&gt;\"Sales Package\", \"value\"=&gt;\"1 Wall Decal/Sticker, 1 Practice Decal, Instructions\"}, {\"key\"=&gt;\"Ideal Use\", \"value\"=&gt;\"Child Bedroom, Bedroom, Living Room\"}, {\"key\"=&gt;\"Scratch-resistant\", \"value\"=&gt;\"No\"}, {\"key\"=&gt;\"Shape\", \"value\"=&gt;\"Rectangular\"}, {\"key\"=&gt;\"Brand\", \"value\"=&gt;\"Wallmantra\"}, {\"key\"=&gt;\"Laminated\", \"value\"=&gt;\"Yes\"}, {\"key\"=&gt;\"Type\", \"value\"=&gt;\"Vinyl Sticker\"}, {\"key\"=&gt;\"Size in Number\", \"va...</td>\n",
       "    </tr>\n",
       "    <tr>\n",
       "      <th>1049</th>\n",
       "      <td>[\"Baby Care &gt;&gt; Baby &amp; Kids Gifts &gt;&gt; Stickers &gt;&gt; Uberlyfe Stickers\"]</td>\n",
       "      <td>Uberlyfe Large Vinyl Sticker</td>\n",
       "      <td>Buy Uberlyfe Large Vinyl Sticker for Rs.595 online. Uberlyfe Large Vinyl Sticker at best prices with FREE shipping &amp; cash on delivery. Only Genuine Products. 30 Day Replacement Guarantee.</td>\n",
       "      <td>{\"product_specification\"=&gt;[{\"key\"=&gt;\"Sales Package\", \"value\"=&gt;\"Sticker\"}, {\"key\"=&gt;\"Brand\", \"value\"=&gt;\"Uberlyfe\"}, {\"key\"=&gt;\"Type\", \"value\"=&gt;\"Vinyl\"}, {\"key\"=&gt;\"Number of Stickers\", \"value\"=&gt;\"1\"}, {\"key\"=&gt;\"Size\", \"value\"=&gt;\"Large\"}]}</td>\n",
       "    </tr>\n",
       "  </tbody>\n",
       "</table>\n",
       "<p>1050 rows × 4 columns</p>\n",
       "</div>"
      ],
      "text/plain": [
       "                                                                                                                          product_category_tree  \\\n",
       "0                              [\"Home Furnishing >> Curtains & Accessories >> Curtains >> Elegance Polyester Multicolor Abstract Eyelet Do...\"]   \n",
       "1     [\"Baby Care >> Baby Bath & Skin >> Baby Bath Towels >> Sathiyas Baby Bath Towels >> Sathiyas Cotton Bath Towel (3 Bath Towel, Red, Y...\"]   \n",
       "2      [\"Baby Care >> Baby Bath & Skin >> Baby Bath Towels >> Eurospa Baby Bath Towels >> Eurospa Cotton Terry Face Towel Set (20 PIECE FA...\"]   \n",
       "3       [\"Home Furnishing >> Bed Linen >> Bedsheets >> SANTOSH ROYAL FASHION Bedsheets >> SANTOSH ROYAL FASHION Cotton Printed King sized ...\"]   \n",
       "4                [\"Home Furnishing >> Bed Linen >> Bedsheets >> Jaipur Print Bedsheets >> Jaipur Print Cotton Floral King sized Double Bed...\"]   \n",
       "...                                                                                                                                         ...   \n",
       "1045                                                                    [\"Baby Care >> Baby & Kids Gifts >> Stickers >> Oren Empower Stickers\"]   \n",
       "1046                                                                      [\"Baby Care >> Baby & Kids Gifts >> Stickers >> Wallmantra Stickers\"]   \n",
       "1047                                                                        [\"Baby Care >> Baby & Kids Gifts >> Stickers >> Uberlyfe Stickers\"]   \n",
       "1048                                                                      [\"Baby Care >> Baby & Kids Gifts >> Stickers >> Wallmantra Stickers\"]   \n",
       "1049                                                                        [\"Baby Care >> Baby & Kids Gifts >> Stickers >> Uberlyfe Stickers\"]   \n",
       "\n",
       "                                                           product_name  \\\n",
       "0            Elegance Polyester Multicolor Abstract Eyelet Door Curtain   \n",
       "1                                            Sathiyas Cotton Bath Towel   \n",
       "2                                   Eurospa Cotton Terry Face Towel Set   \n",
       "3       SANTOSH ROYAL FASHION Cotton Printed King sized Double Bedsheet   \n",
       "4                 Jaipur Print Cotton Floral King sized Double Bedsheet   \n",
       "...                                                                 ...   \n",
       "1045                     Oren Empower Extra Large Self Adhesive Sticker   \n",
       "1046                             Wallmantra Large Vinyl Sticker Sticker   \n",
       "1047  Uberlyfe Extra Large Pigmented Polyvinyl Films (Imported) Sticker   \n",
       "1048                            Wallmantra Medium Vinyl Sticker Sticker   \n",
       "1049                                       Uberlyfe Large Vinyl Sticker   \n",
       "\n",
       "                                                                                                                                                                                                                                                                                                                                                                                                                                                                                                              description  \\\n",
       "0     Key Features of Elegance Polyester Multicolor Abstract Eyelet Door Curtain Floral Curtain,Elegance Polyester Multicolor Abstract Eyelet Door Curtain (213 cm in Height, Pack of 2) Price: Rs. 899 This curtain enhances the look of the interiors.This curtain is made from 100% high quality polyester fabric.It features an eyelet style stitch with Metal Ring.It makes the room environment romantic and loving.This curtain is ant- wrinkle and anti shrinkage and have elegant apparance.Give your home a ...   \n",
       "1                                                            Specifications of Sathiyas Cotton Bath Towel (3 Bath Towel, Red, Yellow, Blue) Bath Towel Features Machine Washable Yes Material Cotton Design Self Design General Brand Sathiyas Type Bath Towel GSM 500 Model Name Sathiyas cotton bath towel Ideal For Men, Women, Boys, Girls Model ID asvtwl322 Color Red, Yellow, Blue Size Mediam Dimensions Length 30 inch Width 60 inch In the Box Number of Contents in Sales Package 3 Sales Package 3 Bath Towel   \n",
       "2     Key Features of Eurospa Cotton Terry Face Towel Set Size: small Height: 9 inch GSM: 360,Eurospa Cotton Terry Face Towel Set (20 PIECE FACE TOWEL SET, Assorted) Price: Rs. 299 Eurospa brings to you an exclusively designed, 100% soft cotton towels of export quality. All our products have soft texture that takes care of your skin and gives you that enriched feeling you deserve. Eurospa has been exporting its bath towels to lot of renowned brands for last 10 years and is famous for its fine prin...   \n",
       "3     Key Features of SANTOSH ROYAL FASHION Cotton Printed King sized Double Bedsheet Royal Bedsheet Perfact for Wedding & Gifting,Specifications of SANTOSH ROYAL FASHION Cotton Printed King sized Double Bedsheet (1 Bedsheet,2 Pillow Cover, Multicolor) General Brand SANTOSH ROYAL FASHION Machine Washable Yes Type Flat Material Cotton Model Name Gold Design Royal Cotton Printed Wedding & Gifted Double Bedsheet With 2 Pillow cover Model ID goldbedi-38 Color Multicolor Size King Fabric Care Machine W...   \n",
       "4     Key Features of Jaipur Print Cotton Floral King sized Double Bedsheet 100% cotton,Jaipur Print Cotton Floral King sized Double Bedsheet (1 bed sheet 2 pillow cover, White) Price: Rs. 998 This nice bed sheet made up of 100% cotton to give you comfort. This bed sheet is hand printed. This bedsheet gives nice look to your room And its fast colour and good quality gives this bedsheet long life.,Specifications of Jaipur Print Cotton Floral King sized Double Bedsheet (1 bed sheet 2 pillow cover, W...   \n",
       "...                                                                                                                                                                                                                                                                                                                                                                                                                                                                                                                   ...   \n",
       "1045  Oren Empower Extra Large Self Adhesive Sticker (Pack of 2)\\r\\n                         Price: Rs. 999\\r\\n\\t\\t\\t\\t\\r\\n\\t\\t\\tDouble sticker can be used for the big walls. Two pieces is there that can be arranged alternatively or reflectively. This will d�cor the wall like 3d look. Tree with the green shaded leaves will give the sharp feature of the greenery. Reusable i.e. Can be used again after applied once. Simple remove and re-use the sticker on same or another wall with a different idea\\r\\...   \n",
       "1046  Wallmantra Large Vinyl Sticker Sticker (Pack of 1)\\r\\n                         Price: Rs. 1,896\\r\\n\\t\\t\\t\\t\\r\\n\\t\\t\\tBring home this exclusive Piece of Wall Art to give your home a refreshing look it deserves !\\r\\nWall Decals are the latest trend, sweeping the world of interior design, as a quick and easy way to personalise and transform your home. We at Wallmantra use only the highest quality premium self-adhesive vinyl for our products to ensure you receive the best quality product.\\r\\nThe...   \n",
       "1047                                                                                                                                                                                                                                               Buy Uberlyfe Extra Large Pigmented Polyvinyl Films (Imported) Sticker for Rs.1449 online. Uberlyfe Extra Large Pigmented Polyvinyl Films (Imported) Sticker at best prices with FREE shipping & cash on delivery. Only Genuine Products. 30 Day Replacement Guarantee.   \n",
       "1048                                                                                                                                                                                                                                                                                                   Buy Wallmantra Medium Vinyl Sticker Sticker for Rs.1333 online. Wallmantra Medium Vinyl Sticker Sticker at best prices with FREE shipping & cash on delivery. Only Genuine Products. 30 Day Replacement Guarantee.   \n",
       "1049                                                                                                                                                                                                                                                                                                                          Buy Uberlyfe Large Vinyl Sticker for Rs.595 online. Uberlyfe Large Vinyl Sticker at best prices with FREE shipping & cash on delivery. Only Genuine Products. 30 Day Replacement Guarantee.   \n",
       "\n",
       "                                                                                                                                                                                                                                                                                                                                                                                                                                                                                                   product_specifications  \n",
       "0     {\"product_specification\"=>[{\"key\"=>\"Brand\", \"value\"=>\"Elegance\"}, {\"key\"=>\"Designed For\", \"value\"=>\"Door\"}, {\"key\"=>\"Type\", \"value\"=>\"Eyelet\"}, {\"key\"=>\"Model Name\", \"value\"=>\"Abstract Polyester Door Curtain Set Of 2\"}, {\"key\"=>\"Model ID\", \"value\"=>\"Duster25\"}, {\"key\"=>\"Color\", \"value\"=>\"Multicolor\"}, {\"key\"=>\"Length\", \"value\"=>\"213 cm\"}, {\"key\"=>\"Number of Contents in Sales Package\", \"value\"=>\"Pack of 2\"}, {\"key\"=>\"Sales Package\", \"value\"=>\"2 Curtains\"}, {\"key\"=>\"Material\", \"value\"=>\"Polyes...  \n",
       "1     {\"product_specification\"=>[{\"key\"=>\"Machine Washable\", \"value\"=>\"Yes\"}, {\"key\"=>\"Material\", \"value\"=>\"Cotton\"}, {\"key\"=>\"Design\", \"value\"=>\"Self Design\"}, {\"key\"=>\"Brand\", \"value\"=>\"Sathiyas\"}, {\"key\"=>\"Type\", \"value\"=>\"Bath Towel\"}, {\"key\"=>\"GSM\", \"value\"=>\"500\"}, {\"key\"=>\"Model Name\", \"value\"=>\"Sathiyas cotton bath towel\"}, {\"key\"=>\"Ideal For\", \"value\"=>\"Men, Women, Boys, Girls\"}, {\"key\"=>\"Model ID\", \"value\"=>\"asvtwl322\"}, {\"key\"=>\"Color\", \"value\"=>\"Red, Yellow, Blue\"}, {\"key\"=>\"Size\", \"va...  \n",
       "2     {\"product_specification\"=>[{\"key\"=>\"Material\", \"value\"=>\"Cotton Terry\"}, {\"key\"=>\"Design\", \"value\"=>\"SHUVAM\"}, {\"key\"=>\"Brand\", \"value\"=>\"Eurospa\"}, {\"key\"=>\"GSM\", \"value\"=>\"360\"}, {\"key\"=>\"Type\", \"value\"=>\"Face Towel Set\"}, {\"key\"=>\"Model Name\", \"value\"=>\"SHUVAM20PCFTSETASSORTED\"}, {\"key\"=>\"Ideal For\", \"value\"=>\"Boys, Girls, Men, Women\"}, {\"key\"=>\"Model ID\", \"value\"=>\"SHUVAM20PCFTSETASSORTED\"}, {\"key\"=>\"Size\", \"value\"=>\"small\"}, {\"key\"=>\"Color\", \"value\"=>\"Assorted\"}, {\"key\"=>\"Weight\", \"valu...  \n",
       "3     {\"product_specification\"=>[{\"key\"=>\"Brand\", \"value\"=>\"SANTOSH ROYAL FASHION\"}, {\"key\"=>\"Machine Washable\", \"value\"=>\"Yes\"}, {\"key\"=>\"Type\", \"value\"=>\"Flat\"}, {\"key\"=>\"Material\", \"value\"=>\"Cotton\"}, {\"key\"=>\"Model Name\", \"value\"=>\"Gold Design Royal Cotton Printed Wedding and Gifted Double Bedsheet With 2 Pillow cover\"}, {\"key\"=>\"Model ID\", \"value\"=>\"goldbedi-38\"}, {\"key\"=>\"Color\", \"value\"=>\"Multicolor\"}, {\"key\"=>\"Size\", \"value\"=>\"King\"}, {\"key\"=>\"Fabric Care\", \"value\"=>\"Machine Wash, Do Not B...  \n",
       "4     {\"product_specification\"=>[{\"key\"=>\"Machine Washable\", \"value\"=>\"Yes\"}, {\"key\"=>\"Brand\", \"value\"=>\"Jaipur Print\"}, {\"key\"=>\"Type\", \"value\"=>\"Flat\"}, {\"key\"=>\"Model Name\", \"value\"=>\"jaipur117\"}, {\"key\"=>\"Material\", \"value\"=>\"Cotton\"}, {\"key\"=>\"Thread Count\", \"value\"=>\"140\"}, {\"key\"=>\"Model ID\", \"value\"=>\"jaipur117\"}, {\"key\"=>\"Fabric Care\", \"value\"=>\"machinewash, do not bleach\"}, {\"key\"=>\"Size\", \"value\"=>\"King\"}, {\"key\"=>\"Color\", \"value\"=>\"White\"}, {\"value\"=>\"waranty of the product only for ma...  \n",
       "...                                                                                                                                                                                                                                                                                                                                                                                                                                                                                                                   ...  \n",
       "1045  {\"product_specification\"=>[{\"key\"=>\"Number of Contents in Sales Package\", \"value\"=>\"Pack of 2\"}, {\"key\"=>\"Sales Package\", \"value\"=>\"Sheet Containing Set of Small Stickers\"}, {\"key\"=>\"Ideal Use\", \"value\"=>\"Any place where there is need of ample decoration\"}, {\"key\"=>\"Brand\", \"value\"=>\"Oren Empower\"}, {\"key\"=>\"Acid Free\", \"value\"=>\"No\"}, {\"key\"=>\"Type\", \"value\"=>\"Self Adhesive\"}, {\"key\"=>\"Size in Number\", \"value\"=>\"90 cm\"}, {\"key\"=>\"Material\", \"value\"=>\"PVC Vinyl\"}, {\"key\"=>\"Lamination Type\", ...  \n",
       "1046  {\"product_specification\"=>[{\"key\"=>\"Number of Contents in Sales Package\", \"value\"=>\"Pack of 1\"}, {\"key\"=>\"Sales Package\", \"value\"=>\"1 Wall Decal/Sticker, 1 Practice Decal, Instructions\"}, {\"key\"=>\"Ideal Use\", \"value\"=>\"Child Bedroom, Bedroom, Living Room\"}, {\"key\"=>\"Brand\", \"value\"=>\"Wallmantra\"}, {\"key\"=>\"Shape\", \"value\"=>\"Rectangular\"}, {\"key\"=>\"Scratch-resistant\", \"value\"=>\"No\"}, {\"key\"=>\"Laminated\", \"value\"=>\"Yes\"}, {\"key\"=>\"Type\", \"value\"=>\"Vinyl Sticker\"}, {\"key\"=>\"Number of Stickers\",...  \n",
       "1047  {\"product_specification\"=>[{\"key\"=>\"Number of Contents in Sales Package\", \"value\"=>\"Pack of 1\"}, {\"key\"=>\"Sales Package\", \"value\"=>\"Sticker\"}, {\"key\"=>\"Brand\", \"value\"=>\"Uberlyfe\"}, {\"key\"=>\"Type\", \"value\"=>\"Pigmented Polyvinyl Films (Imported)\"}, {\"key\"=>\"Size in Number\", \"value\"=>\"150 cm\"}, {\"key\"=>\"Number of Stickers\", \"value\"=>\"1\"}, {\"key\"=>\"Material\", \"value\"=>\"Polyvinyl\"}, {\"key\"=>\"Size\", \"value\"=>\"Extra Large\"}, {\"key\"=>\"Height\", \"value\"=>\"190 cm\"}, {\"key\"=>\"Width\", \"value\"=>\"260 cm\"}...  \n",
       "1048  {\"product_specification\"=>[{\"key\"=>\"Number of Contents in Sales Package\", \"value\"=>\"Pack of 1\"}, {\"key\"=>\"Sales Package\", \"value\"=>\"1 Wall Decal/Sticker, 1 Practice Decal, Instructions\"}, {\"key\"=>\"Ideal Use\", \"value\"=>\"Child Bedroom, Bedroom, Living Room\"}, {\"key\"=>\"Scratch-resistant\", \"value\"=>\"No\"}, {\"key\"=>\"Shape\", \"value\"=>\"Rectangular\"}, {\"key\"=>\"Brand\", \"value\"=>\"Wallmantra\"}, {\"key\"=>\"Laminated\", \"value\"=>\"Yes\"}, {\"key\"=>\"Type\", \"value\"=>\"Vinyl Sticker\"}, {\"key\"=>\"Size in Number\", \"va...  \n",
       "1049                                                                                                                                                                                                                                                                                  {\"product_specification\"=>[{\"key\"=>\"Sales Package\", \"value\"=>\"Sticker\"}, {\"key\"=>\"Brand\", \"value\"=>\"Uberlyfe\"}, {\"key\"=>\"Type\", \"value\"=>\"Vinyl\"}, {\"key\"=>\"Number of Stickers\", \"value\"=>\"1\"}, {\"key\"=>\"Size\", \"value\"=>\"Large\"}]}  \n",
       "\n",
       "[1050 rows x 4 columns]"
      ]
     },
     "metadata": {},
     "output_type": "display_data"
    }
   ],
   "source": [
    "with pd.option_context(\"display.max_colwidth\", 500, \"display.max_columns\", 5):\n",
    "    display(df[['product_category_tree',\n",
    "                'product_name',\n",
    "                'description',\n",
    "                'product_specifications'\n",
    "               ]])\n"
   ]
  },
  {
   "cell_type": "markdown",
   "id": "bd0b8762",
   "metadata": {},
   "source": [
    "# Création variable Cible\n",
    "    On sélectionne par expressions régulières la première catégorie de bien.\n",
    "    La plus globale pour chaque type de bien"
   ]
  },
  {
   "cell_type": "code",
   "execution_count": 9,
   "id": "a00f8fc7",
   "metadata": {},
   "outputs": [],
   "source": [
    "import re"
   ]
  },
  {
   "cell_type": "code",
   "execution_count": 24,
   "id": "fa5bad14",
   "metadata": {},
   "outputs": [
    {
     "data": {
      "text/plain": [
       "Home Furnishing               150\n",
       "Baby Care                     150\n",
       "Watches                       150\n",
       "Home Decor & Festive Needs    150\n",
       "Kitchen & Dining              150\n",
       "Beauty and Personal Care      150\n",
       "Computers                     150\n",
       "Name: target, dtype: int64"
      ]
     },
     "execution_count": 24,
     "metadata": {},
     "output_type": "execute_result"
    }
   ],
   "source": [
    "df['target'] = (\n",
    "    df['product_category_tree'].\n",
    "    str.replace(\"\\s+\\>>\\s+.*$\" ,'', regex = True). # On supprime tout après '>>'\n",
    "    str.replace('[','', regex = False). # On supprime les '['\n",
    "    str.replace('\"','', regex = False) # On supprime les '\"'\n",
    ")\n",
    "\n",
    "df['target'].value_counts()"
   ]
  },
  {
   "cell_type": "markdown",
   "id": "7f694bb2",
   "metadata": {},
   "source": [
    "#### Nos classes ont été parfaitement bien réparties (merci OC :))"
   ]
  },
  {
   "cell_type": "markdown",
   "id": "c1849bf4",
   "metadata": {},
   "source": [
    "# Nettoyage Texte"
   ]
  },
  {
   "cell_type": "code",
   "execution_count": 28,
   "id": "b78cbb21",
   "metadata": {},
   "outputs": [],
   "source": [
    "import spacy "
   ]
  },
  {
   "cell_type": "code",
   "execution_count": 81,
   "id": "4020b0c8",
   "metadata": {},
   "outputs": [],
   "source": [
    "from nltk.corpus import stopwords"
   ]
  },
  {
   "cell_type": "code",
   "execution_count": 82,
   "id": "aa6c2a63",
   "metadata": {},
   "outputs": [
    {
     "name": "stdout",
     "output_type": "stream",
     "text": [
      "{'here', 'such', 'to', 'up', 'wouldn', 'for', 'which', 'then', 'y', 'or', 'them', 'any', 'themselves', \"mightn't\", 'as', 'yours', \"didn't\", 'under', 'on', \"she's\", 'too', \"shouldn't\", 'until', 'isn', 'mightn', 't', 're', 'my', 'very', 'against', 'he', 'herself', 'a', 'was', 'and', 'himself', 'hers', 'these', 'haven', 'an', 'her', 'whom', \"that'll\", 'this', 'but', \"shan't\", 'doing', \"couldn't\", 'theirs', 'had', 'so', 'above', 'before', 'during', 'ma', 'of', 'only', 'down', \"wasn't\", 'not', \"hasn't\", 'me', 'both', 'will', 'am', 'have', 'i', \"mustn't\", 'myself', 'because', 'm', 'can', 'at', 'your', 'she', 'with', 'when', 'no', 'about', 'd', 'you', 'does', 'be', 'our', 'nor', 'their', 'again', 'by', 'the', 'all', 'who', 'most', 'that', 'where', \"you'll\", 'each', 'out', 'own', 'same', \"isn't\", 'how', \"don't\", \"won't\", 'from', 'hadn', \"weren't\", 'while', 'has', 'after', 'ourselves', 'were', 'those', 'didn', 'o', \"needn't\", 'other', 'shan', 'we', 'there', 'into', 'further', 'having', 'once', 'll', \"hadn't\", 'yourselves', 've', 'yourself', 's', 'do', \"haven't\", 'wasn', 'doesn', 'off', 'mustn', 'ours', 'its', 'itself', 'being', 'ain', 'needn', 'his', 'more', \"it's\", \"you're\", 'been', 'what', \"you've\", 'over', 'why', 'couldn', 'him', 'are', 'through', 'don', \"aren't\", \"doesn't\", 'should', 'is', \"wouldn't\", 'some', 'weren', 'it', 'than', \"should've\", 'did', 'if', 'won', \"you'd\", 'between', 'hasn', 'few', 'in', 'they', 'just', 'shouldn', 'below', 'now', 'aren'}\n"
     ]
    }
   ],
   "source": [
    "stops = set(stopwords.words('english'))\n",
    "print(stops)"
   ]
  },
  {
   "cell_type": "code",
   "execution_count": 29,
   "id": "279e39ce",
   "metadata": {},
   "outputs": [],
   "source": [
    "nlp = spacy.load(\"en_core_web_sm\")"
   ]
  },
  {
   "cell_type": "code",
   "execution_count": 27,
   "id": "d8bbc5d1",
   "metadata": {
    "scrolled": true
   },
   "outputs": [
    {
     "data": {
      "text/html": [
       "<div>\n",
       "<style scoped>\n",
       "    .dataframe tbody tr th:only-of-type {\n",
       "        vertical-align: middle;\n",
       "    }\n",
       "\n",
       "    .dataframe tbody tr th {\n",
       "        vertical-align: top;\n",
       "    }\n",
       "\n",
       "    .dataframe thead th {\n",
       "        text-align: right;\n",
       "    }\n",
       "</style>\n",
       "<table border=\"1\" class=\"dataframe\">\n",
       "  <thead>\n",
       "    <tr style=\"text-align: right;\">\n",
       "      <th></th>\n",
       "      <th>target</th>\n",
       "      <th>product_name</th>\n",
       "      <th>description</th>\n",
       "    </tr>\n",
       "  </thead>\n",
       "  <tbody>\n",
       "    <tr>\n",
       "      <th>0</th>\n",
       "      <td>Home Furnishing</td>\n",
       "      <td>Elegance Polyester Multicolor Abstract Eyelet Door Curtain</td>\n",
       "      <td>Key Features of Elegance Polyester Multicolor Abstract Eyelet Door Curtain Floral Curtain,Elegance Polyester Multicolor Abstract Eyelet Door Curtain (213 cm in Height, Pack of 2) Price: Rs. 899 This curtain enhances the look of the interiors.This curtain is made from 100% high quality polyester fabric.It features an eyelet style stitch with Metal Ring.It makes the room environment romantic and loving.This curtain is ant- wrinkle and anti shrinkage and have elegant apparance.Give your home a ...</td>\n",
       "    </tr>\n",
       "    <tr>\n",
       "      <th>1</th>\n",
       "      <td>Baby Care</td>\n",
       "      <td>Sathiyas Cotton Bath Towel</td>\n",
       "      <td>Specifications of Sathiyas Cotton Bath Towel (3 Bath Towel, Red, Yellow, Blue) Bath Towel Features Machine Washable Yes Material Cotton Design Self Design General Brand Sathiyas Type Bath Towel GSM 500 Model Name Sathiyas cotton bath towel Ideal For Men, Women, Boys, Girls Model ID asvtwl322 Color Red, Yellow, Blue Size Mediam Dimensions Length 30 inch Width 60 inch In the Box Number of Contents in Sales Package 3 Sales Package 3 Bath Towel</td>\n",
       "    </tr>\n",
       "    <tr>\n",
       "      <th>2</th>\n",
       "      <td>Baby Care</td>\n",
       "      <td>Eurospa Cotton Terry Face Towel Set</td>\n",
       "      <td>Key Features of Eurospa Cotton Terry Face Towel Set Size: small Height: 9 inch GSM: 360,Eurospa Cotton Terry Face Towel Set (20 PIECE FACE TOWEL SET, Assorted) Price: Rs. 299 Eurospa brings to you an exclusively designed, 100% soft cotton towels of export quality. All our products have soft texture that takes care of your skin and gives you that enriched feeling you deserve. Eurospa has been exporting its bath towels to lot of renowned brands for last 10 years and is famous for its fine prin...</td>\n",
       "    </tr>\n",
       "    <tr>\n",
       "      <th>3</th>\n",
       "      <td>Home Furnishing</td>\n",
       "      <td>SANTOSH ROYAL FASHION Cotton Printed King sized Double Bedsheet</td>\n",
       "      <td>Key Features of SANTOSH ROYAL FASHION Cotton Printed King sized Double Bedsheet Royal Bedsheet Perfact for Wedding &amp; Gifting,Specifications of SANTOSH ROYAL FASHION Cotton Printed King sized Double Bedsheet (1 Bedsheet,2 Pillow Cover, Multicolor) General Brand SANTOSH ROYAL FASHION Machine Washable Yes Type Flat Material Cotton Model Name Gold Design Royal Cotton Printed Wedding &amp; Gifted Double Bedsheet With 2 Pillow cover Model ID goldbedi-38 Color Multicolor Size King Fabric Care Machine W...</td>\n",
       "    </tr>\n",
       "    <tr>\n",
       "      <th>4</th>\n",
       "      <td>Home Furnishing</td>\n",
       "      <td>Jaipur Print Cotton Floral King sized Double Bedsheet</td>\n",
       "      <td>Key Features of Jaipur Print Cotton Floral King sized Double Bedsheet 100% cotton,Jaipur Print Cotton Floral King sized Double Bedsheet (1 bed sheet 2 pillow cover, White) Price: Rs. 998 This nice bed sheet made up of 100% cotton to give you comfort. This bed sheet is hand printed. This bedsheet gives nice look to your room And its fast colour and good quality gives this bedsheet long life.,Specifications of Jaipur Print Cotton Floral King sized Double Bedsheet (1 bed sheet 2 pillow cover, W...</td>\n",
       "    </tr>\n",
       "    <tr>\n",
       "      <th>...</th>\n",
       "      <td>...</td>\n",
       "      <td>...</td>\n",
       "      <td>...</td>\n",
       "    </tr>\n",
       "    <tr>\n",
       "      <th>1045</th>\n",
       "      <td>Baby Care</td>\n",
       "      <td>Oren Empower Extra Large Self Adhesive Sticker</td>\n",
       "      <td>Oren Empower Extra Large Self Adhesive Sticker (Pack of 2)\\r\\n                         Price: Rs. 999\\r\\n\\t\\t\\t\\t\\r\\n\\t\\t\\tDouble sticker can be used for the big walls. Two pieces is there that can be arranged alternatively or reflectively. This will d�cor the wall like 3d look. Tree with the green shaded leaves will give the sharp feature of the greenery. Reusable i.e. Can be used again after applied once. Simple remove and re-use the sticker on same or another wall with a different idea\\r\\...</td>\n",
       "    </tr>\n",
       "    <tr>\n",
       "      <th>1046</th>\n",
       "      <td>Baby Care</td>\n",
       "      <td>Wallmantra Large Vinyl Sticker Sticker</td>\n",
       "      <td>Wallmantra Large Vinyl Sticker Sticker (Pack of 1)\\r\\n                         Price: Rs. 1,896\\r\\n\\t\\t\\t\\t\\r\\n\\t\\t\\tBring home this exclusive Piece of Wall Art to give your home a refreshing look it deserves !\\r\\nWall Decals are the latest trend, sweeping the world of interior design, as a quick and easy way to personalise and transform your home. We at Wallmantra use only the highest quality premium self-adhesive vinyl for our products to ensure you receive the best quality product.\\r\\nThe...</td>\n",
       "    </tr>\n",
       "    <tr>\n",
       "      <th>1047</th>\n",
       "      <td>Baby Care</td>\n",
       "      <td>Uberlyfe Extra Large Pigmented Polyvinyl Films (Imported) Sticker</td>\n",
       "      <td>Buy Uberlyfe Extra Large Pigmented Polyvinyl Films (Imported) Sticker for Rs.1449 online. Uberlyfe Extra Large Pigmented Polyvinyl Films (Imported) Sticker at best prices with FREE shipping &amp; cash on delivery. Only Genuine Products. 30 Day Replacement Guarantee.</td>\n",
       "    </tr>\n",
       "    <tr>\n",
       "      <th>1048</th>\n",
       "      <td>Baby Care</td>\n",
       "      <td>Wallmantra Medium Vinyl Sticker Sticker</td>\n",
       "      <td>Buy Wallmantra Medium Vinyl Sticker Sticker for Rs.1333 online. Wallmantra Medium Vinyl Sticker Sticker at best prices with FREE shipping &amp; cash on delivery. Only Genuine Products. 30 Day Replacement Guarantee.</td>\n",
       "    </tr>\n",
       "    <tr>\n",
       "      <th>1049</th>\n",
       "      <td>Baby Care</td>\n",
       "      <td>Uberlyfe Large Vinyl Sticker</td>\n",
       "      <td>Buy Uberlyfe Large Vinyl Sticker for Rs.595 online. Uberlyfe Large Vinyl Sticker at best prices with FREE shipping &amp; cash on delivery. Only Genuine Products. 30 Day Replacement Guarantee.</td>\n",
       "    </tr>\n",
       "  </tbody>\n",
       "</table>\n",
       "<p>1050 rows × 3 columns</p>\n",
       "</div>"
      ],
      "text/plain": [
       "               target  \\\n",
       "0     Home Furnishing   \n",
       "1           Baby Care   \n",
       "2           Baby Care   \n",
       "3     Home Furnishing   \n",
       "4     Home Furnishing   \n",
       "...               ...   \n",
       "1045        Baby Care   \n",
       "1046        Baby Care   \n",
       "1047        Baby Care   \n",
       "1048        Baby Care   \n",
       "1049        Baby Care   \n",
       "\n",
       "                                                           product_name  \\\n",
       "0            Elegance Polyester Multicolor Abstract Eyelet Door Curtain   \n",
       "1                                            Sathiyas Cotton Bath Towel   \n",
       "2                                   Eurospa Cotton Terry Face Towel Set   \n",
       "3       SANTOSH ROYAL FASHION Cotton Printed King sized Double Bedsheet   \n",
       "4                 Jaipur Print Cotton Floral King sized Double Bedsheet   \n",
       "...                                                                 ...   \n",
       "1045                     Oren Empower Extra Large Self Adhesive Sticker   \n",
       "1046                             Wallmantra Large Vinyl Sticker Sticker   \n",
       "1047  Uberlyfe Extra Large Pigmented Polyvinyl Films (Imported) Sticker   \n",
       "1048                            Wallmantra Medium Vinyl Sticker Sticker   \n",
       "1049                                       Uberlyfe Large Vinyl Sticker   \n",
       "\n",
       "                                                                                                                                                                                                                                                                                                                                                                                                                                                                                                              description  \n",
       "0     Key Features of Elegance Polyester Multicolor Abstract Eyelet Door Curtain Floral Curtain,Elegance Polyester Multicolor Abstract Eyelet Door Curtain (213 cm in Height, Pack of 2) Price: Rs. 899 This curtain enhances the look of the interiors.This curtain is made from 100% high quality polyester fabric.It features an eyelet style stitch with Metal Ring.It makes the room environment romantic and loving.This curtain is ant- wrinkle and anti shrinkage and have elegant apparance.Give your home a ...  \n",
       "1                                                            Specifications of Sathiyas Cotton Bath Towel (3 Bath Towel, Red, Yellow, Blue) Bath Towel Features Machine Washable Yes Material Cotton Design Self Design General Brand Sathiyas Type Bath Towel GSM 500 Model Name Sathiyas cotton bath towel Ideal For Men, Women, Boys, Girls Model ID asvtwl322 Color Red, Yellow, Blue Size Mediam Dimensions Length 30 inch Width 60 inch In the Box Number of Contents in Sales Package 3 Sales Package 3 Bath Towel  \n",
       "2     Key Features of Eurospa Cotton Terry Face Towel Set Size: small Height: 9 inch GSM: 360,Eurospa Cotton Terry Face Towel Set (20 PIECE FACE TOWEL SET, Assorted) Price: Rs. 299 Eurospa brings to you an exclusively designed, 100% soft cotton towels of export quality. All our products have soft texture that takes care of your skin and gives you that enriched feeling you deserve. Eurospa has been exporting its bath towels to lot of renowned brands for last 10 years and is famous for its fine prin...  \n",
       "3     Key Features of SANTOSH ROYAL FASHION Cotton Printed King sized Double Bedsheet Royal Bedsheet Perfact for Wedding & Gifting,Specifications of SANTOSH ROYAL FASHION Cotton Printed King sized Double Bedsheet (1 Bedsheet,2 Pillow Cover, Multicolor) General Brand SANTOSH ROYAL FASHION Machine Washable Yes Type Flat Material Cotton Model Name Gold Design Royal Cotton Printed Wedding & Gifted Double Bedsheet With 2 Pillow cover Model ID goldbedi-38 Color Multicolor Size King Fabric Care Machine W...  \n",
       "4     Key Features of Jaipur Print Cotton Floral King sized Double Bedsheet 100% cotton,Jaipur Print Cotton Floral King sized Double Bedsheet (1 bed sheet 2 pillow cover, White) Price: Rs. 998 This nice bed sheet made up of 100% cotton to give you comfort. This bed sheet is hand printed. This bedsheet gives nice look to your room And its fast colour and good quality gives this bedsheet long life.,Specifications of Jaipur Print Cotton Floral King sized Double Bedsheet (1 bed sheet 2 pillow cover, W...  \n",
       "...                                                                                                                                                                                                                                                                                                                                                                                                                                                                                                                   ...  \n",
       "1045  Oren Empower Extra Large Self Adhesive Sticker (Pack of 2)\\r\\n                         Price: Rs. 999\\r\\n\\t\\t\\t\\t\\r\\n\\t\\t\\tDouble sticker can be used for the big walls. Two pieces is there that can be arranged alternatively or reflectively. This will d�cor the wall like 3d look. Tree with the green shaded leaves will give the sharp feature of the greenery. Reusable i.e. Can be used again after applied once. Simple remove and re-use the sticker on same or another wall with a different idea\\r\\...  \n",
       "1046  Wallmantra Large Vinyl Sticker Sticker (Pack of 1)\\r\\n                         Price: Rs. 1,896\\r\\n\\t\\t\\t\\t\\r\\n\\t\\t\\tBring home this exclusive Piece of Wall Art to give your home a refreshing look it deserves !\\r\\nWall Decals are the latest trend, sweeping the world of interior design, as a quick and easy way to personalise and transform your home. We at Wallmantra use only the highest quality premium self-adhesive vinyl for our products to ensure you receive the best quality product.\\r\\nThe...  \n",
       "1047                                                                                                                                                                                                                                               Buy Uberlyfe Extra Large Pigmented Polyvinyl Films (Imported) Sticker for Rs.1449 online. Uberlyfe Extra Large Pigmented Polyvinyl Films (Imported) Sticker at best prices with FREE shipping & cash on delivery. Only Genuine Products. 30 Day Replacement Guarantee.  \n",
       "1048                                                                                                                                                                                                                                                                                                   Buy Wallmantra Medium Vinyl Sticker Sticker for Rs.1333 online. Wallmantra Medium Vinyl Sticker Sticker at best prices with FREE shipping & cash on delivery. Only Genuine Products. 30 Day Replacement Guarantee.  \n",
       "1049                                                                                                                                                                                                                                                                                                                          Buy Uberlyfe Large Vinyl Sticker for Rs.595 online. Uberlyfe Large Vinyl Sticker at best prices with FREE shipping & cash on delivery. Only Genuine Products. 30 Day Replacement Guarantee.  \n",
       "\n",
       "[1050 rows x 3 columns]"
      ]
     },
     "metadata": {},
     "output_type": "display_data"
    }
   ],
   "source": [
    "with pd.option_context(\"display.max_colwidth\", 500, \"display.max_columns\", 5):\n",
    "    display(df[['target',\n",
    "                'product_name',\n",
    "                'description'\n",
    "               ]])\n"
   ]
  },
  {
   "cell_type": "markdown",
   "id": "dadc6697",
   "metadata": {},
   "source": [
    "###### présence de NA ?"
   ]
  },
  {
   "cell_type": "code",
   "execution_count": 30,
   "id": "1f7f0af1",
   "metadata": {},
   "outputs": [
    {
     "data": {
      "text/plain": [
       "target          0.0\n",
       "product_name    0.0\n",
       "description     0.0\n",
       "dtype: float64"
      ]
     },
     "execution_count": 30,
     "metadata": {},
     "output_type": "execute_result"
    }
   ],
   "source": [
    "df[['target',\n",
    "    'product_name',\n",
    "    'description'\n",
    "   ]].isna().mean()"
   ]
  },
  {
   "cell_type": "markdown",
   "id": "8568ac37",
   "metadata": {},
   "source": [
    "###### présence de message vide ?"
   ]
  },
  {
   "cell_type": "code",
   "execution_count": 36,
   "id": "79303a82",
   "metadata": {
    "scrolled": true
   },
   "outputs": [
    {
     "data": {
      "text/plain": [
       "(0.0, 0.0, 0.0)"
      ]
     },
     "execution_count": 36,
     "metadata": {},
     "output_type": "execute_result"
    }
   ],
   "source": [
    "(df['target'] == '').mean(),(df['product_name'] == '').mean(),(df['description'] == '').mean()"
   ]
  },
  {
   "cell_type": "markdown",
   "id": "0366460b",
   "metadata": {},
   "source": [
    "### Nettoyage par Regex\n",
    "    \\n, \\t, \\r n'apporte pas d'information "
   ]
  },
  {
   "cell_type": "code",
   "execution_count": 42,
   "id": "ad82b711",
   "metadata": {
    "scrolled": true
   },
   "outputs": [
    {
     "data": {
      "text/plain": [
       "0.1657142857142857"
      ]
     },
     "execution_count": 42,
     "metadata": {},
     "output_type": "execute_result"
    }
   ],
   "source": [
    "df['description'].str.contains('\\r|\\t|\\n').mean()"
   ]
  },
  {
   "cell_type": "code",
   "execution_count": 44,
   "id": "9b3ad086",
   "metadata": {},
   "outputs": [
    {
     "data": {
      "text/plain": [
       "0       Key Features of Elegance Polyester Multicolor ...\n",
       "1       Specifications of Sathiyas Cotton Bath Towel (...\n",
       "2       Key Features of Eurospa Cotton Terry Face Towe...\n",
       "3       Key Features of SANTOSH ROYAL FASHION Cotton P...\n",
       "4       Key Features of Jaipur Print Cotton Floral Kin...\n",
       "                              ...                        \n",
       "1045    Oren Empower Extra Large Self Adhesive Sticker...\n",
       "1046    Wallmantra Large Vinyl Sticker Sticker (Pack o...\n",
       "1047    Buy Uberlyfe Extra Large Pigmented Polyvinyl F...\n",
       "1048    Buy Wallmantra Medium Vinyl Sticker Sticker fo...\n",
       "1049    Buy Uberlyfe Large Vinyl Sticker for Rs.595 on...\n",
       "Name: description, Length: 1050, dtype: object"
      ]
     },
     "execution_count": 44,
     "metadata": {},
     "output_type": "execute_result"
    }
   ],
   "source": [
    "df['description']"
   ]
  },
  {
   "cell_type": "code",
   "execution_count": 47,
   "id": "3c81cd2f",
   "metadata": {
    "scrolled": true
   },
   "outputs": [
    {
     "data": {
      "text/plain": [
       "0       Key Features of Elegance Polyester Multicolor Abstract Eyelet Door Curtain Floral Curtain,Elegance Polyester Multicolor Abstract Eyelet Door Curtain (213 cm in Height, Pack of 2) Price: Rs. 899 This curtain enhances the look of the interiors.This curtain is made from 100% high quality polyester fabric.It features an eyelet style stitch with Metal Ring.It makes the room environment romantic and loving.This curtain is ant- wrinkle and anti shrinkage and have elegant apparance.Give your home a ...\n",
       "1                                                              Specifications of Sathiyas Cotton Bath Towel (3 Bath Towel, Red, Yellow, Blue) Bath Towel Features Machine Washable Yes Material Cotton Design Self Design General Brand Sathiyas Type Bath Towel GSM 500 Model Name Sathiyas cotton bath towel Ideal For Men, Women, Boys, Girls Model ID asvtwl322 Color Red, Yellow, Blue Size Mediam Dimensions Length 30 inch Width 60 inch In the Box Number of Contents in Sales Package 3 Sales Package 3 Bath Towel\n",
       "2       Key Features of Eurospa Cotton Terry Face Towel Set Size: small Height: 9 inch GSM: 360,Eurospa Cotton Terry Face Towel Set (20 PIECE FACE TOWEL SET, Assorted) Price: Rs. 299 Eurospa brings to you an exclusively designed, 100% soft cotton towels of export quality. All our products have soft texture that takes care of your skin and gives you that enriched feeling you deserve. Eurospa has been exporting its bath towels to lot of renowned brands for last 10 years and is famous for its fine prin...\n",
       "3       Key Features of SANTOSH ROYAL FASHION Cotton Printed King sized Double Bedsheet Royal Bedsheet Perfact for Wedding & Gifting,Specifications of SANTOSH ROYAL FASHION Cotton Printed King sized Double Bedsheet (1 Bedsheet,2 Pillow Cover, Multicolor) General Brand SANTOSH ROYAL FASHION Machine Washable Yes Type Flat Material Cotton Model Name Gold Design Royal Cotton Printed Wedding & Gifted Double Bedsheet With 2 Pillow cover Model ID goldbedi-38 Color Multicolor Size King Fabric Care Machine W...\n",
       "4       Key Features of Jaipur Print Cotton Floral King sized Double Bedsheet 100% cotton,Jaipur Print Cotton Floral King sized Double Bedsheet (1 bed sheet 2 pillow cover, White) Price: Rs. 998 This nice bed sheet made up of 100% cotton to give you comfort. This bed sheet is hand printed. This bedsheet gives nice look to your room And its fast colour and good quality gives this bedsheet long life.,Specifications of Jaipur Print Cotton Floral King sized Double Bedsheet (1 bed sheet 2 pillow cover, W...\n",
       "                                                                                                                                                                                                                                                               ...                                                                                                                                                                                                                                                         \n",
       "1045    Oren Empower Extra Large Self Adhesive Sticker (Pack of 2)                           Price: Rs. 999           Double sticker can be used for the big walls. Two pieces is there that can be arranged alternatively or reflectively. This will d�cor the wall like 3d look. Tree with the green shaded leaves will give the sharp feature of the greenery. Reusable i.e. Can be used again after applied once. Simple remove and re-use the sticker on same or another wall with a different idea    How to insta...\n",
       "1046    Wallmantra Large Vinyl Sticker Sticker (Pack of 1)                           Price: Rs. 1,896           Bring home this exclusive Piece of Wall Art to give your home a refreshing look it deserves !  Wall Decals are the latest trend, sweeping the world of interior design, as a quick and easy way to personalise and transform your home. We at Wallmantra use only the highest quality premium self-adhesive vinyl for our products to ensure you receive the best quality product.  The sizes are in inc...\n",
       "1047                                                                                                                                                                                                                                                 Buy Uberlyfe Extra Large Pigmented Polyvinyl Films (Imported) Sticker for Rs.1449 online. Uberlyfe Extra Large Pigmented Polyvinyl Films (Imported) Sticker at best prices with FREE shipping & cash on delivery. Only Genuine Products. 30 Day Replacement Guarantee.\n",
       "1048                                                                                                                                                                                                                                                                                                     Buy Wallmantra Medium Vinyl Sticker Sticker for Rs.1333 online. Wallmantra Medium Vinyl Sticker Sticker at best prices with FREE shipping & cash on delivery. Only Genuine Products. 30 Day Replacement Guarantee.\n",
       "1049                                                                                                                                                                                                                                                                                                                            Buy Uberlyfe Large Vinyl Sticker for Rs.595 online. Uberlyfe Large Vinyl Sticker at best prices with FREE shipping & cash on delivery. Only Genuine Products. 30 Day Replacement Guarantee.\n",
       "Name: description, Length: 1050, dtype: object"
      ]
     },
     "metadata": {},
     "output_type": "display_data"
    }
   ],
   "source": [
    "with pd.option_context(\"display.max_colwidth\", 500, \"display.max_columns\", 5):\n",
    "    display(\n",
    "    df['description'].str.replace('\\r|\\t|\\n',' ', regex=True)\n",
    "    )"
   ]
  },
  {
   "cell_type": "markdown",
   "id": "1992116d",
   "metadata": {},
   "source": [
    "## Fonction pour nettoyage"
   ]
  },
  {
   "cell_type": "markdown",
   "id": "f6463ee2",
   "metadata": {},
   "source": [
    "1. Pré-traitement par expression régulière\n",
    "2. Mise en minuscule des caractères"
   ]
  },
  {
   "cell_type": "code",
   "execution_count": 157,
   "id": "128cb696",
   "metadata": {},
   "outputs": [],
   "source": [
    "# Suppression des accents, caractères spéciaux, émoticons, ponctuation\n",
    "# Mise en minuscule des caractères\n",
    "def pre_nettoyage_texte(serie_pandas):\n",
    "    \n",
    "    #serie_pandas = serie_pandas.str.replace('\\r|\\t|\\n',' ', regex=True)\n",
    "    \n",
    "    # On ne conserve que les caractères alpha numériques\n",
    "    # les émoticons,caractères spéciaux et ponctuation sont remplacés par des espaces\n",
    "    \n",
    "    serie_pandas = serie_pandas.str.replace(r'[^a-zA-Z0-9]', ' ', regex = True)\n",
    "    \n",
    "    # L'ensemble des caractères est mis en minuscule\n",
    "    \n",
    "    serie_pandas = serie_pandas.str.lower()\n",
    "    \n",
    "    # rajouter ponctuation Unicode data ?\n",
    "    return serie_pandas    "
   ]
  },
  {
   "cell_type": "markdown",
   "id": "c7df5a81",
   "metadata": {},
   "source": [
    "1. Lemmatisation avec Spacy fonction nlp\n",
    "2. Suppresion des stopwords avec nltk\n",
    "3. suppression des ponctuation et espace avec Spacy"
   ]
  },
  {
   "cell_type": "code",
   "execution_count": 107,
   "id": "cd166a84",
   "metadata": {},
   "outputs": [],
   "source": [
    "# Lemmatisation avec Spacy fonction nlp\n",
    "# Suppresion des stopwords avec nltk\n",
    "# suppression des ponctuation et espace avec Spacy\n",
    "def nettoyage_texte(serie_pandas):\n",
    "    serie_pandas = [''.join(y.lemma_) for y in nlp(serie_pandas)  \n",
    "                    if\n",
    "                    # Suppression des stopwors nltk\n",
    "                    y.lemma_ not in stops and\n",
    "                    # Suppression ponctuation et espace\n",
    "                    not y.is_punct and\n",
    "                    not y.is_space\n",
    "                   ]\n",
    "    return serie_pandas"
   ]
  },
  {
   "cell_type": "code",
   "execution_count": 98,
   "id": "be114010",
   "metadata": {},
   "outputs": [],
   "source": [
    "def pipeline_nlp(serie_pandas):\n",
    "    serie_pandas = pre_nettoyage_texte(serie_pandas)\n",
    "    serie_pandas = nettoyage_texte(serie_pandas)\n",
    "    return serie_pandas"
   ]
  },
  {
   "cell_type": "code",
   "execution_count": 169,
   "id": "dcf06cba",
   "metadata": {
    "scrolled": true
   },
   "outputs": [
    {
     "name": "stdout",
     "output_type": "stream",
     "text": [
      "['je', 'vais', 'à', 'Toronto', 'à', 'plus', 'tard', \"i'am\", 'go', 'Toronto', 'see', 'later', 'john', 'matter', 'I', 'come']\n"
     ]
    }
   ],
   "source": [
    "sentence = \"je vais à Toronto, à plus tard, I'am going to Toronto, ## see you later !!!!!!!, No (john) matter what Here I come\"\n",
    "print(nettoyage_texte(sentence))"
   ]
  },
  {
   "cell_type": "code",
   "execution_count": 162,
   "id": "7a2c9f66",
   "metadata": {},
   "outputs": [],
   "source": [
    "df['description_clean'] = pre_nettoyage_texte(df['description'])"
   ]
  },
  {
   "cell_type": "code",
   "execution_count": 168,
   "id": "d8e78339",
   "metadata": {},
   "outputs": [
    {
     "data": {
      "text/plain": [
       "0       key features of elegance polyester multicolor abstract eyelet door curtain floral curtain elegance polyester multicolor abstract eyelet door curtain  213 cm in height  pack of 2  price  rs  899 this curtain enhances the look of the interiors this curtain is made from 100  high quality polyester fabric it features an eyelet style stitch with metal ring it makes the room environment romantic and loving this curtain is ant  wrinkle and anti shrinkage and have elegant apparance give your home a ...\n",
       "1                                                              specifications of sathiyas cotton bath towel  3 bath towel  red  yellow  blue  bath towel features machine washable yes material cotton design self design general brand sathiyas type bath towel gsm 500 model name sathiyas cotton bath towel ideal for men  women  boys  girls model id asvtwl322 color red  yellow  blue size mediam dimensions length 30 inch width 60 inch in the box number of contents in sales package 3 sales package 3 bath towel\n",
       "2       key features of eurospa cotton terry face towel set size  small height  9 inch gsm  360 eurospa cotton terry face towel set  20 piece face towel set  assorted  price  rs  299 eurospa brings to you an exclusively designed  100  soft cotton towels of export quality  all our products have soft texture that takes care of your skin and gives you that enriched feeling you deserve  eurospa has been exporting its bath towels to lot of renowned brands for last 10 years and is famous for its fine prin...\n",
       "3       key features of santosh royal fashion cotton printed king sized double bedsheet royal bedsheet perfact for wedding   gifting specifications of santosh royal fashion cotton printed king sized double bedsheet  1 bedsheet 2 pillow cover  multicolor  general brand santosh royal fashion machine washable yes type flat material cotton model name gold design royal cotton printed wedding   gifted double bedsheet with 2 pillow cover model id goldbedi 38 color multicolor size king fabric care machine w...\n",
       "4       key features of jaipur print cotton floral king sized double bedsheet 100  cotton jaipur print cotton floral king sized double bedsheet  1 bed sheet 2 pillow cover  white  price  rs  998 this nice bed sheet made up of 100  cotton to give you comfort  this bed sheet is hand printed  this bedsheet gives nice look to your room and its fast colour and good quality gives this bedsheet long life  specifications of jaipur print cotton floral king sized double bedsheet  1 bed sheet 2 pillow cover  w...\n",
       "                                                                                                                                                                                                                                                               ...                                                                                                                                                                                                                                                         \n",
       "1045    oren empower extra large self adhesive sticker  pack of 2                            price  rs  999           double sticker can be used for the big walls  two pieces is there that can be arranged alternatively or reflectively  this will d cor the wall like 3d look  tree with the green shaded leaves will give the sharp feature of the greenery  reusable i e  can be used again after applied once  simple remove and re use the sticker on same or another wall with a different idea    how to insta...\n",
       "1046    wallmantra large vinyl sticker sticker  pack of 1                            price  rs  1 896           bring home this exclusive piece of wall art to give your home a refreshing look it deserves    wall decals are the latest trend  sweeping the world of interior design  as a quick and easy way to personalise and transform your home  we at wallmantra use only the highest quality premium self adhesive vinyl for our products to ensure you receive the best quality product   the sizes are in inc...\n",
       "1047                                                                                                                                                                                                                                                 buy uberlyfe extra large pigmented polyvinyl films  imported  sticker for rs 1449 online  uberlyfe extra large pigmented polyvinyl films  imported  sticker at best prices with free shipping   cash on delivery  only genuine products  30 day replacement guarantee \n",
       "1048                                                                                                                                                                                                                                                                                                     buy wallmantra medium vinyl sticker sticker for rs 1333 online  wallmantra medium vinyl sticker sticker at best prices with free shipping   cash on delivery  only genuine products  30 day replacement guarantee \n",
       "1049                                                                                                                                                                                                                                                                                                                            buy uberlyfe large vinyl sticker for rs 595 online  uberlyfe large vinyl sticker at best prices with free shipping   cash on delivery  only genuine products  30 day replacement guarantee \n",
       "Name: description_clean, Length: 1050, dtype: object"
      ]
     },
     "metadata": {},
     "output_type": "display_data"
    }
   ],
   "source": [
    "with pd.option_context(\"display.max_colwidth\", 500, \"display.max_columns\", 5):\n",
    "    display(\n",
    "df['description_clean']\n",
    "    )"
   ]
  },
  {
   "cell_type": "code",
   "execution_count": 164,
   "id": "27f6be9a",
   "metadata": {
    "scrolled": true
   },
   "outputs": [],
   "source": [
    "df['clean_2'] = df['description_clean'].map(nettoyage_texte)"
   ]
  },
  {
   "cell_type": "code",
   "execution_count": 167,
   "id": "f6849eb2",
   "metadata": {},
   "outputs": [
    {
     "data": {
      "text/plain": [
       "0       [key, feature, elegance, polyester, multicolor, abstract, eyelet, door, curtain, floral, curtain, elegance, polyester, multicolor, abstract, eyelet, door, curtain, 213, cm, height, pack, 2, price, rs, 899, curtain, enhance, look, interior, curtain, make, 100, high, quality, polyester, fabric, feature, eyelet, style, stitch, metal, ring, make, room, environment, romantic, love, curtain, ant, wrinkle, anti, shrinkage, elegant, apparance, give, home, bright, modernistic, appeal, design, surreal...\n",
       "1                                   [specification, sathiyas, cotton, bath, towel, 3, bath, towel, red, yellow, blue, bath, towel, feature, machine, washable, yes, material, cotton, design, self, design, general, brand, sathiyas, type, bath, towel, gsm, 500, model, name, sathiyas, cotton, bath, towel, ideal, man, woman, boy, girl, model, asvtwl322, color, red, yellow, blue, size, mediam, dimension, length, 30, inch, width, 60, inch, box, number, content, sale, package, 3, sale, package, 3, bath, towel]\n",
       "2       [key, feature, eurospa, cotton, terry, face, towel, set, size, small, height, 9, inch, gsm, 360, eurospa, cotton, terry, face, towel, set, 20, piece, face, towel, set, assort, price, rs, 299, eurospa, bring, exclusively, design, 100, soft, cotton, towel, export, quality, product, soft, texture, take, care, skin, give, enriched, feeling, deserve, eurospa, export, bath, towel, lot, renowned, brand, last, 10, year, famous, fine, print, absorbency, softness, durability, note, product, 100, cotto...\n",
       "3       [key, feature, santosh, royal, fashion, cotton, print, king, size, double, bedsheet, royal, bedsheet, perfact, wedding, gift, specification, santosh, royal, fashion, cotton, print, king, size, double, bedsheet, 1, bedsheet, 2, pillow, cover, multicolor, general, brand, santosh, royal, fashion, machine, washable, yes, type, flat, material, cotton, model, name, gold, design, royal, cotton, print, wedding, gift, double, bedsheet, 2, pillow, cover, model, goldbedi, 38, color, multicolor, size, k...\n",
       "4       [key, feature, jaipur, print, cotton, floral, king, size, double, bedsheet, 100, cotton, jaipur, print, cotton, floral, king, size, double, bedsheet, 1, bed, sheet, 2, pillow, cover, white, price, rs, 998, nice, bed, sheet, make, 100, cotton, give, comfort, bed, sheet, hand, print, bedsheet, give, nice, look, room, fast, colour, good, quality, give, bedsheet, long, life, specification, jaipur, print, cotton, floral, king, size, double, bedsheet, 1, bed, sheet, 2, pillow, cover, white, genera...\n",
       "                                                                                                                                                                                                                                                               ...                                                                                                                                                                                                                                                         \n",
       "1045    [oren, empower, extra, large, self, adhesive, sticker, pack, 2, price, rs, 999, double, sticker, use, big, wall, two, piece, arrange, alternatively, reflectively, cor, wall, like, 3d, look, tree, green, shaded, leave, give, sharp, feature, greenery, reusable, I, e, use, apply, simple, remove, use, sticker, another, wall, different, idea, install, 1, surface, wish, attach, decal, must, clean, free, dust, grease, contamination, 2, simply, peel, pre, cut, piece, wall, sticker, back, paper, appl...\n",
       "1046    [wallmantra, large, vinyl, sticker, sticker, pack, 1, price, rs, 1, 896, bring, home, exclusive, piece, wall, art, give, home, refreshing, look, deserve, wall, decal, late, trend, sweep, world, interior, design, quick, easy, way, personalise, transform, home, wallmantra, use, high, quality, premium, self, adhesive, vinyl, product, ensure, receive, good, quality, product, size, inch, width, x, height, round, near, inch, size, product, final, size, wall, easy, apply, remove, apply, send, ready...\n",
       "1047                                                                                                                                                                                                                                                          [buy, uberlyfe, extra, large, pigment, polyvinyl, film, import, sticker, rs, 1449, online, uberlyfe, extra, large, pigment, polyvinyl, film, import, sticker, good, price, free, shipping, cash, delivery, genuine, product, 30, day, replacement, guarantee]\n",
       "1048                                                                                                                                                                                                                                                                                                      [buy, wallmantra, medium, vinyl, sticker, sticker, rs, 1333, online, wallmantra, medium, vinyl, sticker, sticker, good, price, free, shipping, cash, delivery, genuine, product, 30, day, replacement, guarantee]\n",
       "1049                                                                                                                                                                                                                                                                                                                               [buy, uberlyfe, large, vinyl, sticker, rs, 595, online, uberlyfe, large, vinyl, sticker, good, price, free, shipping, cash, delivery, genuine, product, 30, day, replacement, guarantee]\n",
       "Name: clean_2, Length: 1050, dtype: object"
      ]
     },
     "metadata": {},
     "output_type": "display_data"
    }
   ],
   "source": [
    "with pd.option_context(\"display.max_colwidth\", 500, \"display.max_columns\", 5):\n",
    "    display(\n",
    "    df['clean_2']\n",
    "    )"
   ]
  },
  {
   "cell_type": "code",
   "execution_count": 148,
   "id": "b9e5d34a",
   "metadata": {},
   "outputs": [
    {
     "name": "stdout",
     "output_type": "stream",
     "text": [
      "Salut ! Comment ça va ?  # excité  \n"
     ]
    }
   ],
   "source": [
    "import unicodedata\n",
    "\n",
    "def nettoyer_texte(texte):\n",
    "    # Supprimer les caractères spéciaux et émoticons\n",
    "    texte_propre = ''.join(c for c in texte if unicodedata.category(c)[0] != 'S')\n",
    "    \n",
    "    return texte_propre\n",
    "\n",
    "# Exemple d'utilisation\n",
    "texte_original = \"Salut ! Comment ça va ? 😃 # excité � \"\n",
    "texte_nettoye = nettoyer_texte(texte_original)\n",
    "\n",
    "print(texte_nettoye)"
   ]
  },
  {
   "cell_type": "code",
   "execution_count": 149,
   "id": "bd70619b",
   "metadata": {},
   "outputs": [
    {
     "name": "stdout",
     "output_type": "stream",
     "text": [
      "Il y a   des caract res sp ciaux 123 et des espaces        excit   \n"
     ]
    }
   ],
   "source": [
    "import re\n",
    "\n",
    "texte = \"Il y a ! des caractères spéciaux 123 et des espaces___ 😃 # excité �\"\n",
    "\n",
    "texte_propre = re.sub(r'[^a-zA-Z0-9]', ' ', texte)\n",
    "\n",
    "print(texte_propre)\n"
   ]
  },
  {
   "cell_type": "code",
   "execution_count": 170,
   "id": "1eef5ce1",
   "metadata": {},
   "outputs": [
    {
     "name": "stdout",
     "output_type": "stream",
     "text": [
      "Il y a   des caract res sp ciaux 123 et des espaces    et des chiffres 2.34   il m en reste 2 \n"
     ]
    }
   ],
   "source": [
    "import re\n",
    "\n",
    "texte = \"Il y a ! des caractères spéciaux 123 et des espaces___ et des chiffres 2.34 % il m'en reste 2.\"\n",
    "\n",
    "texte_propre = re.sub(r'(?<!\\d)\\.(?!\\d)|\\.(?!\\d)|\\.(?=\\s|$)|[^a-zA-Z0-9.]', ' ', texte)\n",
    "\n",
    "print(texte_propre)"
   ]
  },
  {
   "cell_type": "code",
   "execution_count": 155,
   "id": "6c35d596",
   "metadata": {},
   "outputs": [
    {
     "data": {
      "text/plain": [
       "0    Key Features of Elegance Polyester Multicolor Abstract Eyelet Door Curtain Floral Curtain Elegance Polyester Multicolor Abstract Eyelet Door Curtain  213 cm in Height  Pack of 2  Price  Rs  899 This curtain enhances the look of the interiors This curtain is made from 100  high quality polyester fabric It features an eyelet style stitch with Metal Ring It makes the room environment romantic and loving This curtain is ant  wrinkle and anti shrinkage and have elegant apparance Give your home a ...\n",
       "1                                                           Specifications of Sathiyas Cotton Bath Towel  3 Bath Towel  Red  Yellow  Blue  Bath Towel Features Machine Washable Yes Material Cotton Design Self Design General Brand Sathiyas Type Bath Towel GSM 500 Model Name Sathiyas cotton bath towel Ideal For Men  Women  Boys  Girls Model ID asvtwl322 Color Red  Yellow  Blue Size Mediam Dimensions Length 30 inch Width 60 inch In the Box Number of Contents in Sales Package 3 Sales Package 3 Bath Towel\n",
       "2    Key Features of Eurospa Cotton Terry Face Towel Set Size  small Height  9 inch GSM  360 Eurospa Cotton Terry Face Towel Set  20 PIECE FACE TOWEL SET  Assorted  Price  Rs  299 Eurospa brings to you an exclusively designed  100  soft cotton towels of export quality  All our products have soft texture that takes care of your skin and gives you that enriched feeling you deserve  Eurospa has been exporting its bath towels to lot of renowned brands for last 10 years and is famous for its fine prin...\n",
       "3    Key Features of SANTOSH ROYAL FASHION Cotton Printed King sized Double Bedsheet Royal Bedsheet Perfact for Wedding   Gifting Specifications of SANTOSH ROYAL FASHION Cotton Printed King sized Double Bedsheet  1 Bedsheet 2 Pillow Cover  Multicolor  General Brand SANTOSH ROYAL FASHION Machine Washable Yes Type Flat Material Cotton Model Name Gold Design Royal Cotton Printed Wedding   Gifted Double Bedsheet With 2 Pillow cover Model ID goldbedi 38 Color Multicolor Size King Fabric Care Machine W...\n",
       "4    Key Features of Jaipur Print Cotton Floral King sized Double Bedsheet 100  cotton Jaipur Print Cotton Floral King sized Double Bedsheet  1 bed sheet 2 pillow cover  White  Price  Rs  998 This nice bed sheet made up of 100  cotton to give you comfort  This bed sheet is hand printed  This bedsheet gives nice look to your room And its fast colour and good quality gives this bedsheet long life  Specifications of Jaipur Print Cotton Floral King sized Double Bedsheet  1 bed sheet 2 pillow cover  W...\n",
       "Name: description, dtype: object"
      ]
     },
     "metadata": {},
     "output_type": "display_data"
    }
   ],
   "source": [
    "with pd.option_context(\"display.max_colwidth\", 500, \"display.max_columns\", 5):\n",
    "    display(\n",
    "    (df['description']).str.replace(r'[^a-zA-Z0-9]', ' ', regex = True).head()\n",
    "    )"
   ]
  },
  {
   "cell_type": "code",
   "execution_count": 120,
   "id": "dc2328cb",
   "metadata": {
    "scrolled": true
   },
   "outputs": [
    {
     "data": {
      "text/plain": [
       "1045    oren empower extra large self adhesive sticker (pack of 2)                           price: rs. 999           double sticker can be used for the big walls. two pieces is there that can be arranged alternatively or reflectively. this will dcor the wall like 3d look. tree with the green shaded leaves will give the sharp feature of the greenery. reusable i.e. can be used again after applied once. simple remove and re-use the sticker on same or another wall with a different idea    how to instal...\n",
       "1046    wallmantra large vinyl sticker sticker (pack of 1)                           price: rs. 1,896           bring home this exclusive piece of wall art to give your home a refreshing look it deserves !  wall decals are the latest trend, sweeping the world of interior design, as a quick and easy way to personalise and transform your home. we at wallmantra use only the highest quality premium self-adhesive vinyl for our products to ensure you receive the best quality product.  the sizes are in inc...\n",
       "1047                                                                                                                                                                                                                                                 buy uberlyfe extra large pigmented polyvinyl films (imported) sticker for rs.1449 online. uberlyfe extra large pigmented polyvinyl films (imported) sticker at best prices with free shipping & cash on delivery. only genuine products. 30 day replacement guarantee.\n",
       "1048                                                                                                                                                                                                                                                                                                     buy wallmantra medium vinyl sticker sticker for rs.1333 online. wallmantra medium vinyl sticker sticker at best prices with free shipping & cash on delivery. only genuine products. 30 day replacement guarantee.\n",
       "Name: description_clean, dtype: object"
      ]
     },
     "metadata": {},
     "output_type": "display_data"
    }
   ],
   "source": [
    "with pd.option_context(\"display.max_colwidth\", 500, \"display.max_columns\", 5):\n",
    "    display(\n",
    "df['description_clean'][1045:1049].map(nettoyer_texte)\n",
    "    )"
   ]
  },
  {
   "cell_type": "code",
   "execution_count": 122,
   "id": "91cf6b9a",
   "metadata": {
    "scrolled": true
   },
   "outputs": [
    {
     "data": {
      "text/plain": [
       "0       {'k': 10, 'e': 137, 'y': 31, ' ': 229, 'f': 20...\n",
       "1       {'s': 26, 'p': 4, 'e': 42, 'c': 12, 'i': 22, '...\n",
       "2       {'k': 6, 'e': 121, 'y': 22, ' ': 214, 'f': 32,...\n",
       "3       {'k': 6, 'e': 83, 'y': 8, ' ': 144, 'f': 20, '...\n",
       "4       {'k': 9, 'e': 111, 'y': 10, ' ': 213, 'f': 24,...\n",
       "                              ...                        \n",
       "1045    {'o': 121, 'r': 121, 'e': 260, 'n': 97, ' ': 5...\n",
       "1046    {'w': 31, 'a': 101, 'l': 70, 'm': 25, 'n': 66,...\n",
       "1047    {'b': 4, 'u': 6, 'y': 10, ' ': 36, 'e': 30, 'r...\n",
       "1048    {'b': 2, 'u': 6, 'y': 6, ' ': 30, 'w': 3, 'a':...\n",
       "1049    {'b': 4, 'u': 6, 'y': 8, ' ': 28, 'e': 22, 'r'...\n",
       "Name: description_clean, Length: 1050, dtype: object"
      ]
     },
     "execution_count": 122,
     "metadata": {},
     "output_type": "execute_result"
    }
   ],
   "source": [
    "from collections import Counter\n",
    "\n",
    "(df['description_clean']).map(Counter)"
   ]
  },
  {
   "cell_type": "markdown",
   "id": "e9c8ebed",
   "metadata": {},
   "source": [
    "# Bag of words Tfidf"
   ]
  },
  {
   "cell_type": "code",
   "execution_count": 156,
   "id": "e62ee53a",
   "metadata": {},
   "outputs": [
    {
     "name": "stdout",
     "output_type": "stream",
     "text": [
      "          N_gram  Fréquence\n",
      "0  autre exemple          1\n",
      "1       ce texte          1\n",
      "2       de texte          1\n",
      "3      encore un          1\n",
      "4         est un          1\n",
      "5     exemple de          1\n",
      "6      texte est          1\n",
      "7       un autre          1\n",
      "8     un exemple          2\n"
     ]
    }
   ],
   "source": [
    "from sklearn.feature_extraction.text import CountVectorizer\n",
    "\n",
    "def generer_ngrams(dataframe, n):\n",
    "    # Convertir la série en une liste de textes\n",
    "    textes = dataframe.tolist()\n",
    "\n",
    "    # Créer un objet CountVectorizer avec les paramètres appropriés\n",
    "    vectorizer = CountVectorizer(ngram_range=(n, n))\n",
    "\n",
    "    # Calculer la matrice des N-grams\n",
    "    matrice_ngrams = vectorizer.fit_transform(textes)\n",
    "\n",
    "    # Obtenir les noms des N-grams\n",
    "    noms_ngrams = vectorizer.get_feature_names_out()\n",
    "\n",
    "    # Obtenir les fréquences des N-grams\n",
    "    frequences_ngrams = matrice_ngrams.sum(axis=0).A1\n",
    "\n",
    "    # Créer un dataframe avec les N-grams et leurs fréquences\n",
    "    dataframe_ngrams = pd.DataFrame({'N_gram': noms_ngrams, 'Fréquence': frequences_ngrams})\n",
    "\n",
    "    return dataframe_ngrams\n",
    "\n",
    "# Exemple d'utilisation\n",
    "serie_texte = pd.Series(['Ce texte est un exemple', 'Un autre exemple de texte', 'Encore un exemple'])\n",
    "\n",
    "dataframe_ngrams = generer_ngrams(serie_texte, 2)\n",
    "\n",
    "print(dataframe_ngrams)"
   ]
  },
  {
   "cell_type": "code",
   "execution_count": 176,
   "id": "94f61531",
   "metadata": {
    "scrolled": true
   },
   "outputs": [
    {
     "data": {
      "text/html": [
       "<div>\n",
       "<style scoped>\n",
       "    .dataframe tbody tr th:only-of-type {\n",
       "        vertical-align: middle;\n",
       "    }\n",
       "\n",
       "    .dataframe tbody tr th {\n",
       "        vertical-align: top;\n",
       "    }\n",
       "\n",
       "    .dataframe thead th {\n",
       "        text-align: right;\n",
       "    }\n",
       "</style>\n",
       "<table border=\"1\" class=\"dataframe\">\n",
       "  <thead>\n",
       "    <tr style=\"text-align: right;\">\n",
       "      <th></th>\n",
       "      <th>N_gram</th>\n",
       "      <th>Fréquence</th>\n",
       "    </tr>\n",
       "  </thead>\n",
       "  <tbody>\n",
       "    <tr>\n",
       "      <th>18872</th>\n",
       "      <td>shipping cash</td>\n",
       "      <td>564</td>\n",
       "    </tr>\n",
       "    <tr>\n",
       "      <th>5320</th>\n",
       "      <td>cash on</td>\n",
       "      <td>564</td>\n",
       "    </tr>\n",
       "    <tr>\n",
       "      <th>15461</th>\n",
       "      <td>only genuine</td>\n",
       "      <td>564</td>\n",
       "    </tr>\n",
       "    <tr>\n",
       "      <th>15222</th>\n",
       "      <td>on delivery</td>\n",
       "      <td>564</td>\n",
       "    </tr>\n",
       "    <tr>\n",
       "      <th>9424</th>\n",
       "      <td>free shipping</td>\n",
       "      <td>564</td>\n",
       "    </tr>\n",
       "    <tr>\n",
       "      <th>9768</th>\n",
       "      <td>genuine products</td>\n",
       "      <td>564</td>\n",
       "    </tr>\n",
       "    <tr>\n",
       "      <th>9053</th>\n",
       "      <td>flipkart com</td>\n",
       "      <td>472</td>\n",
       "    </tr>\n",
       "    <tr>\n",
       "      <th>7122</th>\n",
       "      <td>day replacement</td>\n",
       "      <td>470</td>\n",
       "    </tr>\n",
       "    <tr>\n",
       "      <th>17123</th>\n",
       "      <td>products 30</td>\n",
       "      <td>469</td>\n",
       "    </tr>\n",
       "    <tr>\n",
       "      <th>17706</th>\n",
       "      <td>replacement guarantee</td>\n",
       "      <td>469</td>\n",
       "    </tr>\n",
       "  </tbody>\n",
       "</table>\n",
       "</div>"
      ],
      "text/plain": [
       "                      N_gram  Fréquence\n",
       "18872          shipping cash        564\n",
       "5320                 cash on        564\n",
       "15461           only genuine        564\n",
       "15222            on delivery        564\n",
       "9424           free shipping        564\n",
       "9768        genuine products        564\n",
       "9053            flipkart com        472\n",
       "7122         day replacement        470\n",
       "17123            products 30        469\n",
       "17706  replacement guarantee        469"
      ]
     },
     "execution_count": 176,
     "metadata": {},
     "output_type": "execute_result"
    }
   ],
   "source": [
    "generer_ngrams(df['description_clean'],2).sort_values('Fréquence',ascending = False).head(10)"
   ]
  },
  {
   "cell_type": "code",
   "execution_count": 183,
   "id": "96426593",
   "metadata": {
    "scrolled": true
   },
   "outputs": [
    {
     "name": "stdout",
     "output_type": "stream",
     "text": [
      "Home Furnishing                       N_gram  Fréquence\n",
      "18872          shipping cash        564\n",
      "5320                 cash on        564\n",
      "15461           only genuine        564\n",
      "15222            on delivery        564\n",
      "9424           free shipping        564\n",
      "9768        genuine products        564\n",
      "9053            flipkart com        472\n",
      "7122         day replacement        470\n",
      "17123            products 30        469\n",
      "17706  replacement guarantee        469\n",
      "787                   30 day        469\n",
      "9292                  for rs        343\n",
      "16884               price rs        342\n",
      "19620      specifications of        305\n",
      "15848                pack of        297\n",
      "10306         guarantee free        286\n",
      "22542              watch for        284\n",
      "11275                 in the        284\n",
      "18447          sales package        261\n",
      "20507                the box        242\n",
      "Baby Care                       N_gram  Fréquence\n",
      "18872          shipping cash        564\n",
      "5320                 cash on        564\n",
      "15461           only genuine        564\n",
      "15222            on delivery        564\n",
      "9424           free shipping        564\n",
      "9768        genuine products        564\n",
      "9053            flipkart com        472\n",
      "7122         day replacement        470\n",
      "17123            products 30        469\n",
      "17706  replacement guarantee        469\n",
      "787                   30 day        469\n",
      "9292                  for rs        343\n",
      "16884               price rs        342\n",
      "19620      specifications of        305\n",
      "15848                pack of        297\n",
      "10306         guarantee free        286\n",
      "22542              watch for        284\n",
      "11275                 in the        284\n",
      "18447          sales package        261\n",
      "20507                the box        242\n",
      "Watches                       N_gram  Fréquence\n",
      "18872          shipping cash        564\n",
      "5320                 cash on        564\n",
      "15461           only genuine        564\n",
      "15222            on delivery        564\n",
      "9424           free shipping        564\n",
      "9768        genuine products        564\n",
      "9053            flipkart com        472\n",
      "7122         day replacement        470\n",
      "17123            products 30        469\n",
      "17706  replacement guarantee        469\n",
      "787                   30 day        469\n",
      "9292                  for rs        343\n",
      "16884               price rs        342\n",
      "19620      specifications of        305\n",
      "15848                pack of        297\n",
      "10306         guarantee free        286\n",
      "22542              watch for        284\n",
      "11275                 in the        284\n",
      "18447          sales package        261\n",
      "20507                the box        242\n",
      "Home Decor & Festive Needs                       N_gram  Fréquence\n",
      "18872          shipping cash        564\n",
      "5320                 cash on        564\n",
      "15461           only genuine        564\n",
      "15222            on delivery        564\n",
      "9424           free shipping        564\n",
      "9768        genuine products        564\n",
      "9053            flipkart com        472\n",
      "7122         day replacement        470\n",
      "17123            products 30        469\n",
      "17706  replacement guarantee        469\n",
      "787                   30 day        469\n",
      "9292                  for rs        343\n",
      "16884               price rs        342\n",
      "19620      specifications of        305\n",
      "15848                pack of        297\n",
      "10306         guarantee free        286\n",
      "22542              watch for        284\n",
      "11275                 in the        284\n",
      "18447          sales package        261\n",
      "20507                the box        242\n",
      "Kitchen & Dining                       N_gram  Fréquence\n",
      "18872          shipping cash        564\n",
      "5320                 cash on        564\n",
      "15461           only genuine        564\n",
      "15222            on delivery        564\n",
      "9424           free shipping        564\n",
      "9768        genuine products        564\n",
      "9053            flipkart com        472\n",
      "7122         day replacement        470\n",
      "17123            products 30        469\n",
      "17706  replacement guarantee        469\n",
      "787                   30 day        469\n",
      "9292                  for rs        343\n",
      "16884               price rs        342\n",
      "19620      specifications of        305\n",
      "15848                pack of        297\n",
      "10306         guarantee free        286\n",
      "22542              watch for        284\n",
      "11275                 in the        284\n",
      "18447          sales package        261\n",
      "20507                the box        242\n",
      "Beauty and Personal Care                       N_gram  Fréquence\n",
      "18872          shipping cash        564\n",
      "5320                 cash on        564\n",
      "15461           only genuine        564\n",
      "15222            on delivery        564\n",
      "9424           free shipping        564\n",
      "9768        genuine products        564\n",
      "9053            flipkart com        472\n",
      "7122         day replacement        470\n",
      "17123            products 30        469\n",
      "17706  replacement guarantee        469\n",
      "787                   30 day        469\n",
      "9292                  for rs        343\n",
      "16884               price rs        342\n",
      "19620      specifications of        305\n",
      "15848                pack of        297\n",
      "10306         guarantee free        286\n",
      "22542              watch for        284\n",
      "11275                 in the        284\n",
      "18447          sales package        261\n",
      "20507                the box        242\n",
      "Computers                       N_gram  Fréquence\n",
      "18872          shipping cash        564\n",
      "5320                 cash on        564\n",
      "15461           only genuine        564\n",
      "15222            on delivery        564\n",
      "9424           free shipping        564\n",
      "9768        genuine products        564\n",
      "9053            flipkart com        472\n",
      "7122         day replacement        470\n",
      "17123            products 30        469\n",
      "17706  replacement guarantee        469\n",
      "787                   30 day        469\n",
      "9292                  for rs        343\n",
      "16884               price rs        342\n",
      "19620      specifications of        305\n",
      "15848                pack of        297\n",
      "10306         guarantee free        286\n",
      "22542              watch for        284\n",
      "11275                 in the        284\n",
      "18447          sales package        261\n",
      "20507                the box        242\n"
     ]
    }
   ],
   "source": [
    "for i in df['target'].unique():\n",
    "    df.loc[\n",
    "        df['target'] == i\n",
    "    ]\n",
    "    print(\n",
    "        i,\n",
    "        generer_ngrams(df['description_clean'],2).sort_values('Fréquence',ascending = False).head(20)\n",
    "         )"
   ]
  },
  {
   "cell_type": "code",
   "execution_count": 179,
   "id": "f417f442",
   "metadata": {},
   "outputs": [
    {
     "data": {
      "text/plain": [
       "Index(['uniq_id', 'crawl_timestamp', 'product_url', 'product_name',\n",
       "       'product_category_tree', 'pid', 'retail_price', 'discounted_price',\n",
       "       'image', 'is_FK_Advantage_product', 'description', 'product_rating',\n",
       "       'overall_rating', 'brand', 'product_specifications', 'target',\n",
       "       'description_clean', 'clean_2'],\n",
       "      dtype='object')"
      ]
     },
     "execution_count": 179,
     "metadata": {},
     "output_type": "execute_result"
    }
   ],
   "source": [
    "df.columns"
   ]
  },
  {
   "cell_type": "code",
   "execution_count": 135,
   "id": "9a70347d",
   "metadata": {
    "scrolled": true
   },
   "outputs": [
    {
     "name": "stdout",
     "output_type": "stream",
     "text": [
      "       Mot  frequences_ponderes\n",
      "0    autre             0.552490\n",
      "1       ce             0.552490\n",
      "2       de             0.552490\n",
      "3   encore             0.767495\n",
      "4      est             0.552490\n",
      "5  exemple             1.105914\n",
      "6    texte             0.840366\n",
      "7       un             1.105914\n"
     ]
    }
   ],
   "source": [
    "from sklearn.feature_extraction.text import TfidfVectorizer\n",
    "\n",
    "def generer_tfidf(dataframe):\n",
    "    # Convertir la série en une liste de textes\n",
    "    textes = dataframe.tolist()\n",
    "\n",
    "    # Créer un objet TfidfVectorizer avec les paramètres appropriés\n",
    "    vectorizer = TfidfVectorizer()\n",
    "\n",
    "    # Calculer la matrice TF-IDF\n",
    "    matrice_tfidf = vectorizer.fit_transform(textes)\n",
    "\n",
    "    # Obtenir les noms des mots\n",
    "    noms_mots = vectorizer.get_feature_names_out()\n",
    "\n",
    "    # Obtenir les fréquences pondérées des mots\n",
    "    frequences_ponderes = matrice_tfidf.sum(axis=0).A1\n",
    "\n",
    "    # Créer un dataframe avec les mots et leurs fréquences pondérées\n",
    "    dataframe_tfidf = pd.DataFrame({'Mot': noms_mots, 'frequences_ponderes': frequences_ponderes})\n",
    "\n",
    "    return dataframe_tfidf\n",
    "\n",
    "# Exemple d'utilisation\n",
    "serie_texte = pd.Series(['Ce texte est un exemple', 'Un autre exemple de texte', 'Encore un exemple'])\n",
    "\n",
    "dataframe_tfidf = generer_tfidf(serie_texte)\n",
    "\n",
    "print(dataframe_tfidf)"
   ]
  },
  {
   "cell_type": "code",
   "execution_count": 144,
   "id": "be8e9ac0",
   "metadata": {},
   "outputs": [
    {
     "data": {
      "text/html": [
       "<div>\n",
       "<style scoped>\n",
       "    .dataframe tbody tr th:only-of-type {\n",
       "        vertical-align: middle;\n",
       "    }\n",
       "\n",
       "    .dataframe tbody tr th {\n",
       "        vertical-align: top;\n",
       "    }\n",
       "\n",
       "    .dataframe thead th {\n",
       "        text-align: right;\n",
       "    }\n",
       "</style>\n",
       "<table border=\"1\" class=\"dataframe\">\n",
       "  <thead>\n",
       "    <tr style=\"text-align: right;\">\n",
       "      <th></th>\n",
       "      <th>Mot</th>\n",
       "      <th>frequences_ponderes</th>\n",
       "    </tr>\n",
       "  </thead>\n",
       "  <tbody>\n",
       "    <tr>\n",
       "      <th>4019</th>\n",
       "      <td>only</td>\n",
       "      <td>58.177749</td>\n",
       "    </tr>\n",
       "    <tr>\n",
       "      <th>1061</th>\n",
       "      <td>at</td>\n",
       "      <td>48.340730</td>\n",
       "    </tr>\n",
       "    <tr>\n",
       "      <th>1702</th>\n",
       "      <td>com</td>\n",
       "      <td>47.191329</td>\n",
       "    </tr>\n",
       "    <tr>\n",
       "      <th>2576</th>\n",
       "      <td>flipkart</td>\n",
       "      <td>46.925581</td>\n",
       "    </tr>\n",
       "    <tr>\n",
       "      <th>3984</th>\n",
       "      <td>of</td>\n",
       "      <td>45.052736</td>\n",
       "    </tr>\n",
       "    <tr>\n",
       "      <th>2611</th>\n",
       "      <td>for</td>\n",
       "      <td>42.190946</td>\n",
       "    </tr>\n",
       "    <tr>\n",
       "      <th>2732</th>\n",
       "      <td>genuine</td>\n",
       "      <td>39.933302</td>\n",
       "    </tr>\n",
       "    <tr>\n",
       "      <th>4978</th>\n",
       "      <td>shipping</td>\n",
       "      <td>39.933302</td>\n",
       "    </tr>\n",
       "    <tr>\n",
       "      <th>1503</th>\n",
       "      <td>cash</td>\n",
       "      <td>39.933302</td>\n",
       "    </tr>\n",
       "    <tr>\n",
       "      <th>4437</th>\n",
       "      <td>products</td>\n",
       "      <td>39.909278</td>\n",
       "    </tr>\n",
       "  </tbody>\n",
       "</table>\n",
       "</div>"
      ],
      "text/plain": [
       "           Mot  frequences_ponderes\n",
       "4019      only            58.177749\n",
       "1061        at            48.340730\n",
       "1702       com            47.191329\n",
       "2576  flipkart            46.925581\n",
       "3984        of            45.052736\n",
       "2611       for            42.190946\n",
       "2732   genuine            39.933302\n",
       "4978  shipping            39.933302\n",
       "1503      cash            39.933302\n",
       "4437  products            39.909278"
      ]
     },
     "execution_count": 144,
     "metadata": {},
     "output_type": "execute_result"
    }
   ],
   "source": [
    "generer_tfidf((df['description_clean'])).sort_values('frequences_ponderes',ascending = False).head(10)"
   ]
  }
 ],
 "metadata": {
  "kernelspec": {
   "display_name": "Python 3 (ipykernel)",
   "language": "python",
   "name": "python3"
  },
  "language_info": {
   "codemirror_mode": {
    "name": "ipython",
    "version": 3
   },
   "file_extension": ".py",
   "mimetype": "text/x-python",
   "name": "python",
   "nbconvert_exporter": "python",
   "pygments_lexer": "ipython3",
   "version": "3.9.13"
  }
 },
 "nbformat": 4,
 "nbformat_minor": 5
}
