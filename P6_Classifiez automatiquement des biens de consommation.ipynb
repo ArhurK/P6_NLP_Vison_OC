{
 "cells": [
  {
   "cell_type": "code",
   "execution_count": 1,
   "id": "1d783206",
   "metadata": {},
   "outputs": [],
   "source": [
    "import pandas as pd\n",
    "import numpy as np\n",
    "import matplotlib.pyplot as plt\n",
    "import seaborn as sns\n",
    "from collections import Counter\n",
    "%matplotlib inline"
   ]
  },
  {
   "cell_type": "code",
   "execution_count": 2,
   "id": "650a1f4c",
   "metadata": {
    "scrolled": true
   },
   "outputs": [
    {
     "data": {
      "text/html": [
       "<div>\n",
       "<style scoped>\n",
       "    .dataframe tbody tr th:only-of-type {\n",
       "        vertical-align: middle;\n",
       "    }\n",
       "\n",
       "    .dataframe tbody tr th {\n",
       "        vertical-align: top;\n",
       "    }\n",
       "\n",
       "    .dataframe thead th {\n",
       "        text-align: right;\n",
       "    }\n",
       "</style>\n",
       "<table border=\"1\" class=\"dataframe\">\n",
       "  <thead>\n",
       "    <tr style=\"text-align: right;\">\n",
       "      <th></th>\n",
       "      <th>uniq_id</th>\n",
       "      <th>crawl_timestamp</th>\n",
       "      <th>product_url</th>\n",
       "      <th>product_name</th>\n",
       "      <th>product_category_tree</th>\n",
       "      <th>pid</th>\n",
       "      <th>retail_price</th>\n",
       "      <th>discounted_price</th>\n",
       "      <th>image</th>\n",
       "      <th>is_FK_Advantage_product</th>\n",
       "      <th>description</th>\n",
       "      <th>product_rating</th>\n",
       "      <th>overall_rating</th>\n",
       "      <th>brand</th>\n",
       "      <th>product_specifications</th>\n",
       "    </tr>\n",
       "  </thead>\n",
       "  <tbody>\n",
       "    <tr>\n",
       "      <th>0</th>\n",
       "      <td>55b85ea15a1536d46b7190ad6fff8ce7</td>\n",
       "      <td>2016-04-30 03:22:56 +0000</td>\n",
       "      <td>http://www.flipkart.com/elegance-polyester-mul...</td>\n",
       "      <td>Elegance Polyester Multicolor Abstract Eyelet ...</td>\n",
       "      <td>[\"Home Furnishing &gt;&gt; Curtains &amp; Accessories &gt;&gt;...</td>\n",
       "      <td>CRNEG7BKMFFYHQ8Z</td>\n",
       "      <td>1899.0</td>\n",
       "      <td>899.0</td>\n",
       "      <td>55b85ea15a1536d46b7190ad6fff8ce7.jpg</td>\n",
       "      <td>False</td>\n",
       "      <td>Key Features of Elegance Polyester Multicolor ...</td>\n",
       "      <td>No rating available</td>\n",
       "      <td>No rating available</td>\n",
       "      <td>Elegance</td>\n",
       "      <td>{\"product_specification\"=&gt;[{\"key\"=&gt;\"Brand\", \"v...</td>\n",
       "    </tr>\n",
       "    <tr>\n",
       "      <th>1</th>\n",
       "      <td>7b72c92c2f6c40268628ec5f14c6d590</td>\n",
       "      <td>2016-04-30 03:22:56 +0000</td>\n",
       "      <td>http://www.flipkart.com/sathiyas-cotton-bath-t...</td>\n",
       "      <td>Sathiyas Cotton Bath Towel</td>\n",
       "      <td>[\"Baby Care &gt;&gt; Baby Bath &amp; Skin &gt;&gt; Baby Bath T...</td>\n",
       "      <td>BTWEGFZHGBXPHZUH</td>\n",
       "      <td>600.0</td>\n",
       "      <td>449.0</td>\n",
       "      <td>7b72c92c2f6c40268628ec5f14c6d590.jpg</td>\n",
       "      <td>False</td>\n",
       "      <td>Specifications of Sathiyas Cotton Bath Towel (...</td>\n",
       "      <td>No rating available</td>\n",
       "      <td>No rating available</td>\n",
       "      <td>Sathiyas</td>\n",
       "      <td>{\"product_specification\"=&gt;[{\"key\"=&gt;\"Machine Wa...</td>\n",
       "    </tr>\n",
       "    <tr>\n",
       "      <th>2</th>\n",
       "      <td>64d5d4a258243731dc7bbb1eef49ad74</td>\n",
       "      <td>2016-04-30 03:22:56 +0000</td>\n",
       "      <td>http://www.flipkart.com/eurospa-cotton-terry-f...</td>\n",
       "      <td>Eurospa Cotton Terry Face Towel Set</td>\n",
       "      <td>[\"Baby Care &gt;&gt; Baby Bath &amp; Skin &gt;&gt; Baby Bath T...</td>\n",
       "      <td>BTWEG6SHXTDB2A2Y</td>\n",
       "      <td>NaN</td>\n",
       "      <td>NaN</td>\n",
       "      <td>64d5d4a258243731dc7bbb1eef49ad74.jpg</td>\n",
       "      <td>False</td>\n",
       "      <td>Key Features of Eurospa Cotton Terry Face Towe...</td>\n",
       "      <td>No rating available</td>\n",
       "      <td>No rating available</td>\n",
       "      <td>Eurospa</td>\n",
       "      <td>{\"product_specification\"=&gt;[{\"key\"=&gt;\"Material\",...</td>\n",
       "    </tr>\n",
       "    <tr>\n",
       "      <th>3</th>\n",
       "      <td>d4684dcdc759dd9cdf41504698d737d8</td>\n",
       "      <td>2016-06-20 08:49:52 +0000</td>\n",
       "      <td>http://www.flipkart.com/santosh-royal-fashion-...</td>\n",
       "      <td>SANTOSH ROYAL FASHION Cotton Printed King size...</td>\n",
       "      <td>[\"Home Furnishing &gt;&gt; Bed Linen &gt;&gt; Bedsheets &gt;&gt;...</td>\n",
       "      <td>BDSEJT9UQWHDUBH4</td>\n",
       "      <td>2699.0</td>\n",
       "      <td>1299.0</td>\n",
       "      <td>d4684dcdc759dd9cdf41504698d737d8.jpg</td>\n",
       "      <td>False</td>\n",
       "      <td>Key Features of SANTOSH ROYAL FASHION Cotton P...</td>\n",
       "      <td>No rating available</td>\n",
       "      <td>No rating available</td>\n",
       "      <td>SANTOSH ROYAL FASHION</td>\n",
       "      <td>{\"product_specification\"=&gt;[{\"key\"=&gt;\"Brand\", \"v...</td>\n",
       "    </tr>\n",
       "    <tr>\n",
       "      <th>4</th>\n",
       "      <td>6325b6870c54cd47be6ebfbffa620ec7</td>\n",
       "      <td>2016-06-20 08:49:52 +0000</td>\n",
       "      <td>http://www.flipkart.com/jaipur-print-cotton-fl...</td>\n",
       "      <td>Jaipur Print Cotton Floral King sized Double B...</td>\n",
       "      <td>[\"Home Furnishing &gt;&gt; Bed Linen &gt;&gt; Bedsheets &gt;&gt;...</td>\n",
       "      <td>BDSEJTHNGWVGWWQU</td>\n",
       "      <td>2599.0</td>\n",
       "      <td>698.0</td>\n",
       "      <td>6325b6870c54cd47be6ebfbffa620ec7.jpg</td>\n",
       "      <td>False</td>\n",
       "      <td>Key Features of Jaipur Print Cotton Floral Kin...</td>\n",
       "      <td>No rating available</td>\n",
       "      <td>No rating available</td>\n",
       "      <td>Jaipur Print</td>\n",
       "      <td>{\"product_specification\"=&gt;[{\"key\"=&gt;\"Machine Wa...</td>\n",
       "    </tr>\n",
       "  </tbody>\n",
       "</table>\n",
       "</div>"
      ],
      "text/plain": [
       "                            uniq_id            crawl_timestamp  \\\n",
       "0  55b85ea15a1536d46b7190ad6fff8ce7  2016-04-30 03:22:56 +0000   \n",
       "1  7b72c92c2f6c40268628ec5f14c6d590  2016-04-30 03:22:56 +0000   \n",
       "2  64d5d4a258243731dc7bbb1eef49ad74  2016-04-30 03:22:56 +0000   \n",
       "3  d4684dcdc759dd9cdf41504698d737d8  2016-06-20 08:49:52 +0000   \n",
       "4  6325b6870c54cd47be6ebfbffa620ec7  2016-06-20 08:49:52 +0000   \n",
       "\n",
       "                                         product_url  \\\n",
       "0  http://www.flipkart.com/elegance-polyester-mul...   \n",
       "1  http://www.flipkart.com/sathiyas-cotton-bath-t...   \n",
       "2  http://www.flipkart.com/eurospa-cotton-terry-f...   \n",
       "3  http://www.flipkart.com/santosh-royal-fashion-...   \n",
       "4  http://www.flipkart.com/jaipur-print-cotton-fl...   \n",
       "\n",
       "                                        product_name  \\\n",
       "0  Elegance Polyester Multicolor Abstract Eyelet ...   \n",
       "1                         Sathiyas Cotton Bath Towel   \n",
       "2                Eurospa Cotton Terry Face Towel Set   \n",
       "3  SANTOSH ROYAL FASHION Cotton Printed King size...   \n",
       "4  Jaipur Print Cotton Floral King sized Double B...   \n",
       "\n",
       "                               product_category_tree               pid  \\\n",
       "0  [\"Home Furnishing >> Curtains & Accessories >>...  CRNEG7BKMFFYHQ8Z   \n",
       "1  [\"Baby Care >> Baby Bath & Skin >> Baby Bath T...  BTWEGFZHGBXPHZUH   \n",
       "2  [\"Baby Care >> Baby Bath & Skin >> Baby Bath T...  BTWEG6SHXTDB2A2Y   \n",
       "3  [\"Home Furnishing >> Bed Linen >> Bedsheets >>...  BDSEJT9UQWHDUBH4   \n",
       "4  [\"Home Furnishing >> Bed Linen >> Bedsheets >>...  BDSEJTHNGWVGWWQU   \n",
       "\n",
       "   retail_price  discounted_price                                 image  \\\n",
       "0        1899.0             899.0  55b85ea15a1536d46b7190ad6fff8ce7.jpg   \n",
       "1         600.0             449.0  7b72c92c2f6c40268628ec5f14c6d590.jpg   \n",
       "2           NaN               NaN  64d5d4a258243731dc7bbb1eef49ad74.jpg   \n",
       "3        2699.0            1299.0  d4684dcdc759dd9cdf41504698d737d8.jpg   \n",
       "4        2599.0             698.0  6325b6870c54cd47be6ebfbffa620ec7.jpg   \n",
       "\n",
       "   is_FK_Advantage_product                                        description  \\\n",
       "0                    False  Key Features of Elegance Polyester Multicolor ...   \n",
       "1                    False  Specifications of Sathiyas Cotton Bath Towel (...   \n",
       "2                    False  Key Features of Eurospa Cotton Terry Face Towe...   \n",
       "3                    False  Key Features of SANTOSH ROYAL FASHION Cotton P...   \n",
       "4                    False  Key Features of Jaipur Print Cotton Floral Kin...   \n",
       "\n",
       "        product_rating       overall_rating                  brand  \\\n",
       "0  No rating available  No rating available               Elegance   \n",
       "1  No rating available  No rating available               Sathiyas   \n",
       "2  No rating available  No rating available                Eurospa   \n",
       "3  No rating available  No rating available  SANTOSH ROYAL FASHION   \n",
       "4  No rating available  No rating available           Jaipur Print   \n",
       "\n",
       "                              product_specifications  \n",
       "0  {\"product_specification\"=>[{\"key\"=>\"Brand\", \"v...  \n",
       "1  {\"product_specification\"=>[{\"key\"=>\"Machine Wa...  \n",
       "2  {\"product_specification\"=>[{\"key\"=>\"Material\",...  \n",
       "3  {\"product_specification\"=>[{\"key\"=>\"Brand\", \"v...  \n",
       "4  {\"product_specification\"=>[{\"key\"=>\"Machine Wa...  "
      ]
     },
     "execution_count": 2,
     "metadata": {},
     "output_type": "execute_result"
    }
   ],
   "source": [
    "df = pd.read_csv('flipkart_com-ecommerce_sample_1050.csv',sep=',')\n",
    "df.head()"
   ]
  },
  {
   "cell_type": "code",
   "execution_count": 3,
   "id": "a3451f84",
   "metadata": {
    "scrolled": true
   },
   "outputs": [
    {
     "data": {
      "text/plain": [
       "Index(['uniq_id', 'crawl_timestamp', 'product_url', 'product_name',\n",
       "       'product_category_tree', 'pid', 'retail_price', 'discounted_price',\n",
       "       'image', 'is_FK_Advantage_product', 'description', 'product_rating',\n",
       "       'overall_rating', 'brand', 'product_specifications'],\n",
       "      dtype='object')"
      ]
     },
     "execution_count": 3,
     "metadata": {},
     "output_type": "execute_result"
    }
   ],
   "source": [
    "df.columns"
   ]
  },
  {
   "cell_type": "code",
   "execution_count": 4,
   "id": "3c632447",
   "metadata": {
    "scrolled": false
   },
   "outputs": [
    {
     "data": {
      "text/plain": [
       "False    993\n",
       "True      57\n",
       "Name: is_FK_Advantage_product, dtype: int64"
      ]
     },
     "execution_count": 4,
     "metadata": {},
     "output_type": "execute_result"
    }
   ],
   "source": [
    "df['is_FK_Advantage_product'].value_counts()"
   ]
  },
  {
   "cell_type": "markdown",
   "id": "0a430ab7",
   "metadata": {},
   "source": [
    "> Produits exclusifs ?"
   ]
  },
  {
   "cell_type": "code",
   "execution_count": 5,
   "id": "8259924c",
   "metadata": {},
   "outputs": [
    {
     "data": {
      "text/html": [
       "<div>\n",
       "<style scoped>\n",
       "    .dataframe tbody tr th:only-of-type {\n",
       "        vertical-align: middle;\n",
       "    }\n",
       "\n",
       "    .dataframe tbody tr th {\n",
       "        vertical-align: top;\n",
       "    }\n",
       "\n",
       "    .dataframe thead th {\n",
       "        text-align: right;\n",
       "    }\n",
       "</style>\n",
       "<table border=\"1\" class=\"dataframe\">\n",
       "  <thead>\n",
       "    <tr style=\"text-align: right;\">\n",
       "      <th></th>\n",
       "      <th>retail_price</th>\n",
       "      <th>discounted_price</th>\n",
       "    </tr>\n",
       "  </thead>\n",
       "  <tbody>\n",
       "    <tr>\n",
       "      <th>count</th>\n",
       "      <td>1049.000000</td>\n",
       "      <td>1049.000000</td>\n",
       "    </tr>\n",
       "    <tr>\n",
       "      <th>mean</th>\n",
       "      <td>2186.197331</td>\n",
       "      <td>1584.527169</td>\n",
       "    </tr>\n",
       "    <tr>\n",
       "      <th>std</th>\n",
       "      <td>7639.229411</td>\n",
       "      <td>7475.099680</td>\n",
       "    </tr>\n",
       "    <tr>\n",
       "      <th>min</th>\n",
       "      <td>35.000000</td>\n",
       "      <td>35.000000</td>\n",
       "    </tr>\n",
       "    <tr>\n",
       "      <th>25%</th>\n",
       "      <td>555.000000</td>\n",
       "      <td>340.000000</td>\n",
       "    </tr>\n",
       "    <tr>\n",
       "      <th>50%</th>\n",
       "      <td>999.000000</td>\n",
       "      <td>600.000000</td>\n",
       "    </tr>\n",
       "    <tr>\n",
       "      <th>75%</th>\n",
       "      <td>1999.000000</td>\n",
       "      <td>1199.000000</td>\n",
       "    </tr>\n",
       "    <tr>\n",
       "      <th>max</th>\n",
       "      <td>201000.000000</td>\n",
       "      <td>201000.000000</td>\n",
       "    </tr>\n",
       "  </tbody>\n",
       "</table>\n",
       "</div>"
      ],
      "text/plain": [
       "        retail_price  discounted_price\n",
       "count    1049.000000       1049.000000\n",
       "mean     2186.197331       1584.527169\n",
       "std      7639.229411       7475.099680\n",
       "min        35.000000         35.000000\n",
       "25%       555.000000        340.000000\n",
       "50%       999.000000        600.000000\n",
       "75%      1999.000000       1199.000000\n",
       "max    201000.000000     201000.000000"
      ]
     },
     "execution_count": 5,
     "metadata": {},
     "output_type": "execute_result"
    }
   ],
   "source": [
    "df.describe()"
   ]
  },
  {
   "cell_type": "code",
   "execution_count": 6,
   "id": "e00865ce",
   "metadata": {
    "scrolled": true
   },
   "outputs": [
    {
     "data": {
      "text/html": [
       "<div>\n",
       "<style scoped>\n",
       "    .dataframe tbody tr th:only-of-type {\n",
       "        vertical-align: middle;\n",
       "    }\n",
       "\n",
       "    .dataframe tbody tr th {\n",
       "        vertical-align: top;\n",
       "    }\n",
       "\n",
       "    .dataframe thead th {\n",
       "        text-align: right;\n",
       "    }\n",
       "</style>\n",
       "<table border=\"1\" class=\"dataframe\">\n",
       "  <thead>\n",
       "    <tr style=\"text-align: right;\">\n",
       "      <th></th>\n",
       "      <th>uniq_id</th>\n",
       "      <th>crawl_timestamp</th>\n",
       "      <th>product_url</th>\n",
       "      <th>product_name</th>\n",
       "      <th>product_category_tree</th>\n",
       "      <th>pid</th>\n",
       "      <th>retail_price</th>\n",
       "      <th>discounted_price</th>\n",
       "      <th>image</th>\n",
       "      <th>is_FK_Advantage_product</th>\n",
       "      <th>description</th>\n",
       "      <th>product_rating</th>\n",
       "      <th>overall_rating</th>\n",
       "      <th>brand</th>\n",
       "      <th>product_specifications</th>\n",
       "    </tr>\n",
       "  </thead>\n",
       "  <tbody>\n",
       "    <tr>\n",
       "      <th>0</th>\n",
       "      <td>55b85ea15a1536d46b7190ad6fff8ce7</td>\n",
       "      <td>2016-04-30 03:22:56 +0000</td>\n",
       "      <td>http://www.flipkart.com/elegance-polyester-mul...</td>\n",
       "      <td>Elegance Polyester Multicolor Abstract Eyelet ...</td>\n",
       "      <td>[\"Home Furnishing &gt;&gt; Curtains &amp; Accessories &gt;&gt;...</td>\n",
       "      <td>CRNEG7BKMFFYHQ8Z</td>\n",
       "      <td>1899.0</td>\n",
       "      <td>899.0</td>\n",
       "      <td>55b85ea15a1536d46b7190ad6fff8ce7.jpg</td>\n",
       "      <td>False</td>\n",
       "      <td>Key Features of Elegance Polyester Multicolor ...</td>\n",
       "      <td>No rating available</td>\n",
       "      <td>No rating available</td>\n",
       "      <td>Elegance</td>\n",
       "      <td>{\"product_specification\"=&gt;[{\"key\"=&gt;\"Brand\", \"v...</td>\n",
       "    </tr>\n",
       "    <tr>\n",
       "      <th>1</th>\n",
       "      <td>7b72c92c2f6c40268628ec5f14c6d590</td>\n",
       "      <td>2016-04-30 03:22:56 +0000</td>\n",
       "      <td>http://www.flipkart.com/sathiyas-cotton-bath-t...</td>\n",
       "      <td>Sathiyas Cotton Bath Towel</td>\n",
       "      <td>[\"Baby Care &gt;&gt; Baby Bath &amp; Skin &gt;&gt; Baby Bath T...</td>\n",
       "      <td>BTWEGFZHGBXPHZUH</td>\n",
       "      <td>600.0</td>\n",
       "      <td>449.0</td>\n",
       "      <td>7b72c92c2f6c40268628ec5f14c6d590.jpg</td>\n",
       "      <td>False</td>\n",
       "      <td>Specifications of Sathiyas Cotton Bath Towel (...</td>\n",
       "      <td>No rating available</td>\n",
       "      <td>No rating available</td>\n",
       "      <td>Sathiyas</td>\n",
       "      <td>{\"product_specification\"=&gt;[{\"key\"=&gt;\"Machine Wa...</td>\n",
       "    </tr>\n",
       "    <tr>\n",
       "      <th>2</th>\n",
       "      <td>64d5d4a258243731dc7bbb1eef49ad74</td>\n",
       "      <td>2016-04-30 03:22:56 +0000</td>\n",
       "      <td>http://www.flipkart.com/eurospa-cotton-terry-f...</td>\n",
       "      <td>Eurospa Cotton Terry Face Towel Set</td>\n",
       "      <td>[\"Baby Care &gt;&gt; Baby Bath &amp; Skin &gt;&gt; Baby Bath T...</td>\n",
       "      <td>BTWEG6SHXTDB2A2Y</td>\n",
       "      <td>NaN</td>\n",
       "      <td>NaN</td>\n",
       "      <td>64d5d4a258243731dc7bbb1eef49ad74.jpg</td>\n",
       "      <td>False</td>\n",
       "      <td>Key Features of Eurospa Cotton Terry Face Towe...</td>\n",
       "      <td>No rating available</td>\n",
       "      <td>No rating available</td>\n",
       "      <td>Eurospa</td>\n",
       "      <td>{\"product_specification\"=&gt;[{\"key\"=&gt;\"Material\",...</td>\n",
       "    </tr>\n",
       "    <tr>\n",
       "      <th>3</th>\n",
       "      <td>d4684dcdc759dd9cdf41504698d737d8</td>\n",
       "      <td>2016-06-20 08:49:52 +0000</td>\n",
       "      <td>http://www.flipkart.com/santosh-royal-fashion-...</td>\n",
       "      <td>SANTOSH ROYAL FASHION Cotton Printed King size...</td>\n",
       "      <td>[\"Home Furnishing &gt;&gt; Bed Linen &gt;&gt; Bedsheets &gt;&gt;...</td>\n",
       "      <td>BDSEJT9UQWHDUBH4</td>\n",
       "      <td>2699.0</td>\n",
       "      <td>1299.0</td>\n",
       "      <td>d4684dcdc759dd9cdf41504698d737d8.jpg</td>\n",
       "      <td>False</td>\n",
       "      <td>Key Features of SANTOSH ROYAL FASHION Cotton P...</td>\n",
       "      <td>No rating available</td>\n",
       "      <td>No rating available</td>\n",
       "      <td>SANTOSH ROYAL FASHION</td>\n",
       "      <td>{\"product_specification\"=&gt;[{\"key\"=&gt;\"Brand\", \"v...</td>\n",
       "    </tr>\n",
       "    <tr>\n",
       "      <th>4</th>\n",
       "      <td>6325b6870c54cd47be6ebfbffa620ec7</td>\n",
       "      <td>2016-06-20 08:49:52 +0000</td>\n",
       "      <td>http://www.flipkart.com/jaipur-print-cotton-fl...</td>\n",
       "      <td>Jaipur Print Cotton Floral King sized Double B...</td>\n",
       "      <td>[\"Home Furnishing &gt;&gt; Bed Linen &gt;&gt; Bedsheets &gt;&gt;...</td>\n",
       "      <td>BDSEJTHNGWVGWWQU</td>\n",
       "      <td>2599.0</td>\n",
       "      <td>698.0</td>\n",
       "      <td>6325b6870c54cd47be6ebfbffa620ec7.jpg</td>\n",
       "      <td>False</td>\n",
       "      <td>Key Features of Jaipur Print Cotton Floral Kin...</td>\n",
       "      <td>No rating available</td>\n",
       "      <td>No rating available</td>\n",
       "      <td>Jaipur Print</td>\n",
       "      <td>{\"product_specification\"=&gt;[{\"key\"=&gt;\"Machine Wa...</td>\n",
       "    </tr>\n",
       "    <tr>\n",
       "      <th>...</th>\n",
       "      <td>...</td>\n",
       "      <td>...</td>\n",
       "      <td>...</td>\n",
       "      <td>...</td>\n",
       "      <td>...</td>\n",
       "      <td>...</td>\n",
       "      <td>...</td>\n",
       "      <td>...</td>\n",
       "      <td>...</td>\n",
       "      <td>...</td>\n",
       "      <td>...</td>\n",
       "      <td>...</td>\n",
       "      <td>...</td>\n",
       "      <td>...</td>\n",
       "      <td>...</td>\n",
       "    </tr>\n",
       "    <tr>\n",
       "      <th>1045</th>\n",
       "      <td>958f54f4c46b53c8a0a9b8167d9140bc</td>\n",
       "      <td>2015-12-01 10:15:43 +0000</td>\n",
       "      <td>http://www.flipkart.com/oren-empower-extra-lar...</td>\n",
       "      <td>Oren Empower Extra Large Self Adhesive Sticker</td>\n",
       "      <td>[\"Baby Care &gt;&gt; Baby &amp; Kids Gifts &gt;&gt; Stickers &gt;...</td>\n",
       "      <td>STIE88ZGTX65GH4V</td>\n",
       "      <td>1399.0</td>\n",
       "      <td>999.0</td>\n",
       "      <td>958f54f4c46b53c8a0a9b8167d9140bc.jpg</td>\n",
       "      <td>False</td>\n",
       "      <td>Oren Empower Extra Large Self Adhesive Sticker...</td>\n",
       "      <td>No rating available</td>\n",
       "      <td>No rating available</td>\n",
       "      <td>Oren Empower</td>\n",
       "      <td>{\"product_specification\"=&gt;[{\"key\"=&gt;\"Number of ...</td>\n",
       "    </tr>\n",
       "    <tr>\n",
       "      <th>1046</th>\n",
       "      <td>fd6cbcc22efb6b761bd564c28928483c</td>\n",
       "      <td>2015-12-01 10:15:43 +0000</td>\n",
       "      <td>http://www.flipkart.com/wallmantra-large-vinyl...</td>\n",
       "      <td>Wallmantra Large Vinyl Sticker Sticker</td>\n",
       "      <td>[\"Baby Care &gt;&gt; Baby &amp; Kids Gifts &gt;&gt; Stickers &gt;...</td>\n",
       "      <td>STIEC889ZD5GDCVQ</td>\n",
       "      <td>4930.0</td>\n",
       "      <td>1896.0</td>\n",
       "      <td>fd6cbcc22efb6b761bd564c28928483c.jpg</td>\n",
       "      <td>False</td>\n",
       "      <td>Wallmantra Large Vinyl Sticker Sticker (Pack o...</td>\n",
       "      <td>No rating available</td>\n",
       "      <td>No rating available</td>\n",
       "      <td>Wallmantra</td>\n",
       "      <td>{\"product_specification\"=&gt;[{\"key\"=&gt;\"Number of ...</td>\n",
       "    </tr>\n",
       "    <tr>\n",
       "      <th>1047</th>\n",
       "      <td>5912e037d12774bb73a2048f35a00009</td>\n",
       "      <td>2015-12-01 10:15:43 +0000</td>\n",
       "      <td>http://www.flipkart.com/uberlyfe-extra-large-p...</td>\n",
       "      <td>Uberlyfe Extra Large Pigmented Polyvinyl Films...</td>\n",
       "      <td>[\"Baby Care &gt;&gt; Baby &amp; Kids Gifts &gt;&gt; Stickers &gt;...</td>\n",
       "      <td>STIE5UVGW2JWVWCT</td>\n",
       "      <td>4500.0</td>\n",
       "      <td>1449.0</td>\n",
       "      <td>5912e037d12774bb73a2048f35a00009.jpg</td>\n",
       "      <td>False</td>\n",
       "      <td>Buy Uberlyfe Extra Large Pigmented Polyvinyl F...</td>\n",
       "      <td>No rating available</td>\n",
       "      <td>No rating available</td>\n",
       "      <td>Uberlyfe</td>\n",
       "      <td>{\"product_specification\"=&gt;[{\"key\"=&gt;\"Number of ...</td>\n",
       "    </tr>\n",
       "    <tr>\n",
       "      <th>1048</th>\n",
       "      <td>c3edc504d1b4f0ba6224fa53a43a7ad6</td>\n",
       "      <td>2015-12-01 10:15:43 +0000</td>\n",
       "      <td>http://www.flipkart.com/wallmantra-medium-viny...</td>\n",
       "      <td>Wallmantra Medium Vinyl Sticker Sticker</td>\n",
       "      <td>[\"Baby Care &gt;&gt; Baby &amp; Kids Gifts &gt;&gt; Stickers &gt;...</td>\n",
       "      <td>STIEC889ZGFD3RCE</td>\n",
       "      <td>3465.0</td>\n",
       "      <td>1333.0</td>\n",
       "      <td>c3edc504d1b4f0ba6224fa53a43a7ad6.jpg</td>\n",
       "      <td>False</td>\n",
       "      <td>Buy Wallmantra Medium Vinyl Sticker Sticker fo...</td>\n",
       "      <td>No rating available</td>\n",
       "      <td>No rating available</td>\n",
       "      <td>Wallmantra</td>\n",
       "      <td>{\"product_specification\"=&gt;[{\"key\"=&gt;\"Number of ...</td>\n",
       "    </tr>\n",
       "    <tr>\n",
       "      <th>1049</th>\n",
       "      <td>f2f027ad6a6df617c9f125173da71e44</td>\n",
       "      <td>2015-12-01 10:15:43 +0000</td>\n",
       "      <td>http://www.flipkart.com/uberlyfe-large-vinyl-s...</td>\n",
       "      <td>Uberlyfe Large Vinyl Sticker</td>\n",
       "      <td>[\"Baby Care &gt;&gt; Baby &amp; Kids Gifts &gt;&gt; Stickers &gt;...</td>\n",
       "      <td>STIE2ZEPACRQJKH7</td>\n",
       "      <td>1190.0</td>\n",
       "      <td>595.0</td>\n",
       "      <td>f2f027ad6a6df617c9f125173da71e44.jpg</td>\n",
       "      <td>False</td>\n",
       "      <td>Buy Uberlyfe Large Vinyl Sticker for Rs.595 on...</td>\n",
       "      <td>4</td>\n",
       "      <td>4</td>\n",
       "      <td>Uberlyfe</td>\n",
       "      <td>{\"product_specification\"=&gt;[{\"key\"=&gt;\"Sales Pack...</td>\n",
       "    </tr>\n",
       "  </tbody>\n",
       "</table>\n",
       "<p>993 rows × 15 columns</p>\n",
       "</div>"
      ],
      "text/plain": [
       "                               uniq_id            crawl_timestamp  \\\n",
       "0     55b85ea15a1536d46b7190ad6fff8ce7  2016-04-30 03:22:56 +0000   \n",
       "1     7b72c92c2f6c40268628ec5f14c6d590  2016-04-30 03:22:56 +0000   \n",
       "2     64d5d4a258243731dc7bbb1eef49ad74  2016-04-30 03:22:56 +0000   \n",
       "3     d4684dcdc759dd9cdf41504698d737d8  2016-06-20 08:49:52 +0000   \n",
       "4     6325b6870c54cd47be6ebfbffa620ec7  2016-06-20 08:49:52 +0000   \n",
       "...                                ...                        ...   \n",
       "1045  958f54f4c46b53c8a0a9b8167d9140bc  2015-12-01 10:15:43 +0000   \n",
       "1046  fd6cbcc22efb6b761bd564c28928483c  2015-12-01 10:15:43 +0000   \n",
       "1047  5912e037d12774bb73a2048f35a00009  2015-12-01 10:15:43 +0000   \n",
       "1048  c3edc504d1b4f0ba6224fa53a43a7ad6  2015-12-01 10:15:43 +0000   \n",
       "1049  f2f027ad6a6df617c9f125173da71e44  2015-12-01 10:15:43 +0000   \n",
       "\n",
       "                                            product_url  \\\n",
       "0     http://www.flipkart.com/elegance-polyester-mul...   \n",
       "1     http://www.flipkart.com/sathiyas-cotton-bath-t...   \n",
       "2     http://www.flipkart.com/eurospa-cotton-terry-f...   \n",
       "3     http://www.flipkart.com/santosh-royal-fashion-...   \n",
       "4     http://www.flipkart.com/jaipur-print-cotton-fl...   \n",
       "...                                                 ...   \n",
       "1045  http://www.flipkart.com/oren-empower-extra-lar...   \n",
       "1046  http://www.flipkart.com/wallmantra-large-vinyl...   \n",
       "1047  http://www.flipkart.com/uberlyfe-extra-large-p...   \n",
       "1048  http://www.flipkart.com/wallmantra-medium-viny...   \n",
       "1049  http://www.flipkart.com/uberlyfe-large-vinyl-s...   \n",
       "\n",
       "                                           product_name  \\\n",
       "0     Elegance Polyester Multicolor Abstract Eyelet ...   \n",
       "1                            Sathiyas Cotton Bath Towel   \n",
       "2                   Eurospa Cotton Terry Face Towel Set   \n",
       "3     SANTOSH ROYAL FASHION Cotton Printed King size...   \n",
       "4     Jaipur Print Cotton Floral King sized Double B...   \n",
       "...                                                 ...   \n",
       "1045     Oren Empower Extra Large Self Adhesive Sticker   \n",
       "1046             Wallmantra Large Vinyl Sticker Sticker   \n",
       "1047  Uberlyfe Extra Large Pigmented Polyvinyl Films...   \n",
       "1048            Wallmantra Medium Vinyl Sticker Sticker   \n",
       "1049                       Uberlyfe Large Vinyl Sticker   \n",
       "\n",
       "                                  product_category_tree               pid  \\\n",
       "0     [\"Home Furnishing >> Curtains & Accessories >>...  CRNEG7BKMFFYHQ8Z   \n",
       "1     [\"Baby Care >> Baby Bath & Skin >> Baby Bath T...  BTWEGFZHGBXPHZUH   \n",
       "2     [\"Baby Care >> Baby Bath & Skin >> Baby Bath T...  BTWEG6SHXTDB2A2Y   \n",
       "3     [\"Home Furnishing >> Bed Linen >> Bedsheets >>...  BDSEJT9UQWHDUBH4   \n",
       "4     [\"Home Furnishing >> Bed Linen >> Bedsheets >>...  BDSEJTHNGWVGWWQU   \n",
       "...                                                 ...               ...   \n",
       "1045  [\"Baby Care >> Baby & Kids Gifts >> Stickers >...  STIE88ZGTX65GH4V   \n",
       "1046  [\"Baby Care >> Baby & Kids Gifts >> Stickers >...  STIEC889ZD5GDCVQ   \n",
       "1047  [\"Baby Care >> Baby & Kids Gifts >> Stickers >...  STIE5UVGW2JWVWCT   \n",
       "1048  [\"Baby Care >> Baby & Kids Gifts >> Stickers >...  STIEC889ZGFD3RCE   \n",
       "1049  [\"Baby Care >> Baby & Kids Gifts >> Stickers >...  STIE2ZEPACRQJKH7   \n",
       "\n",
       "      retail_price  discounted_price                                 image  \\\n",
       "0           1899.0             899.0  55b85ea15a1536d46b7190ad6fff8ce7.jpg   \n",
       "1            600.0             449.0  7b72c92c2f6c40268628ec5f14c6d590.jpg   \n",
       "2              NaN               NaN  64d5d4a258243731dc7bbb1eef49ad74.jpg   \n",
       "3           2699.0            1299.0  d4684dcdc759dd9cdf41504698d737d8.jpg   \n",
       "4           2599.0             698.0  6325b6870c54cd47be6ebfbffa620ec7.jpg   \n",
       "...            ...               ...                                   ...   \n",
       "1045        1399.0             999.0  958f54f4c46b53c8a0a9b8167d9140bc.jpg   \n",
       "1046        4930.0            1896.0  fd6cbcc22efb6b761bd564c28928483c.jpg   \n",
       "1047        4500.0            1449.0  5912e037d12774bb73a2048f35a00009.jpg   \n",
       "1048        3465.0            1333.0  c3edc504d1b4f0ba6224fa53a43a7ad6.jpg   \n",
       "1049        1190.0             595.0  f2f027ad6a6df617c9f125173da71e44.jpg   \n",
       "\n",
       "      is_FK_Advantage_product  \\\n",
       "0                       False   \n",
       "1                       False   \n",
       "2                       False   \n",
       "3                       False   \n",
       "4                       False   \n",
       "...                       ...   \n",
       "1045                    False   \n",
       "1046                    False   \n",
       "1047                    False   \n",
       "1048                    False   \n",
       "1049                    False   \n",
       "\n",
       "                                            description       product_rating  \\\n",
       "0     Key Features of Elegance Polyester Multicolor ...  No rating available   \n",
       "1     Specifications of Sathiyas Cotton Bath Towel (...  No rating available   \n",
       "2     Key Features of Eurospa Cotton Terry Face Towe...  No rating available   \n",
       "3     Key Features of SANTOSH ROYAL FASHION Cotton P...  No rating available   \n",
       "4     Key Features of Jaipur Print Cotton Floral Kin...  No rating available   \n",
       "...                                                 ...                  ...   \n",
       "1045  Oren Empower Extra Large Self Adhesive Sticker...  No rating available   \n",
       "1046  Wallmantra Large Vinyl Sticker Sticker (Pack o...  No rating available   \n",
       "1047  Buy Uberlyfe Extra Large Pigmented Polyvinyl F...  No rating available   \n",
       "1048  Buy Wallmantra Medium Vinyl Sticker Sticker fo...  No rating available   \n",
       "1049  Buy Uberlyfe Large Vinyl Sticker for Rs.595 on...                    4   \n",
       "\n",
       "           overall_rating                  brand  \\\n",
       "0     No rating available               Elegance   \n",
       "1     No rating available               Sathiyas   \n",
       "2     No rating available                Eurospa   \n",
       "3     No rating available  SANTOSH ROYAL FASHION   \n",
       "4     No rating available           Jaipur Print   \n",
       "...                   ...                    ...   \n",
       "1045  No rating available           Oren Empower   \n",
       "1046  No rating available             Wallmantra   \n",
       "1047  No rating available               Uberlyfe   \n",
       "1048  No rating available             Wallmantra   \n",
       "1049                    4               Uberlyfe   \n",
       "\n",
       "                                 product_specifications  \n",
       "0     {\"product_specification\"=>[{\"key\"=>\"Brand\", \"v...  \n",
       "1     {\"product_specification\"=>[{\"key\"=>\"Machine Wa...  \n",
       "2     {\"product_specification\"=>[{\"key\"=>\"Material\",...  \n",
       "3     {\"product_specification\"=>[{\"key\"=>\"Brand\", \"v...  \n",
       "4     {\"product_specification\"=>[{\"key\"=>\"Machine Wa...  \n",
       "...                                                 ...  \n",
       "1045  {\"product_specification\"=>[{\"key\"=>\"Number of ...  \n",
       "1046  {\"product_specification\"=>[{\"key\"=>\"Number of ...  \n",
       "1047  {\"product_specification\"=>[{\"key\"=>\"Number of ...  \n",
       "1048  {\"product_specification\"=>[{\"key\"=>\"Number of ...  \n",
       "1049  {\"product_specification\"=>[{\"key\"=>\"Sales Pack...  \n",
       "\n",
       "[993 rows x 15 columns]"
      ]
     },
     "execution_count": 6,
     "metadata": {},
     "output_type": "execute_result"
    }
   ],
   "source": [
    "df.loc[\n",
    "    df['is_FK_Advantage_product'] == False\n",
    "]"
   ]
  },
  {
   "cell_type": "code",
   "execution_count": 7,
   "id": "6b4eec1f",
   "metadata": {},
   "outputs": [
    {
     "data": {
      "text/html": [
       "<div>\n",
       "<style scoped>\n",
       "    .dataframe tbody tr th:only-of-type {\n",
       "        vertical-align: middle;\n",
       "    }\n",
       "\n",
       "    .dataframe tbody tr th {\n",
       "        vertical-align: top;\n",
       "    }\n",
       "\n",
       "    .dataframe thead th {\n",
       "        text-align: right;\n",
       "    }\n",
       "</style>\n",
       "<table border=\"1\" class=\"dataframe\">\n",
       "  <thead>\n",
       "    <tr style=\"text-align: right;\">\n",
       "      <th></th>\n",
       "      <th>product_category_tree</th>\n",
       "      <th>product_name</th>\n",
       "      <th>description</th>\n",
       "      <th>product_specifications</th>\n",
       "    </tr>\n",
       "  </thead>\n",
       "  <tbody>\n",
       "    <tr>\n",
       "      <th>0</th>\n",
       "      <td>[\"Home Furnishing &gt;&gt; Curtains &amp; Accessories &gt;&gt; Curtains &gt;&gt; Elegance Polyester Multicolor Abstract Eyelet Do...\"]</td>\n",
       "      <td>Elegance Polyester Multicolor Abstract Eyelet Door Curtain</td>\n",
       "      <td>Key Features of Elegance Polyester Multicolor Abstract Eyelet Door Curtain Floral Curtain,Elegance Polyester Multicolor Abstract Eyelet Door Curtain (213 cm in Height, Pack of 2) Price: Rs. 899 This curtain enhances the look of the interiors.This curtain is made from 100% high quality polyester fabric.It features an eyelet style stitch with Metal Ring.It makes the room environment romantic and loving.This curtain is ant- wrinkle and anti shrinkage and have elegant apparance.Give your home a ...</td>\n",
       "      <td>{\"product_specification\"=&gt;[{\"key\"=&gt;\"Brand\", \"value\"=&gt;\"Elegance\"}, {\"key\"=&gt;\"Designed For\", \"value\"=&gt;\"Door\"}, {\"key\"=&gt;\"Type\", \"value\"=&gt;\"Eyelet\"}, {\"key\"=&gt;\"Model Name\", \"value\"=&gt;\"Abstract Polyester Door Curtain Set Of 2\"}, {\"key\"=&gt;\"Model ID\", \"value\"=&gt;\"Duster25\"}, {\"key\"=&gt;\"Color\", \"value\"=&gt;\"Multicolor\"}, {\"key\"=&gt;\"Length\", \"value\"=&gt;\"213 cm\"}, {\"key\"=&gt;\"Number of Contents in Sales Package\", \"value\"=&gt;\"Pack of 2\"}, {\"key\"=&gt;\"Sales Package\", \"value\"=&gt;\"2 Curtains\"}, {\"key\"=&gt;\"Material\", \"value\"=&gt;\"Polyes...</td>\n",
       "    </tr>\n",
       "    <tr>\n",
       "      <th>1</th>\n",
       "      <td>[\"Baby Care &gt;&gt; Baby Bath &amp; Skin &gt;&gt; Baby Bath Towels &gt;&gt; Sathiyas Baby Bath Towels &gt;&gt; Sathiyas Cotton Bath Towel (3 Bath Towel, Red, Y...\"]</td>\n",
       "      <td>Sathiyas Cotton Bath Towel</td>\n",
       "      <td>Specifications of Sathiyas Cotton Bath Towel (3 Bath Towel, Red, Yellow, Blue) Bath Towel Features Machine Washable Yes Material Cotton Design Self Design General Brand Sathiyas Type Bath Towel GSM 500 Model Name Sathiyas cotton bath towel Ideal For Men, Women, Boys, Girls Model ID asvtwl322 Color Red, Yellow, Blue Size Mediam Dimensions Length 30 inch Width 60 inch In the Box Number of Contents in Sales Package 3 Sales Package 3 Bath Towel</td>\n",
       "      <td>{\"product_specification\"=&gt;[{\"key\"=&gt;\"Machine Washable\", \"value\"=&gt;\"Yes\"}, {\"key\"=&gt;\"Material\", \"value\"=&gt;\"Cotton\"}, {\"key\"=&gt;\"Design\", \"value\"=&gt;\"Self Design\"}, {\"key\"=&gt;\"Brand\", \"value\"=&gt;\"Sathiyas\"}, {\"key\"=&gt;\"Type\", \"value\"=&gt;\"Bath Towel\"}, {\"key\"=&gt;\"GSM\", \"value\"=&gt;\"500\"}, {\"key\"=&gt;\"Model Name\", \"value\"=&gt;\"Sathiyas cotton bath towel\"}, {\"key\"=&gt;\"Ideal For\", \"value\"=&gt;\"Men, Women, Boys, Girls\"}, {\"key\"=&gt;\"Model ID\", \"value\"=&gt;\"asvtwl322\"}, {\"key\"=&gt;\"Color\", \"value\"=&gt;\"Red, Yellow, Blue\"}, {\"key\"=&gt;\"Size\", \"va...</td>\n",
       "    </tr>\n",
       "    <tr>\n",
       "      <th>2</th>\n",
       "      <td>[\"Baby Care &gt;&gt; Baby Bath &amp; Skin &gt;&gt; Baby Bath Towels &gt;&gt; Eurospa Baby Bath Towels &gt;&gt; Eurospa Cotton Terry Face Towel Set (20 PIECE FA...\"]</td>\n",
       "      <td>Eurospa Cotton Terry Face Towel Set</td>\n",
       "      <td>Key Features of Eurospa Cotton Terry Face Towel Set Size: small Height: 9 inch GSM: 360,Eurospa Cotton Terry Face Towel Set (20 PIECE FACE TOWEL SET, Assorted) Price: Rs. 299 Eurospa brings to you an exclusively designed, 100% soft cotton towels of export quality. All our products have soft texture that takes care of your skin and gives you that enriched feeling you deserve. Eurospa has been exporting its bath towels to lot of renowned brands for last 10 years and is famous for its fine prin...</td>\n",
       "      <td>{\"product_specification\"=&gt;[{\"key\"=&gt;\"Material\", \"value\"=&gt;\"Cotton Terry\"}, {\"key\"=&gt;\"Design\", \"value\"=&gt;\"SHUVAM\"}, {\"key\"=&gt;\"Brand\", \"value\"=&gt;\"Eurospa\"}, {\"key\"=&gt;\"GSM\", \"value\"=&gt;\"360\"}, {\"key\"=&gt;\"Type\", \"value\"=&gt;\"Face Towel Set\"}, {\"key\"=&gt;\"Model Name\", \"value\"=&gt;\"SHUVAM20PCFTSETASSORTED\"}, {\"key\"=&gt;\"Ideal For\", \"value\"=&gt;\"Boys, Girls, Men, Women\"}, {\"key\"=&gt;\"Model ID\", \"value\"=&gt;\"SHUVAM20PCFTSETASSORTED\"}, {\"key\"=&gt;\"Size\", \"value\"=&gt;\"small\"}, {\"key\"=&gt;\"Color\", \"value\"=&gt;\"Assorted\"}, {\"key\"=&gt;\"Weight\", \"valu...</td>\n",
       "    </tr>\n",
       "    <tr>\n",
       "      <th>3</th>\n",
       "      <td>[\"Home Furnishing &gt;&gt; Bed Linen &gt;&gt; Bedsheets &gt;&gt; SANTOSH ROYAL FASHION Bedsheets &gt;&gt; SANTOSH ROYAL FASHION Cotton Printed King sized ...\"]</td>\n",
       "      <td>SANTOSH ROYAL FASHION Cotton Printed King sized Double Bedsheet</td>\n",
       "      <td>Key Features of SANTOSH ROYAL FASHION Cotton Printed King sized Double Bedsheet Royal Bedsheet Perfact for Wedding &amp; Gifting,Specifications of SANTOSH ROYAL FASHION Cotton Printed King sized Double Bedsheet (1 Bedsheet,2 Pillow Cover, Multicolor) General Brand SANTOSH ROYAL FASHION Machine Washable Yes Type Flat Material Cotton Model Name Gold Design Royal Cotton Printed Wedding &amp; Gifted Double Bedsheet With 2 Pillow cover Model ID goldbedi-38 Color Multicolor Size King Fabric Care Machine W...</td>\n",
       "      <td>{\"product_specification\"=&gt;[{\"key\"=&gt;\"Brand\", \"value\"=&gt;\"SANTOSH ROYAL FASHION\"}, {\"key\"=&gt;\"Machine Washable\", \"value\"=&gt;\"Yes\"}, {\"key\"=&gt;\"Type\", \"value\"=&gt;\"Flat\"}, {\"key\"=&gt;\"Material\", \"value\"=&gt;\"Cotton\"}, {\"key\"=&gt;\"Model Name\", \"value\"=&gt;\"Gold Design Royal Cotton Printed Wedding and Gifted Double Bedsheet With 2 Pillow cover\"}, {\"key\"=&gt;\"Model ID\", \"value\"=&gt;\"goldbedi-38\"}, {\"key\"=&gt;\"Color\", \"value\"=&gt;\"Multicolor\"}, {\"key\"=&gt;\"Size\", \"value\"=&gt;\"King\"}, {\"key\"=&gt;\"Fabric Care\", \"value\"=&gt;\"Machine Wash, Do Not B...</td>\n",
       "    </tr>\n",
       "    <tr>\n",
       "      <th>4</th>\n",
       "      <td>[\"Home Furnishing &gt;&gt; Bed Linen &gt;&gt; Bedsheets &gt;&gt; Jaipur Print Bedsheets &gt;&gt; Jaipur Print Cotton Floral King sized Double Bed...\"]</td>\n",
       "      <td>Jaipur Print Cotton Floral King sized Double Bedsheet</td>\n",
       "      <td>Key Features of Jaipur Print Cotton Floral King sized Double Bedsheet 100% cotton,Jaipur Print Cotton Floral King sized Double Bedsheet (1 bed sheet 2 pillow cover, White) Price: Rs. 998 This nice bed sheet made up of 100% cotton to give you comfort. This bed sheet is hand printed. This bedsheet gives nice look to your room And its fast colour and good quality gives this bedsheet long life.,Specifications of Jaipur Print Cotton Floral King sized Double Bedsheet (1 bed sheet 2 pillow cover, W...</td>\n",
       "      <td>{\"product_specification\"=&gt;[{\"key\"=&gt;\"Machine Washable\", \"value\"=&gt;\"Yes\"}, {\"key\"=&gt;\"Brand\", \"value\"=&gt;\"Jaipur Print\"}, {\"key\"=&gt;\"Type\", \"value\"=&gt;\"Flat\"}, {\"key\"=&gt;\"Model Name\", \"value\"=&gt;\"jaipur117\"}, {\"key\"=&gt;\"Material\", \"value\"=&gt;\"Cotton\"}, {\"key\"=&gt;\"Thread Count\", \"value\"=&gt;\"140\"}, {\"key\"=&gt;\"Model ID\", \"value\"=&gt;\"jaipur117\"}, {\"key\"=&gt;\"Fabric Care\", \"value\"=&gt;\"machinewash, do not bleach\"}, {\"key\"=&gt;\"Size\", \"value\"=&gt;\"King\"}, {\"key\"=&gt;\"Color\", \"value\"=&gt;\"White\"}, {\"value\"=&gt;\"waranty of the product only for ma...</td>\n",
       "    </tr>\n",
       "    <tr>\n",
       "      <th>...</th>\n",
       "      <td>...</td>\n",
       "      <td>...</td>\n",
       "      <td>...</td>\n",
       "      <td>...</td>\n",
       "    </tr>\n",
       "    <tr>\n",
       "      <th>1045</th>\n",
       "      <td>[\"Baby Care &gt;&gt; Baby &amp; Kids Gifts &gt;&gt; Stickers &gt;&gt; Oren Empower Stickers\"]</td>\n",
       "      <td>Oren Empower Extra Large Self Adhesive Sticker</td>\n",
       "      <td>Oren Empower Extra Large Self Adhesive Sticker (Pack of 2)\\r\\n                         Price: Rs. 999\\r\\n\\t\\t\\t\\t\\r\\n\\t\\t\\tDouble sticker can be used for the big walls. Two pieces is there that can be arranged alternatively or reflectively. This will d�cor the wall like 3d look. Tree with the green shaded leaves will give the sharp feature of the greenery. Reusable i.e. Can be used again after applied once. Simple remove and re-use the sticker on same or another wall with a different idea\\r\\...</td>\n",
       "      <td>{\"product_specification\"=&gt;[{\"key\"=&gt;\"Number of Contents in Sales Package\", \"value\"=&gt;\"Pack of 2\"}, {\"key\"=&gt;\"Sales Package\", \"value\"=&gt;\"Sheet Containing Set of Small Stickers\"}, {\"key\"=&gt;\"Ideal Use\", \"value\"=&gt;\"Any place where there is need of ample decoration\"}, {\"key\"=&gt;\"Brand\", \"value\"=&gt;\"Oren Empower\"}, {\"key\"=&gt;\"Acid Free\", \"value\"=&gt;\"No\"}, {\"key\"=&gt;\"Type\", \"value\"=&gt;\"Self Adhesive\"}, {\"key\"=&gt;\"Size in Number\", \"value\"=&gt;\"90 cm\"}, {\"key\"=&gt;\"Material\", \"value\"=&gt;\"PVC Vinyl\"}, {\"key\"=&gt;\"Lamination Type\", ...</td>\n",
       "    </tr>\n",
       "    <tr>\n",
       "      <th>1046</th>\n",
       "      <td>[\"Baby Care &gt;&gt; Baby &amp; Kids Gifts &gt;&gt; Stickers &gt;&gt; Wallmantra Stickers\"]</td>\n",
       "      <td>Wallmantra Large Vinyl Sticker Sticker</td>\n",
       "      <td>Wallmantra Large Vinyl Sticker Sticker (Pack of 1)\\r\\n                         Price: Rs. 1,896\\r\\n\\t\\t\\t\\t\\r\\n\\t\\t\\tBring home this exclusive Piece of Wall Art to give your home a refreshing look it deserves !\\r\\nWall Decals are the latest trend, sweeping the world of interior design, as a quick and easy way to personalise and transform your home. We at Wallmantra use only the highest quality premium self-adhesive vinyl for our products to ensure you receive the best quality product.\\r\\nThe...</td>\n",
       "      <td>{\"product_specification\"=&gt;[{\"key\"=&gt;\"Number of Contents in Sales Package\", \"value\"=&gt;\"Pack of 1\"}, {\"key\"=&gt;\"Sales Package\", \"value\"=&gt;\"1 Wall Decal/Sticker, 1 Practice Decal, Instructions\"}, {\"key\"=&gt;\"Ideal Use\", \"value\"=&gt;\"Child Bedroom, Bedroom, Living Room\"}, {\"key\"=&gt;\"Brand\", \"value\"=&gt;\"Wallmantra\"}, {\"key\"=&gt;\"Shape\", \"value\"=&gt;\"Rectangular\"}, {\"key\"=&gt;\"Scratch-resistant\", \"value\"=&gt;\"No\"}, {\"key\"=&gt;\"Laminated\", \"value\"=&gt;\"Yes\"}, {\"key\"=&gt;\"Type\", \"value\"=&gt;\"Vinyl Sticker\"}, {\"key\"=&gt;\"Number of Stickers\",...</td>\n",
       "    </tr>\n",
       "    <tr>\n",
       "      <th>1047</th>\n",
       "      <td>[\"Baby Care &gt;&gt; Baby &amp; Kids Gifts &gt;&gt; Stickers &gt;&gt; Uberlyfe Stickers\"]</td>\n",
       "      <td>Uberlyfe Extra Large Pigmented Polyvinyl Films (Imported) Sticker</td>\n",
       "      <td>Buy Uberlyfe Extra Large Pigmented Polyvinyl Films (Imported) Sticker for Rs.1449 online. Uberlyfe Extra Large Pigmented Polyvinyl Films (Imported) Sticker at best prices with FREE shipping &amp; cash on delivery. Only Genuine Products. 30 Day Replacement Guarantee.</td>\n",
       "      <td>{\"product_specification\"=&gt;[{\"key\"=&gt;\"Number of Contents in Sales Package\", \"value\"=&gt;\"Pack of 1\"}, {\"key\"=&gt;\"Sales Package\", \"value\"=&gt;\"Sticker\"}, {\"key\"=&gt;\"Brand\", \"value\"=&gt;\"Uberlyfe\"}, {\"key\"=&gt;\"Type\", \"value\"=&gt;\"Pigmented Polyvinyl Films (Imported)\"}, {\"key\"=&gt;\"Size in Number\", \"value\"=&gt;\"150 cm\"}, {\"key\"=&gt;\"Number of Stickers\", \"value\"=&gt;\"1\"}, {\"key\"=&gt;\"Material\", \"value\"=&gt;\"Polyvinyl\"}, {\"key\"=&gt;\"Size\", \"value\"=&gt;\"Extra Large\"}, {\"key\"=&gt;\"Height\", \"value\"=&gt;\"190 cm\"}, {\"key\"=&gt;\"Width\", \"value\"=&gt;\"260 cm\"}...</td>\n",
       "    </tr>\n",
       "    <tr>\n",
       "      <th>1048</th>\n",
       "      <td>[\"Baby Care &gt;&gt; Baby &amp; Kids Gifts &gt;&gt; Stickers &gt;&gt; Wallmantra Stickers\"]</td>\n",
       "      <td>Wallmantra Medium Vinyl Sticker Sticker</td>\n",
       "      <td>Buy Wallmantra Medium Vinyl Sticker Sticker for Rs.1333 online. Wallmantra Medium Vinyl Sticker Sticker at best prices with FREE shipping &amp; cash on delivery. Only Genuine Products. 30 Day Replacement Guarantee.</td>\n",
       "      <td>{\"product_specification\"=&gt;[{\"key\"=&gt;\"Number of Contents in Sales Package\", \"value\"=&gt;\"Pack of 1\"}, {\"key\"=&gt;\"Sales Package\", \"value\"=&gt;\"1 Wall Decal/Sticker, 1 Practice Decal, Instructions\"}, {\"key\"=&gt;\"Ideal Use\", \"value\"=&gt;\"Child Bedroom, Bedroom, Living Room\"}, {\"key\"=&gt;\"Scratch-resistant\", \"value\"=&gt;\"No\"}, {\"key\"=&gt;\"Shape\", \"value\"=&gt;\"Rectangular\"}, {\"key\"=&gt;\"Brand\", \"value\"=&gt;\"Wallmantra\"}, {\"key\"=&gt;\"Laminated\", \"value\"=&gt;\"Yes\"}, {\"key\"=&gt;\"Type\", \"value\"=&gt;\"Vinyl Sticker\"}, {\"key\"=&gt;\"Size in Number\", \"va...</td>\n",
       "    </tr>\n",
       "    <tr>\n",
       "      <th>1049</th>\n",
       "      <td>[\"Baby Care &gt;&gt; Baby &amp; Kids Gifts &gt;&gt; Stickers &gt;&gt; Uberlyfe Stickers\"]</td>\n",
       "      <td>Uberlyfe Large Vinyl Sticker</td>\n",
       "      <td>Buy Uberlyfe Large Vinyl Sticker for Rs.595 online. Uberlyfe Large Vinyl Sticker at best prices with FREE shipping &amp; cash on delivery. Only Genuine Products. 30 Day Replacement Guarantee.</td>\n",
       "      <td>{\"product_specification\"=&gt;[{\"key\"=&gt;\"Sales Package\", \"value\"=&gt;\"Sticker\"}, {\"key\"=&gt;\"Brand\", \"value\"=&gt;\"Uberlyfe\"}, {\"key\"=&gt;\"Type\", \"value\"=&gt;\"Vinyl\"}, {\"key\"=&gt;\"Number of Stickers\", \"value\"=&gt;\"1\"}, {\"key\"=&gt;\"Size\", \"value\"=&gt;\"Large\"}]}</td>\n",
       "    </tr>\n",
       "  </tbody>\n",
       "</table>\n",
       "<p>1050 rows × 4 columns</p>\n",
       "</div>"
      ],
      "text/plain": [
       "                                                                                                                          product_category_tree  \\\n",
       "0                              [\"Home Furnishing >> Curtains & Accessories >> Curtains >> Elegance Polyester Multicolor Abstract Eyelet Do...\"]   \n",
       "1     [\"Baby Care >> Baby Bath & Skin >> Baby Bath Towels >> Sathiyas Baby Bath Towels >> Sathiyas Cotton Bath Towel (3 Bath Towel, Red, Y...\"]   \n",
       "2      [\"Baby Care >> Baby Bath & Skin >> Baby Bath Towels >> Eurospa Baby Bath Towels >> Eurospa Cotton Terry Face Towel Set (20 PIECE FA...\"]   \n",
       "3       [\"Home Furnishing >> Bed Linen >> Bedsheets >> SANTOSH ROYAL FASHION Bedsheets >> SANTOSH ROYAL FASHION Cotton Printed King sized ...\"]   \n",
       "4                [\"Home Furnishing >> Bed Linen >> Bedsheets >> Jaipur Print Bedsheets >> Jaipur Print Cotton Floral King sized Double Bed...\"]   \n",
       "...                                                                                                                                         ...   \n",
       "1045                                                                    [\"Baby Care >> Baby & Kids Gifts >> Stickers >> Oren Empower Stickers\"]   \n",
       "1046                                                                      [\"Baby Care >> Baby & Kids Gifts >> Stickers >> Wallmantra Stickers\"]   \n",
       "1047                                                                        [\"Baby Care >> Baby & Kids Gifts >> Stickers >> Uberlyfe Stickers\"]   \n",
       "1048                                                                      [\"Baby Care >> Baby & Kids Gifts >> Stickers >> Wallmantra Stickers\"]   \n",
       "1049                                                                        [\"Baby Care >> Baby & Kids Gifts >> Stickers >> Uberlyfe Stickers\"]   \n",
       "\n",
       "                                                           product_name  \\\n",
       "0            Elegance Polyester Multicolor Abstract Eyelet Door Curtain   \n",
       "1                                            Sathiyas Cotton Bath Towel   \n",
       "2                                   Eurospa Cotton Terry Face Towel Set   \n",
       "3       SANTOSH ROYAL FASHION Cotton Printed King sized Double Bedsheet   \n",
       "4                 Jaipur Print Cotton Floral King sized Double Bedsheet   \n",
       "...                                                                 ...   \n",
       "1045                     Oren Empower Extra Large Self Adhesive Sticker   \n",
       "1046                             Wallmantra Large Vinyl Sticker Sticker   \n",
       "1047  Uberlyfe Extra Large Pigmented Polyvinyl Films (Imported) Sticker   \n",
       "1048                            Wallmantra Medium Vinyl Sticker Sticker   \n",
       "1049                                       Uberlyfe Large Vinyl Sticker   \n",
       "\n",
       "                                                                                                                                                                                                                                                                                                                                                                                                                                                                                                              description  \\\n",
       "0     Key Features of Elegance Polyester Multicolor Abstract Eyelet Door Curtain Floral Curtain,Elegance Polyester Multicolor Abstract Eyelet Door Curtain (213 cm in Height, Pack of 2) Price: Rs. 899 This curtain enhances the look of the interiors.This curtain is made from 100% high quality polyester fabric.It features an eyelet style stitch with Metal Ring.It makes the room environment romantic and loving.This curtain is ant- wrinkle and anti shrinkage and have elegant apparance.Give your home a ...   \n",
       "1                                                            Specifications of Sathiyas Cotton Bath Towel (3 Bath Towel, Red, Yellow, Blue) Bath Towel Features Machine Washable Yes Material Cotton Design Self Design General Brand Sathiyas Type Bath Towel GSM 500 Model Name Sathiyas cotton bath towel Ideal For Men, Women, Boys, Girls Model ID asvtwl322 Color Red, Yellow, Blue Size Mediam Dimensions Length 30 inch Width 60 inch In the Box Number of Contents in Sales Package 3 Sales Package 3 Bath Towel   \n",
       "2     Key Features of Eurospa Cotton Terry Face Towel Set Size: small Height: 9 inch GSM: 360,Eurospa Cotton Terry Face Towel Set (20 PIECE FACE TOWEL SET, Assorted) Price: Rs. 299 Eurospa brings to you an exclusively designed, 100% soft cotton towels of export quality. All our products have soft texture that takes care of your skin and gives you that enriched feeling you deserve. Eurospa has been exporting its bath towels to lot of renowned brands for last 10 years and is famous for its fine prin...   \n",
       "3     Key Features of SANTOSH ROYAL FASHION Cotton Printed King sized Double Bedsheet Royal Bedsheet Perfact for Wedding & Gifting,Specifications of SANTOSH ROYAL FASHION Cotton Printed King sized Double Bedsheet (1 Bedsheet,2 Pillow Cover, Multicolor) General Brand SANTOSH ROYAL FASHION Machine Washable Yes Type Flat Material Cotton Model Name Gold Design Royal Cotton Printed Wedding & Gifted Double Bedsheet With 2 Pillow cover Model ID goldbedi-38 Color Multicolor Size King Fabric Care Machine W...   \n",
       "4     Key Features of Jaipur Print Cotton Floral King sized Double Bedsheet 100% cotton,Jaipur Print Cotton Floral King sized Double Bedsheet (1 bed sheet 2 pillow cover, White) Price: Rs. 998 This nice bed sheet made up of 100% cotton to give you comfort. This bed sheet is hand printed. This bedsheet gives nice look to your room And its fast colour and good quality gives this bedsheet long life.,Specifications of Jaipur Print Cotton Floral King sized Double Bedsheet (1 bed sheet 2 pillow cover, W...   \n",
       "...                                                                                                                                                                                                                                                                                                                                                                                                                                                                                                                   ...   \n",
       "1045  Oren Empower Extra Large Self Adhesive Sticker (Pack of 2)\\r\\n                         Price: Rs. 999\\r\\n\\t\\t\\t\\t\\r\\n\\t\\t\\tDouble sticker can be used for the big walls. Two pieces is there that can be arranged alternatively or reflectively. This will d�cor the wall like 3d look. Tree with the green shaded leaves will give the sharp feature of the greenery. Reusable i.e. Can be used again after applied once. Simple remove and re-use the sticker on same or another wall with a different idea\\r\\...   \n",
       "1046  Wallmantra Large Vinyl Sticker Sticker (Pack of 1)\\r\\n                         Price: Rs. 1,896\\r\\n\\t\\t\\t\\t\\r\\n\\t\\t\\tBring home this exclusive Piece of Wall Art to give your home a refreshing look it deserves !\\r\\nWall Decals are the latest trend, sweeping the world of interior design, as a quick and easy way to personalise and transform your home. We at Wallmantra use only the highest quality premium self-adhesive vinyl for our products to ensure you receive the best quality product.\\r\\nThe...   \n",
       "1047                                                                                                                                                                                                                                               Buy Uberlyfe Extra Large Pigmented Polyvinyl Films (Imported) Sticker for Rs.1449 online. Uberlyfe Extra Large Pigmented Polyvinyl Films (Imported) Sticker at best prices with FREE shipping & cash on delivery. Only Genuine Products. 30 Day Replacement Guarantee.   \n",
       "1048                                                                                                                                                                                                                                                                                                   Buy Wallmantra Medium Vinyl Sticker Sticker for Rs.1333 online. Wallmantra Medium Vinyl Sticker Sticker at best prices with FREE shipping & cash on delivery. Only Genuine Products. 30 Day Replacement Guarantee.   \n",
       "1049                                                                                                                                                                                                                                                                                                                          Buy Uberlyfe Large Vinyl Sticker for Rs.595 online. Uberlyfe Large Vinyl Sticker at best prices with FREE shipping & cash on delivery. Only Genuine Products. 30 Day Replacement Guarantee.   \n",
       "\n",
       "                                                                                                                                                                                                                                                                                                                                                                                                                                                                                                   product_specifications  \n",
       "0     {\"product_specification\"=>[{\"key\"=>\"Brand\", \"value\"=>\"Elegance\"}, {\"key\"=>\"Designed For\", \"value\"=>\"Door\"}, {\"key\"=>\"Type\", \"value\"=>\"Eyelet\"}, {\"key\"=>\"Model Name\", \"value\"=>\"Abstract Polyester Door Curtain Set Of 2\"}, {\"key\"=>\"Model ID\", \"value\"=>\"Duster25\"}, {\"key\"=>\"Color\", \"value\"=>\"Multicolor\"}, {\"key\"=>\"Length\", \"value\"=>\"213 cm\"}, {\"key\"=>\"Number of Contents in Sales Package\", \"value\"=>\"Pack of 2\"}, {\"key\"=>\"Sales Package\", \"value\"=>\"2 Curtains\"}, {\"key\"=>\"Material\", \"value\"=>\"Polyes...  \n",
       "1     {\"product_specification\"=>[{\"key\"=>\"Machine Washable\", \"value\"=>\"Yes\"}, {\"key\"=>\"Material\", \"value\"=>\"Cotton\"}, {\"key\"=>\"Design\", \"value\"=>\"Self Design\"}, {\"key\"=>\"Brand\", \"value\"=>\"Sathiyas\"}, {\"key\"=>\"Type\", \"value\"=>\"Bath Towel\"}, {\"key\"=>\"GSM\", \"value\"=>\"500\"}, {\"key\"=>\"Model Name\", \"value\"=>\"Sathiyas cotton bath towel\"}, {\"key\"=>\"Ideal For\", \"value\"=>\"Men, Women, Boys, Girls\"}, {\"key\"=>\"Model ID\", \"value\"=>\"asvtwl322\"}, {\"key\"=>\"Color\", \"value\"=>\"Red, Yellow, Blue\"}, {\"key\"=>\"Size\", \"va...  \n",
       "2     {\"product_specification\"=>[{\"key\"=>\"Material\", \"value\"=>\"Cotton Terry\"}, {\"key\"=>\"Design\", \"value\"=>\"SHUVAM\"}, {\"key\"=>\"Brand\", \"value\"=>\"Eurospa\"}, {\"key\"=>\"GSM\", \"value\"=>\"360\"}, {\"key\"=>\"Type\", \"value\"=>\"Face Towel Set\"}, {\"key\"=>\"Model Name\", \"value\"=>\"SHUVAM20PCFTSETASSORTED\"}, {\"key\"=>\"Ideal For\", \"value\"=>\"Boys, Girls, Men, Women\"}, {\"key\"=>\"Model ID\", \"value\"=>\"SHUVAM20PCFTSETASSORTED\"}, {\"key\"=>\"Size\", \"value\"=>\"small\"}, {\"key\"=>\"Color\", \"value\"=>\"Assorted\"}, {\"key\"=>\"Weight\", \"valu...  \n",
       "3     {\"product_specification\"=>[{\"key\"=>\"Brand\", \"value\"=>\"SANTOSH ROYAL FASHION\"}, {\"key\"=>\"Machine Washable\", \"value\"=>\"Yes\"}, {\"key\"=>\"Type\", \"value\"=>\"Flat\"}, {\"key\"=>\"Material\", \"value\"=>\"Cotton\"}, {\"key\"=>\"Model Name\", \"value\"=>\"Gold Design Royal Cotton Printed Wedding and Gifted Double Bedsheet With 2 Pillow cover\"}, {\"key\"=>\"Model ID\", \"value\"=>\"goldbedi-38\"}, {\"key\"=>\"Color\", \"value\"=>\"Multicolor\"}, {\"key\"=>\"Size\", \"value\"=>\"King\"}, {\"key\"=>\"Fabric Care\", \"value\"=>\"Machine Wash, Do Not B...  \n",
       "4     {\"product_specification\"=>[{\"key\"=>\"Machine Washable\", \"value\"=>\"Yes\"}, {\"key\"=>\"Brand\", \"value\"=>\"Jaipur Print\"}, {\"key\"=>\"Type\", \"value\"=>\"Flat\"}, {\"key\"=>\"Model Name\", \"value\"=>\"jaipur117\"}, {\"key\"=>\"Material\", \"value\"=>\"Cotton\"}, {\"key\"=>\"Thread Count\", \"value\"=>\"140\"}, {\"key\"=>\"Model ID\", \"value\"=>\"jaipur117\"}, {\"key\"=>\"Fabric Care\", \"value\"=>\"machinewash, do not bleach\"}, {\"key\"=>\"Size\", \"value\"=>\"King\"}, {\"key\"=>\"Color\", \"value\"=>\"White\"}, {\"value\"=>\"waranty of the product only for ma...  \n",
       "...                                                                                                                                                                                                                                                                                                                                                                                                                                                                                                                   ...  \n",
       "1045  {\"product_specification\"=>[{\"key\"=>\"Number of Contents in Sales Package\", \"value\"=>\"Pack of 2\"}, {\"key\"=>\"Sales Package\", \"value\"=>\"Sheet Containing Set of Small Stickers\"}, {\"key\"=>\"Ideal Use\", \"value\"=>\"Any place where there is need of ample decoration\"}, {\"key\"=>\"Brand\", \"value\"=>\"Oren Empower\"}, {\"key\"=>\"Acid Free\", \"value\"=>\"No\"}, {\"key\"=>\"Type\", \"value\"=>\"Self Adhesive\"}, {\"key\"=>\"Size in Number\", \"value\"=>\"90 cm\"}, {\"key\"=>\"Material\", \"value\"=>\"PVC Vinyl\"}, {\"key\"=>\"Lamination Type\", ...  \n",
       "1046  {\"product_specification\"=>[{\"key\"=>\"Number of Contents in Sales Package\", \"value\"=>\"Pack of 1\"}, {\"key\"=>\"Sales Package\", \"value\"=>\"1 Wall Decal/Sticker, 1 Practice Decal, Instructions\"}, {\"key\"=>\"Ideal Use\", \"value\"=>\"Child Bedroom, Bedroom, Living Room\"}, {\"key\"=>\"Brand\", \"value\"=>\"Wallmantra\"}, {\"key\"=>\"Shape\", \"value\"=>\"Rectangular\"}, {\"key\"=>\"Scratch-resistant\", \"value\"=>\"No\"}, {\"key\"=>\"Laminated\", \"value\"=>\"Yes\"}, {\"key\"=>\"Type\", \"value\"=>\"Vinyl Sticker\"}, {\"key\"=>\"Number of Stickers\",...  \n",
       "1047  {\"product_specification\"=>[{\"key\"=>\"Number of Contents in Sales Package\", \"value\"=>\"Pack of 1\"}, {\"key\"=>\"Sales Package\", \"value\"=>\"Sticker\"}, {\"key\"=>\"Brand\", \"value\"=>\"Uberlyfe\"}, {\"key\"=>\"Type\", \"value\"=>\"Pigmented Polyvinyl Films (Imported)\"}, {\"key\"=>\"Size in Number\", \"value\"=>\"150 cm\"}, {\"key\"=>\"Number of Stickers\", \"value\"=>\"1\"}, {\"key\"=>\"Material\", \"value\"=>\"Polyvinyl\"}, {\"key\"=>\"Size\", \"value\"=>\"Extra Large\"}, {\"key\"=>\"Height\", \"value\"=>\"190 cm\"}, {\"key\"=>\"Width\", \"value\"=>\"260 cm\"}...  \n",
       "1048  {\"product_specification\"=>[{\"key\"=>\"Number of Contents in Sales Package\", \"value\"=>\"Pack of 1\"}, {\"key\"=>\"Sales Package\", \"value\"=>\"1 Wall Decal/Sticker, 1 Practice Decal, Instructions\"}, {\"key\"=>\"Ideal Use\", \"value\"=>\"Child Bedroom, Bedroom, Living Room\"}, {\"key\"=>\"Scratch-resistant\", \"value\"=>\"No\"}, {\"key\"=>\"Shape\", \"value\"=>\"Rectangular\"}, {\"key\"=>\"Brand\", \"value\"=>\"Wallmantra\"}, {\"key\"=>\"Laminated\", \"value\"=>\"Yes\"}, {\"key\"=>\"Type\", \"value\"=>\"Vinyl Sticker\"}, {\"key\"=>\"Size in Number\", \"va...  \n",
       "1049                                                                                                                                                                                                                                                                                  {\"product_specification\"=>[{\"key\"=>\"Sales Package\", \"value\"=>\"Sticker\"}, {\"key\"=>\"Brand\", \"value\"=>\"Uberlyfe\"}, {\"key\"=>\"Type\", \"value\"=>\"Vinyl\"}, {\"key\"=>\"Number of Stickers\", \"value\"=>\"1\"}, {\"key\"=>\"Size\", \"value\"=>\"Large\"}]}  \n",
       "\n",
       "[1050 rows x 4 columns]"
      ]
     },
     "metadata": {},
     "output_type": "display_data"
    }
   ],
   "source": [
    "with pd.option_context(\"display.max_colwidth\", 500, \"display.max_columns\", 5):\n",
    "    display(df[['product_category_tree',\n",
    "                'product_name',\n",
    "                'description',\n",
    "                'product_specifications'\n",
    "               ]])\n"
   ]
  },
  {
   "cell_type": "markdown",
   "id": "bd0b8762",
   "metadata": {},
   "source": [
    "# Création variable Cible\n",
    "    On sélectionne par expressions régulières la première catégorie de bien.\n",
    "    La plus globale pour chaque type de bien"
   ]
  },
  {
   "cell_type": "code",
   "execution_count": 8,
   "id": "a00f8fc7",
   "metadata": {},
   "outputs": [],
   "source": [
    "import re"
   ]
  },
  {
   "cell_type": "code",
   "execution_count": 9,
   "id": "fa5bad14",
   "metadata": {},
   "outputs": [
    {
     "data": {
      "text/plain": [
       "Home Furnishing               150\n",
       "Baby Care                     150\n",
       "Watches                       150\n",
       "Home Decor & Festive Needs    150\n",
       "Kitchen & Dining              150\n",
       "Beauty and Personal Care      150\n",
       "Computers                     150\n",
       "Name: target, dtype: int64"
      ]
     },
     "execution_count": 9,
     "metadata": {},
     "output_type": "execute_result"
    }
   ],
   "source": [
    "df['target'] = (\n",
    "    df['product_category_tree'].\n",
    "    str.replace(\"\\s+\\>>\\s+.*$\" ,'', regex = True). # On supprime tout après '>>'\n",
    "    str.replace('[','', regex = False). # On supprime les '['\n",
    "    str.replace('\"','', regex = False) # On supprime les '\"'\n",
    ")\n",
    "\n",
    "df['target'].value_counts()"
   ]
  },
  {
   "cell_type": "markdown",
   "id": "7f694bb2",
   "metadata": {},
   "source": [
    "#### Nos classes ont été parfaitement bien réparties (merci OC :))"
   ]
  },
  {
   "cell_type": "code",
   "execution_count": 10,
   "id": "243d097a",
   "metadata": {
    "scrolled": true
   },
   "outputs": [
    {
     "data": {
      "text/plain": [
       "0.0009523809523809524"
      ]
     },
     "execution_count": 10,
     "metadata": {},
     "output_type": "execute_result"
    }
   ],
   "source": [
    "df['retail_price'].isna().mean()"
   ]
  },
  {
   "cell_type": "code",
   "execution_count": 11,
   "id": "68f9b33d",
   "metadata": {},
   "outputs": [
    {
     "data": {
      "text/html": [
       "<div>\n",
       "<style scoped>\n",
       "    .dataframe tbody tr th:only-of-type {\n",
       "        vertical-align: middle;\n",
       "    }\n",
       "\n",
       "    .dataframe tbody tr th {\n",
       "        vertical-align: top;\n",
       "    }\n",
       "\n",
       "    .dataframe thead th {\n",
       "        text-align: right;\n",
       "    }\n",
       "</style>\n",
       "<table border=\"1\" class=\"dataframe\">\n",
       "  <thead>\n",
       "    <tr style=\"text-align: right;\">\n",
       "      <th></th>\n",
       "      <th>count</th>\n",
       "      <th>mean</th>\n",
       "      <th>std</th>\n",
       "      <th>min</th>\n",
       "      <th>25%</th>\n",
       "      <th>50%</th>\n",
       "      <th>75%</th>\n",
       "      <th>max</th>\n",
       "    </tr>\n",
       "    <tr>\n",
       "      <th>target</th>\n",
       "      <th></th>\n",
       "      <th></th>\n",
       "      <th></th>\n",
       "      <th></th>\n",
       "      <th></th>\n",
       "      <th></th>\n",
       "      <th></th>\n",
       "      <th></th>\n",
       "    </tr>\n",
       "  </thead>\n",
       "  <tbody>\n",
       "    <tr>\n",
       "      <th>Baby Care</th>\n",
       "      <td>149.0</td>\n",
       "      <td>1291.953020</td>\n",
       "      <td>1436.266379</td>\n",
       "      <td>70.0</td>\n",
       "      <td>529.00</td>\n",
       "      <td>849.0</td>\n",
       "      <td>1490.00</td>\n",
       "      <td>12500.0</td>\n",
       "    </tr>\n",
       "    <tr>\n",
       "      <th>Beauty and Personal Care</th>\n",
       "      <td>150.0</td>\n",
       "      <td>1217.300000</td>\n",
       "      <td>3116.139372</td>\n",
       "      <td>85.0</td>\n",
       "      <td>360.00</td>\n",
       "      <td>409.5</td>\n",
       "      <td>837.50</td>\n",
       "      <td>25499.0</td>\n",
       "    </tr>\n",
       "    <tr>\n",
       "      <th>Computers</th>\n",
       "      <td>150.0</td>\n",
       "      <td>3647.520000</td>\n",
       "      <td>5474.385051</td>\n",
       "      <td>199.0</td>\n",
       "      <td>999.00</td>\n",
       "      <td>2225.0</td>\n",
       "      <td>3999.00</td>\n",
       "      <td>38890.0</td>\n",
       "    </tr>\n",
       "    <tr>\n",
       "      <th>Home Decor &amp; Festive Needs</th>\n",
       "      <td>150.0</td>\n",
       "      <td>2796.893333</td>\n",
       "      <td>3528.848224</td>\n",
       "      <td>279.0</td>\n",
       "      <td>999.00</td>\n",
       "      <td>1500.0</td>\n",
       "      <td>2737.50</td>\n",
       "      <td>22525.0</td>\n",
       "    </tr>\n",
       "    <tr>\n",
       "      <th>Home Furnishing</th>\n",
       "      <td>150.0</td>\n",
       "      <td>2108.873333</td>\n",
       "      <td>2038.152069</td>\n",
       "      <td>259.0</td>\n",
       "      <td>950.00</td>\n",
       "      <td>1599.0</td>\n",
       "      <td>2686.75</td>\n",
       "      <td>14798.0</td>\n",
       "    </tr>\n",
       "    <tr>\n",
       "      <th>Kitchen &amp; Dining</th>\n",
       "      <td>150.0</td>\n",
       "      <td>799.906667</td>\n",
       "      <td>590.877681</td>\n",
       "      <td>35.0</td>\n",
       "      <td>499.00</td>\n",
       "      <td>599.0</td>\n",
       "      <td>821.50</td>\n",
       "      <td>4000.0</td>\n",
       "    </tr>\n",
       "    <tr>\n",
       "      <th>Watches</th>\n",
       "      <td>150.0</td>\n",
       "      <td>3434.973333</td>\n",
       "      <td>18547.190761</td>\n",
       "      <td>235.0</td>\n",
       "      <td>749.25</td>\n",
       "      <td>950.0</td>\n",
       "      <td>1286.75</td>\n",
       "      <td>201000.0</td>\n",
       "    </tr>\n",
       "  </tbody>\n",
       "</table>\n",
       "</div>"
      ],
      "text/plain": [
       "                            count         mean           std    min     25%  \\\n",
       "target                                                                        \n",
       "Baby Care                   149.0  1291.953020   1436.266379   70.0  529.00   \n",
       "Beauty and Personal Care    150.0  1217.300000   3116.139372   85.0  360.00   \n",
       "Computers                   150.0  3647.520000   5474.385051  199.0  999.00   \n",
       "Home Decor & Festive Needs  150.0  2796.893333   3528.848224  279.0  999.00   \n",
       "Home Furnishing             150.0  2108.873333   2038.152069  259.0  950.00   \n",
       "Kitchen & Dining            150.0   799.906667    590.877681   35.0  499.00   \n",
       "Watches                     150.0  3434.973333  18547.190761  235.0  749.25   \n",
       "\n",
       "                               50%      75%       max  \n",
       "target                                                 \n",
       "Baby Care                    849.0  1490.00   12500.0  \n",
       "Beauty and Personal Care     409.5   837.50   25499.0  \n",
       "Computers                   2225.0  3999.00   38890.0  \n",
       "Home Decor & Festive Needs  1500.0  2737.50   22525.0  \n",
       "Home Furnishing             1599.0  2686.75   14798.0  \n",
       "Kitchen & Dining             599.0   821.50    4000.0  \n",
       "Watches                      950.0  1286.75  201000.0  "
      ]
     },
     "execution_count": 11,
     "metadata": {},
     "output_type": "execute_result"
    }
   ],
   "source": [
    "df.groupby('target')['retail_price'].describe()"
   ]
  },
  {
   "cell_type": "markdown",
   "id": "c1849bf4",
   "metadata": {},
   "source": [
    "# Nettoyage Texte"
   ]
  },
  {
   "cell_type": "code",
   "execution_count": 15,
   "id": "b78cbb21",
   "metadata": {},
   "outputs": [],
   "source": [
    "import spacy \n",
    "# Modèle pour des petits documents de texte , ici des descriptions de produits\n",
    "nlp = spacy.load(\"en_core_web_sm\")"
   ]
  },
  {
   "cell_type": "code",
   "execution_count": 16,
   "id": "4020b0c8",
   "metadata": {},
   "outputs": [],
   "source": [
    "from nltk.corpus import stopwords"
   ]
  },
  {
   "cell_type": "code",
   "execution_count": 17,
   "id": "aa6c2a63",
   "metadata": {},
   "outputs": [
    {
     "name": "stdout",
     "output_type": "stream",
     "text": [
      "{'itself', 'o', \"she's\", 'y', 'won', 'most', 'ours', 'which', 'did', 'ma', 'once', \"hadn't\", 'mightn', 'aren', 'there', 'more', 're', 'will', 'him', 'by', 'she', 't', 'do', 'ourselves', \"doesn't\", 'now', 'too', 'couldn', 'some', 'be', 'needn', 'between', \"didn't\", 'wasn', 'having', 'himself', 'no', 'under', 'don', \"you'll\", 'an', 'below', 'should', 'as', 'while', 'than', 'whom', 'to', 'why', 'your', 'these', 'through', 'we', 'in', 'my', 'our', 'themselves', 'all', 'me', 'll', \"you'd\", \"mustn't\", 'hasn', 'are', 'out', 'yours', 'this', 'was', 'until', \"it's\", 'further', 'here', \"couldn't\", 'up', 'on', \"hasn't\", 'if', 'hers', 'and', 'doesn', \"mightn't\", \"you've\", \"shan't\", 'd', 'against', 'that', 'its', 'but', 'before', 'shouldn', 'they', 'during', 'am', 'mustn', \"aren't\", 'his', 'down', 'only', 'over', 'didn', 'above', 'both', 'any', 'ain', 'again', 'being', 'theirs', 'can', 'nor', 'doing', \"that'll\", 'their', \"wouldn't\", 'herself', 'how', 'm', 'what', 'it', 'a', 'i', 'has', 'few', 'or', 'so', 'after', 'you', 'when', 'been', \"you're\", \"isn't\", 'shan', 'with', \"weren't\", 'had', 've', 'them', 'is', 'each', \"don't\", 'he', \"haven't\", 'her', 'weren', 'then', 'of', 'because', 'for', 'were', 'such', 'who', 'have', 'wouldn', 'at', 'very', 'the', 'into', 'other', 'own', 'those', 'does', \"wasn't\", \"won't\", 'just', \"should've\", 'off', 'myself', 'haven', \"needn't\", 'yourselves', 'isn', 'same', 'from', 'hadn', 'not', 'where', 's', \"shouldn't\", 'yourself', 'about'} 179\n"
     ]
    }
   ],
   "source": [
    "stops = set(stopwords.words('english'))\n",
    "print(stops,len(stops))"
   ]
  },
  {
   "cell_type": "code",
   "execution_count": 18,
   "id": "d8bbc5d1",
   "metadata": {
    "scrolled": true
   },
   "outputs": [
    {
     "data": {
      "text/html": [
       "<div>\n",
       "<style scoped>\n",
       "    .dataframe tbody tr th:only-of-type {\n",
       "        vertical-align: middle;\n",
       "    }\n",
       "\n",
       "    .dataframe tbody tr th {\n",
       "        vertical-align: top;\n",
       "    }\n",
       "\n",
       "    .dataframe thead th {\n",
       "        text-align: right;\n",
       "    }\n",
       "</style>\n",
       "<table border=\"1\" class=\"dataframe\">\n",
       "  <thead>\n",
       "    <tr style=\"text-align: right;\">\n",
       "      <th></th>\n",
       "      <th>target</th>\n",
       "      <th>product_name</th>\n",
       "      <th>description</th>\n",
       "    </tr>\n",
       "  </thead>\n",
       "  <tbody>\n",
       "    <tr>\n",
       "      <th>0</th>\n",
       "      <td>Home Furnishing</td>\n",
       "      <td>Elegance Polyester Multicolor Abstract Eyelet Door Curtain</td>\n",
       "      <td>Key Features of Elegance Polyester Multicolor Abstract Eyelet Door Curtain Floral Curtain,Elegance Polyester Multicolor Abstract Eyelet Door Curtain (213 cm in Height, Pack of 2) Price: Rs. 899 This curtain enhances the look of the interiors.This curtain is made from 100% high quality polyester fabric.It features an eyelet style stitch with Metal Ring.It makes the room environment romantic and loving.This curtain is ant- wrinkle and anti shrinkage and have elegant apparance.Give your home a ...</td>\n",
       "    </tr>\n",
       "    <tr>\n",
       "      <th>1</th>\n",
       "      <td>Baby Care</td>\n",
       "      <td>Sathiyas Cotton Bath Towel</td>\n",
       "      <td>Specifications of Sathiyas Cotton Bath Towel (3 Bath Towel, Red, Yellow, Blue) Bath Towel Features Machine Washable Yes Material Cotton Design Self Design General Brand Sathiyas Type Bath Towel GSM 500 Model Name Sathiyas cotton bath towel Ideal For Men, Women, Boys, Girls Model ID asvtwl322 Color Red, Yellow, Blue Size Mediam Dimensions Length 30 inch Width 60 inch In the Box Number of Contents in Sales Package 3 Sales Package 3 Bath Towel</td>\n",
       "    </tr>\n",
       "    <tr>\n",
       "      <th>2</th>\n",
       "      <td>Baby Care</td>\n",
       "      <td>Eurospa Cotton Terry Face Towel Set</td>\n",
       "      <td>Key Features of Eurospa Cotton Terry Face Towel Set Size: small Height: 9 inch GSM: 360,Eurospa Cotton Terry Face Towel Set (20 PIECE FACE TOWEL SET, Assorted) Price: Rs. 299 Eurospa brings to you an exclusively designed, 100% soft cotton towels of export quality. All our products have soft texture that takes care of your skin and gives you that enriched feeling you deserve. Eurospa has been exporting its bath towels to lot of renowned brands for last 10 years and is famous for its fine prin...</td>\n",
       "    </tr>\n",
       "    <tr>\n",
       "      <th>3</th>\n",
       "      <td>Home Furnishing</td>\n",
       "      <td>SANTOSH ROYAL FASHION Cotton Printed King sized Double Bedsheet</td>\n",
       "      <td>Key Features of SANTOSH ROYAL FASHION Cotton Printed King sized Double Bedsheet Royal Bedsheet Perfact for Wedding &amp; Gifting,Specifications of SANTOSH ROYAL FASHION Cotton Printed King sized Double Bedsheet (1 Bedsheet,2 Pillow Cover, Multicolor) General Brand SANTOSH ROYAL FASHION Machine Washable Yes Type Flat Material Cotton Model Name Gold Design Royal Cotton Printed Wedding &amp; Gifted Double Bedsheet With 2 Pillow cover Model ID goldbedi-38 Color Multicolor Size King Fabric Care Machine W...</td>\n",
       "    </tr>\n",
       "    <tr>\n",
       "      <th>4</th>\n",
       "      <td>Home Furnishing</td>\n",
       "      <td>Jaipur Print Cotton Floral King sized Double Bedsheet</td>\n",
       "      <td>Key Features of Jaipur Print Cotton Floral King sized Double Bedsheet 100% cotton,Jaipur Print Cotton Floral King sized Double Bedsheet (1 bed sheet 2 pillow cover, White) Price: Rs. 998 This nice bed sheet made up of 100% cotton to give you comfort. This bed sheet is hand printed. This bedsheet gives nice look to your room And its fast colour and good quality gives this bedsheet long life.,Specifications of Jaipur Print Cotton Floral King sized Double Bedsheet (1 bed sheet 2 pillow cover, W...</td>\n",
       "    </tr>\n",
       "    <tr>\n",
       "      <th>...</th>\n",
       "      <td>...</td>\n",
       "      <td>...</td>\n",
       "      <td>...</td>\n",
       "    </tr>\n",
       "    <tr>\n",
       "      <th>1045</th>\n",
       "      <td>Baby Care</td>\n",
       "      <td>Oren Empower Extra Large Self Adhesive Sticker</td>\n",
       "      <td>Oren Empower Extra Large Self Adhesive Sticker (Pack of 2)\\r\\n                         Price: Rs. 999\\r\\n\\t\\t\\t\\t\\r\\n\\t\\t\\tDouble sticker can be used for the big walls. Two pieces is there that can be arranged alternatively or reflectively. This will d�cor the wall like 3d look. Tree with the green shaded leaves will give the sharp feature of the greenery. Reusable i.e. Can be used again after applied once. Simple remove and re-use the sticker on same or another wall with a different idea\\r\\...</td>\n",
       "    </tr>\n",
       "    <tr>\n",
       "      <th>1046</th>\n",
       "      <td>Baby Care</td>\n",
       "      <td>Wallmantra Large Vinyl Sticker Sticker</td>\n",
       "      <td>Wallmantra Large Vinyl Sticker Sticker (Pack of 1)\\r\\n                         Price: Rs. 1,896\\r\\n\\t\\t\\t\\t\\r\\n\\t\\t\\tBring home this exclusive Piece of Wall Art to give your home a refreshing look it deserves !\\r\\nWall Decals are the latest trend, sweeping the world of interior design, as a quick and easy way to personalise and transform your home. We at Wallmantra use only the highest quality premium self-adhesive vinyl for our products to ensure you receive the best quality product.\\r\\nThe...</td>\n",
       "    </tr>\n",
       "    <tr>\n",
       "      <th>1047</th>\n",
       "      <td>Baby Care</td>\n",
       "      <td>Uberlyfe Extra Large Pigmented Polyvinyl Films (Imported) Sticker</td>\n",
       "      <td>Buy Uberlyfe Extra Large Pigmented Polyvinyl Films (Imported) Sticker for Rs.1449 online. Uberlyfe Extra Large Pigmented Polyvinyl Films (Imported) Sticker at best prices with FREE shipping &amp; cash on delivery. Only Genuine Products. 30 Day Replacement Guarantee.</td>\n",
       "    </tr>\n",
       "    <tr>\n",
       "      <th>1048</th>\n",
       "      <td>Baby Care</td>\n",
       "      <td>Wallmantra Medium Vinyl Sticker Sticker</td>\n",
       "      <td>Buy Wallmantra Medium Vinyl Sticker Sticker for Rs.1333 online. Wallmantra Medium Vinyl Sticker Sticker at best prices with FREE shipping &amp; cash on delivery. Only Genuine Products. 30 Day Replacement Guarantee.</td>\n",
       "    </tr>\n",
       "    <tr>\n",
       "      <th>1049</th>\n",
       "      <td>Baby Care</td>\n",
       "      <td>Uberlyfe Large Vinyl Sticker</td>\n",
       "      <td>Buy Uberlyfe Large Vinyl Sticker for Rs.595 online. Uberlyfe Large Vinyl Sticker at best prices with FREE shipping &amp; cash on delivery. Only Genuine Products. 30 Day Replacement Guarantee.</td>\n",
       "    </tr>\n",
       "  </tbody>\n",
       "</table>\n",
       "<p>1050 rows × 3 columns</p>\n",
       "</div>"
      ],
      "text/plain": [
       "               target  \\\n",
       "0     Home Furnishing   \n",
       "1           Baby Care   \n",
       "2           Baby Care   \n",
       "3     Home Furnishing   \n",
       "4     Home Furnishing   \n",
       "...               ...   \n",
       "1045        Baby Care   \n",
       "1046        Baby Care   \n",
       "1047        Baby Care   \n",
       "1048        Baby Care   \n",
       "1049        Baby Care   \n",
       "\n",
       "                                                           product_name  \\\n",
       "0            Elegance Polyester Multicolor Abstract Eyelet Door Curtain   \n",
       "1                                            Sathiyas Cotton Bath Towel   \n",
       "2                                   Eurospa Cotton Terry Face Towel Set   \n",
       "3       SANTOSH ROYAL FASHION Cotton Printed King sized Double Bedsheet   \n",
       "4                 Jaipur Print Cotton Floral King sized Double Bedsheet   \n",
       "...                                                                 ...   \n",
       "1045                     Oren Empower Extra Large Self Adhesive Sticker   \n",
       "1046                             Wallmantra Large Vinyl Sticker Sticker   \n",
       "1047  Uberlyfe Extra Large Pigmented Polyvinyl Films (Imported) Sticker   \n",
       "1048                            Wallmantra Medium Vinyl Sticker Sticker   \n",
       "1049                                       Uberlyfe Large Vinyl Sticker   \n",
       "\n",
       "                                                                                                                                                                                                                                                                                                                                                                                                                                                                                                              description  \n",
       "0     Key Features of Elegance Polyester Multicolor Abstract Eyelet Door Curtain Floral Curtain,Elegance Polyester Multicolor Abstract Eyelet Door Curtain (213 cm in Height, Pack of 2) Price: Rs. 899 This curtain enhances the look of the interiors.This curtain is made from 100% high quality polyester fabric.It features an eyelet style stitch with Metal Ring.It makes the room environment romantic and loving.This curtain is ant- wrinkle and anti shrinkage and have elegant apparance.Give your home a ...  \n",
       "1                                                            Specifications of Sathiyas Cotton Bath Towel (3 Bath Towel, Red, Yellow, Blue) Bath Towel Features Machine Washable Yes Material Cotton Design Self Design General Brand Sathiyas Type Bath Towel GSM 500 Model Name Sathiyas cotton bath towel Ideal For Men, Women, Boys, Girls Model ID asvtwl322 Color Red, Yellow, Blue Size Mediam Dimensions Length 30 inch Width 60 inch In the Box Number of Contents in Sales Package 3 Sales Package 3 Bath Towel  \n",
       "2     Key Features of Eurospa Cotton Terry Face Towel Set Size: small Height: 9 inch GSM: 360,Eurospa Cotton Terry Face Towel Set (20 PIECE FACE TOWEL SET, Assorted) Price: Rs. 299 Eurospa brings to you an exclusively designed, 100% soft cotton towels of export quality. All our products have soft texture that takes care of your skin and gives you that enriched feeling you deserve. Eurospa has been exporting its bath towels to lot of renowned brands for last 10 years and is famous for its fine prin...  \n",
       "3     Key Features of SANTOSH ROYAL FASHION Cotton Printed King sized Double Bedsheet Royal Bedsheet Perfact for Wedding & Gifting,Specifications of SANTOSH ROYAL FASHION Cotton Printed King sized Double Bedsheet (1 Bedsheet,2 Pillow Cover, Multicolor) General Brand SANTOSH ROYAL FASHION Machine Washable Yes Type Flat Material Cotton Model Name Gold Design Royal Cotton Printed Wedding & Gifted Double Bedsheet With 2 Pillow cover Model ID goldbedi-38 Color Multicolor Size King Fabric Care Machine W...  \n",
       "4     Key Features of Jaipur Print Cotton Floral King sized Double Bedsheet 100% cotton,Jaipur Print Cotton Floral King sized Double Bedsheet (1 bed sheet 2 pillow cover, White) Price: Rs. 998 This nice bed sheet made up of 100% cotton to give you comfort. This bed sheet is hand printed. This bedsheet gives nice look to your room And its fast colour and good quality gives this bedsheet long life.,Specifications of Jaipur Print Cotton Floral King sized Double Bedsheet (1 bed sheet 2 pillow cover, W...  \n",
       "...                                                                                                                                                                                                                                                                                                                                                                                                                                                                                                                   ...  \n",
       "1045  Oren Empower Extra Large Self Adhesive Sticker (Pack of 2)\\r\\n                         Price: Rs. 999\\r\\n\\t\\t\\t\\t\\r\\n\\t\\t\\tDouble sticker can be used for the big walls. Two pieces is there that can be arranged alternatively or reflectively. This will d�cor the wall like 3d look. Tree with the green shaded leaves will give the sharp feature of the greenery. Reusable i.e. Can be used again after applied once. Simple remove and re-use the sticker on same or another wall with a different idea\\r\\...  \n",
       "1046  Wallmantra Large Vinyl Sticker Sticker (Pack of 1)\\r\\n                         Price: Rs. 1,896\\r\\n\\t\\t\\t\\t\\r\\n\\t\\t\\tBring home this exclusive Piece of Wall Art to give your home a refreshing look it deserves !\\r\\nWall Decals are the latest trend, sweeping the world of interior design, as a quick and easy way to personalise and transform your home. We at Wallmantra use only the highest quality premium self-adhesive vinyl for our products to ensure you receive the best quality product.\\r\\nThe...  \n",
       "1047                                                                                                                                                                                                                                               Buy Uberlyfe Extra Large Pigmented Polyvinyl Films (Imported) Sticker for Rs.1449 online. Uberlyfe Extra Large Pigmented Polyvinyl Films (Imported) Sticker at best prices with FREE shipping & cash on delivery. Only Genuine Products. 30 Day Replacement Guarantee.  \n",
       "1048                                                                                                                                                                                                                                                                                                   Buy Wallmantra Medium Vinyl Sticker Sticker for Rs.1333 online. Wallmantra Medium Vinyl Sticker Sticker at best prices with FREE shipping & cash on delivery. Only Genuine Products. 30 Day Replacement Guarantee.  \n",
       "1049                                                                                                                                                                                                                                                                                                                          Buy Uberlyfe Large Vinyl Sticker for Rs.595 online. Uberlyfe Large Vinyl Sticker at best prices with FREE shipping & cash on delivery. Only Genuine Products. 30 Day Replacement Guarantee.  \n",
       "\n",
       "[1050 rows x 3 columns]"
      ]
     },
     "metadata": {},
     "output_type": "display_data"
    }
   ],
   "source": [
    "with pd.option_context(\"display.max_colwidth\", 500, \"display.max_columns\", 5):\n",
    "    display(df[['target',\n",
    "                'product_name',\n",
    "                'description'\n",
    "               ]])\n"
   ]
  },
  {
   "cell_type": "markdown",
   "id": "dadc6697",
   "metadata": {},
   "source": [
    "###### présence de NA ?"
   ]
  },
  {
   "cell_type": "code",
   "execution_count": 19,
   "id": "1f7f0af1",
   "metadata": {},
   "outputs": [
    {
     "data": {
      "text/plain": [
       "target          0.0\n",
       "product_name    0.0\n",
       "description     0.0\n",
       "dtype: float64"
      ]
     },
     "execution_count": 19,
     "metadata": {},
     "output_type": "execute_result"
    }
   ],
   "source": [
    "df[['target',\n",
    "    'product_name',\n",
    "    'description'\n",
    "   ]].isna().mean()"
   ]
  },
  {
   "cell_type": "markdown",
   "id": "8568ac37",
   "metadata": {},
   "source": [
    "###### présence de message vide ?"
   ]
  },
  {
   "cell_type": "code",
   "execution_count": 20,
   "id": "79303a82",
   "metadata": {
    "scrolled": true
   },
   "outputs": [
    {
     "data": {
      "text/plain": [
       "(0.0, 0.0, 0.0)"
      ]
     },
     "execution_count": 20,
     "metadata": {},
     "output_type": "execute_result"
    }
   ],
   "source": [
    "(df['target'] == '').mean(),(df['product_name'] == '').mean(),(df['description'] == '').mean()"
   ]
  },
  {
   "cell_type": "markdown",
   "id": "0366460b",
   "metadata": {},
   "source": [
    "### Nettoyage par Regex\n",
    "    \\n, \\t, \\r n'apporte pas d'information "
   ]
  },
  {
   "cell_type": "code",
   "execution_count": 21,
   "id": "ad82b711",
   "metadata": {
    "scrolled": true
   },
   "outputs": [
    {
     "data": {
      "text/plain": [
       "0.1657142857142857"
      ]
     },
     "execution_count": 21,
     "metadata": {},
     "output_type": "execute_result"
    }
   ],
   "source": [
    "df['description'].str.contains('\\r|\\t|\\n').mean()"
   ]
  },
  {
   "cell_type": "code",
   "execution_count": 35,
   "id": "3c81cd2f",
   "metadata": {
    "scrolled": true
   },
   "outputs": [
    {
     "data": {
      "text/plain": [
       "0       Key Features of Elegance Polyester Multicolor Abstract Eyelet Door Curtain Floral Curtain,Elegance Polyester Multicolor Abstract Eyelet Door Curtain (213 cm in Height, Pack of 2) Price: Rs. 899 This curtain enhances the look of the interiors.This curtain is made from 100% high quality polyester fabric.It features an eyelet style stitch with Metal Ring.It makes the room environment romantic and loving.This curtain is ant- wrinkle and anti shrinkage and have elegant apparance.Give your home a ...\n",
       "1                                                              Specifications of Sathiyas Cotton Bath Towel (3 Bath Towel, Red, Yellow, Blue) Bath Towel Features Machine Washable Yes Material Cotton Design Self Design General Brand Sathiyas Type Bath Towel GSM 500 Model Name Sathiyas cotton bath towel Ideal For Men, Women, Boys, Girls Model ID asvtwl322 Color Red, Yellow, Blue Size Mediam Dimensions Length 30 inch Width 60 inch In the Box Number of Contents in Sales Package 3 Sales Package 3 Bath Towel\n",
       "2       Key Features of Eurospa Cotton Terry Face Towel Set Size: small Height: 9 inch GSM: 360,Eurospa Cotton Terry Face Towel Set (20 PIECE FACE TOWEL SET, Assorted) Price: Rs. 299 Eurospa brings to you an exclusively designed, 100% soft cotton towels of export quality. All our products have soft texture that takes care of your skin and gives you that enriched feeling you deserve. Eurospa has been exporting its bath towels to lot of renowned brands for last 10 years and is famous for its fine prin...\n",
       "3       Key Features of SANTOSH ROYAL FASHION Cotton Printed King sized Double Bedsheet Royal Bedsheet Perfact for Wedding & Gifting,Specifications of SANTOSH ROYAL FASHION Cotton Printed King sized Double Bedsheet (1 Bedsheet,2 Pillow Cover, Multicolor) General Brand SANTOSH ROYAL FASHION Machine Washable Yes Type Flat Material Cotton Model Name Gold Design Royal Cotton Printed Wedding & Gifted Double Bedsheet With 2 Pillow cover Model ID goldbedi-38 Color Multicolor Size King Fabric Care Machine W...\n",
       "4       Key Features of Jaipur Print Cotton Floral King sized Double Bedsheet 100% cotton,Jaipur Print Cotton Floral King sized Double Bedsheet (1 bed sheet 2 pillow cover, White) Price: Rs. 998 This nice bed sheet made up of 100% cotton to give you comfort. This bed sheet is hand printed. This bedsheet gives nice look to your room And its fast colour and good quality gives this bedsheet long life.,Specifications of Jaipur Print Cotton Floral King sized Double Bedsheet (1 bed sheet 2 pillow cover, W...\n",
       "                                                                                                                                                                                                                                                               ...                                                                                                                                                                                                                                                         \n",
       "1045    Oren Empower Extra Large Self Adhesive Sticker (Pack of 2)                           Price: Rs. 999           Double sticker can be used for the big walls. Two pieces is there that can be arranged alternatively or reflectively. This will d�cor the wall like 3d look. Tree with the green shaded leaves will give the sharp feature of the greenery. Reusable i.e. Can be used again after applied once. Simple remove and re-use the sticker on same or another wall with a different idea    How to insta...\n",
       "1046    Wallmantra Large Vinyl Sticker Sticker (Pack of 1)                           Price: Rs. 1,896           Bring home this exclusive Piece of Wall Art to give your home a refreshing look it deserves !  Wall Decals are the latest trend, sweeping the world of interior design, as a quick and easy way to personalise and transform your home. We at Wallmantra use only the highest quality premium self-adhesive vinyl for our products to ensure you receive the best quality product.  The sizes are in inc...\n",
       "1047                                                                                                                                                                                                                                                 Buy Uberlyfe Extra Large Pigmented Polyvinyl Films (Imported) Sticker for Rs.1449 online. Uberlyfe Extra Large Pigmented Polyvinyl Films (Imported) Sticker at best prices with FREE shipping & cash on delivery. Only Genuine Products. 30 Day Replacement Guarantee.\n",
       "1048                                                                                                                                                                                                                                                                                                     Buy Wallmantra Medium Vinyl Sticker Sticker for Rs.1333 online. Wallmantra Medium Vinyl Sticker Sticker at best prices with FREE shipping & cash on delivery. Only Genuine Products. 30 Day Replacement Guarantee.\n",
       "1049                                                                                                                                                                                                                                                                                                                            Buy Uberlyfe Large Vinyl Sticker for Rs.595 online. Uberlyfe Large Vinyl Sticker at best prices with FREE shipping & cash on delivery. Only Genuine Products. 30 Day Replacement Guarantee.\n",
       "Name: description, Length: 1050, dtype: object"
      ]
     },
     "metadata": {},
     "output_type": "display_data"
    }
   ],
   "source": [
    "with pd.option_context(\"display.max_colwidth\", 500, \"display.max_columns\", 5):\n",
    "    display(\n",
    "    df['description'].str.replace('\\r|\\t|\\n',' ', regex=True)\n",
    "    )"
   ]
  },
  {
   "cell_type": "markdown",
   "id": "1992116d",
   "metadata": {},
   "source": [
    "## Fonction pour nettoyage"
   ]
  },
  {
   "cell_type": "markdown",
   "id": "acade42b",
   "metadata": {},
   "source": [
    "### Suppression des caractères spéciaux"
   ]
  },
  {
   "cell_type": "markdown",
   "id": "8d756551",
   "metadata": {},
   "source": [
    "#### Fonction simplify très utile pour du texte en français, ici en anglais il n'y a pas d'accent sur les mots"
   ]
  },
  {
   "cell_type": "code",
   "execution_count": 23,
   "id": "ce85a918",
   "metadata": {},
   "outputs": [
    {
     "name": "stdout",
     "output_type": "stream",
     "text": [
      "Ceci est un test cae#e@hello Gutentag !!!! Je vous leve mon chapeau !, Good morning Sire \n"
     ]
    }
   ],
   "source": [
    "import unicodedata\n",
    "\n",
    "def simplify(text):\n",
    "    try:\n",
    "        text = unicode(text, 'utf-8')\n",
    "    except NameError:\n",
    "        pass\n",
    "    text = unicodedata.normalize('NFD',text).encode('ascii','ignore').decode('utf-8')\n",
    "    return str(text)\n",
    "print(simplify('Ceci est un test çaé#è@hello Gutentag !!!! Je vous lève mon châpeau !, Good morning Sire '))"
   ]
  },
  {
   "cell_type": "markdown",
   "id": "f6463ee2",
   "metadata": {},
   "source": [
    "#### On peut utiliser directemment un pré-traitement par expréssion régulière ou regex pour nettoyer le texte\n",
    "1. Pré-traitement par expression régulière\n",
    "2. Mise en minuscule des caractères"
   ]
  },
  {
   "cell_type": "code",
   "execution_count": 45,
   "id": "d81898fa",
   "metadata": {},
   "outputs": [],
   "source": [
    "un_exemple_serie = pd.Series([\n",
    "    'Ceci est un test çaé#è@hello Gutentag !!!!',\n",
    "    'Je vous lève mon châpeau !, Good morning Sire ',\n",
    "    'Le modèle CamenBert est trop fort',\n",
    "    'I believe Bert is better !',\n",
    "    \"I can't believe it !!!!\"\n",
    "]\n",
    "                      )"
   ]
  },
  {
   "cell_type": "code",
   "execution_count": 46,
   "id": "128cb696",
   "metadata": {},
   "outputs": [
    {
     "name": "stdout",
     "output_type": "stream",
     "text": [
      "0        Ceci est un test çaé#è@hello Gutentag !!!!\n",
      "1    Je vous lève mon châpeau !, Good morning Sire \n",
      "2                 Le modèle CamenBert est trop fort\n",
      "3                        I believe Bert is better !\n",
      "4                           I can't believe it !!!!\n",
      "dtype: object \n",
      " 0        ceci est un test  a    hello gutentag     \n",
      "1    je vous l ve mon ch peau    good morning sire \n",
      "2                 le mod le camenbert est trop fort\n",
      "3                        i believe bert is better  \n",
      "4                           i can t believe it     \n",
      "dtype: object\n"
     ]
    }
   ],
   "source": [
    "# Suppression des accents, caractères spéciaux, émoticons, ponctuation\n",
    "# Mise en minuscule des caractères\n",
    "def pre_nettoyage_texte(serie_pandas):\n",
    "    \n",
    "    #serie_pandas = serie_pandas.str.replace('\\r|\\t|\\n',' ', regex=True)\n",
    "    \n",
    "    # On ne conserve que les caractères alpha numériques\n",
    "    # les émoticons,caractères spéciaux et ponctuation sont remplacés par des espaces\n",
    "    \n",
    "    serie_pandas = serie_pandas.str.replace(r'[^a-zA-Z0-9]', ' ', regex = True)\n",
    "    \n",
    "    # L'ensemble des caractères est mis en minuscule\n",
    "    \n",
    "    serie_pandas = serie_pandas.str.lower()\n",
    "    \n",
    "    # rajouter ponctuation Unicode data ?\n",
    "    return serie_pandas    \n",
    "print(un_exemple_serie, '\\n',\n",
    "      pre_nettoyage_texte(un_exemple_serie))"
   ]
  },
  {
   "cell_type": "markdown",
   "id": "0f514936",
   "metadata": {},
   "source": [
    "> On remarque cette fonction est adapté pour la langue anglaise mais absolmuent pas pour le français ! \n",
    "- modèle devient mod\n",
    "- lève devient l ve\n",
    "- châpeau devient ch peau"
   ]
  },
  {
   "cell_type": "markdown",
   "id": "e0386e93",
   "metadata": {},
   "source": [
    "#### Pour y remédier en français on pourrait utiliser simplify puis la fonction pre_nettoyage_texte"
   ]
  },
  {
   "cell_type": "code",
   "execution_count": 47,
   "id": "d1764f83",
   "metadata": {
    "scrolled": true
   },
   "outputs": [
    {
     "name": "stdout",
     "output_type": "stream",
     "text": [
      "0        Ceci est un test çaé#è@hello Gutentag !!!!\n",
      "1    Je vous lève mon châpeau !, Good morning Sire \n",
      "2                 Le modèle CamenBert est trop fort\n",
      "3                        I believe Bert is better !\n",
      "4                           I can't believe it !!!!\n",
      "dtype: object \n",
      " 0        ceci est un test cae e hello gutentag     \n",
      "1    je vous leve mon chapeau    good morning sire \n",
      "2                 le modele camenbert est trop fort\n",
      "3                        i believe bert is better  \n",
      "4                           i can t believe it     \n",
      "dtype: object\n"
     ]
    }
   ],
   "source": [
    "print(un_exemple_serie, '\\n',\n",
    "      pre_nettoyage_texte(\n",
    "          (un_exemple_serie).map(simplify)) # fonction simplify qui transforme par ex : les é en e\n",
    "     )"
   ]
  },
  {
   "cell_type": "markdown",
   "id": "1a4c7fb8",
   "metadata": {},
   "source": [
    "### Lemmatisation "
   ]
  },
  {
   "cell_type": "markdown",
   "id": "0689830f",
   "metadata": {},
   "source": [
    "#### Fonction pour lémmatisation "
   ]
  },
  {
   "cell_type": "markdown",
   "id": "c7df5a81",
   "metadata": {},
   "source": [
    "1. Lemmatisation avec Spacy fonction nlp\n",
    "2. Suppresion des stopwords avec nltk\n",
    "3. suppression des ponctuation et espace avec Spacy"
   ]
  },
  {
   "cell_type": "code",
   "execution_count": 42,
   "id": "cd166a84",
   "metadata": {},
   "outputs": [],
   "source": [
    "# Lemmatisation avec Spacy fonction nlp\n",
    "# Suppresion des stopwords avec nltk\n",
    "# suppression des ponctuation et espace avec Spacy\n",
    "def nettoyage_texte(serie_pandas):\n",
    "    \n",
    "    # On lemmatise avec Spacy\n",
    "    serie_pandas = ' '.join(y.lemma_ for y in nlp(serie_pandas)  \n",
    "                    \n",
    "                    # condition si\n",
    "                    if\n",
    "                    \n",
    "                    # Suppression des tokens inclus dans stops\n",
    "                    y.text not in stops and\n",
    "                    \n",
    "                    # Suppresion des tokens lemmatisés inclus dans stops\n",
    "                    y.lemma_ not in stops and\n",
    "                    \n",
    "                    # Suppression ponctuation \n",
    "                    not y.is_punct and\n",
    "                    \n",
    "                    # Suppression des espaces\n",
    "                    not y.is_space\n",
    "                           )\n",
    "                   \n",
    "    return str(serie_pandas)"
   ]
  },
  {
   "cell_type": "code",
   "execution_count": 40,
   "id": "be114010",
   "metadata": {},
   "outputs": [],
   "source": [
    "def pipeline_nlp(serie_pandas):\n",
    "    # fonction 1 pré traitement par regex et mise en minuscule\n",
    "    serie_pandas = pre_nettoyage_texte(serie_pandas)\n",
    "    # fonction 2 lemmatisation + suppression stopwords nltk\n",
    "    serie_pandas = serie_pandas.map(nettoyage_texte)\n",
    "    return serie_pandas"
   ]
  },
  {
   "cell_type": "markdown",
   "id": "7e2a5583",
   "metadata": {},
   "source": [
    "### Exemples de nettoyage avec lemmatisation"
   ]
  },
  {
   "cell_type": "code",
   "execution_count": 49,
   "id": "dcf06cba",
   "metadata": {
    "scrolled": false
   },
   "outputs": [
    {
     "name": "stdout",
     "output_type": "stream",
     "text": [
      "Fonction : pre_nettoyage_texte \n",
      "\n",
      "0                     j ai mal au ventre\n",
      "1                     tommorow i see you\n",
      "2              what is it    foodtruck  \n",
      "3        dollars   i need some dolaarsss\n",
      "dtype: object\n",
      "\n",
      " Fonction : nettoyage_texte\n",
      "0       j ai mal au ventre\n",
      "1             tommorow see\n",
      "2                foodtruck\n",
      "3    dollar need dolaarsss\n",
      "dtype: object\n"
     ]
    }
   ],
   "source": [
    "sentences = pd.Series([\"j'ai mal au ventre\",\n",
    "                       \"Tommorow I see YOU\",\n",
    "                       'What is it ! #foodtruck ?',\n",
    "                       '$$$ Dollars , I need some DOLAARSSS'\n",
    "                      ])\n",
    "print('Fonction : pre_nettoyage_texte \\n')\n",
    "print(pre_nettoyage_texte(sentences))\n",
    "print('\\n Fonction : nettoyage_texte')\n",
    "print(pre_nettoyage_texte(sentences).map(nettoyage_texte))"
   ]
  },
  {
   "cell_type": "code",
   "execution_count": 50,
   "id": "7a2c9f66",
   "metadata": {},
   "outputs": [],
   "source": [
    "df['description_pre_clean'] = pre_nettoyage_texte(df['description'])"
   ]
  },
  {
   "cell_type": "code",
   "execution_count": 51,
   "id": "b2d64dbd",
   "metadata": {
    "scrolled": true
   },
   "outputs": [],
   "source": [
    "df['description_clean'] = df['description_pre_clean'].map(nettoyage_texte)"
   ]
  },
  {
   "cell_type": "code",
   "execution_count": 44,
   "id": "d8e78339",
   "metadata": {},
   "outputs": [
    {
     "data": {
      "text/plain": [
       "0       key features of elegance polyester multicolor abstract eyelet door curtain floral curtain elegance polyester multicolor abstract eyelet door curtain  213 cm in height  pack of 2  price  rs  899 this curtain enhances the look of the interiors this curtain is made from 100  high quality polyester fabric it features an eyelet style stitch with metal ring it makes the room environment romantic and loving this curtain is ant  wrinkle and anti shrinkage and have elegant apparance give your home a ...\n",
       "1                                                              specifications of sathiyas cotton bath towel  3 bath towel  red  yellow  blue  bath towel features machine washable yes material cotton design self design general brand sathiyas type bath towel gsm 500 model name sathiyas cotton bath towel ideal for men  women  boys  girls model id asvtwl322 color red  yellow  blue size mediam dimensions length 30 inch width 60 inch in the box number of contents in sales package 3 sales package 3 bath towel\n",
       "2       key features of eurospa cotton terry face towel set size  small height  9 inch gsm  360 eurospa cotton terry face towel set  20 piece face towel set  assorted  price  rs  299 eurospa brings to you an exclusively designed  100  soft cotton towels of export quality  all our products have soft texture that takes care of your skin and gives you that enriched feeling you deserve  eurospa has been exporting its bath towels to lot of renowned brands for last 10 years and is famous for its fine prin...\n",
       "3       key features of santosh royal fashion cotton printed king sized double bedsheet royal bedsheet perfact for wedding   gifting specifications of santosh royal fashion cotton printed king sized double bedsheet  1 bedsheet 2 pillow cover  multicolor  general brand santosh royal fashion machine washable yes type flat material cotton model name gold design royal cotton printed wedding   gifted double bedsheet with 2 pillow cover model id goldbedi 38 color multicolor size king fabric care machine w...\n",
       "4       key features of jaipur print cotton floral king sized double bedsheet 100  cotton jaipur print cotton floral king sized double bedsheet  1 bed sheet 2 pillow cover  white  price  rs  998 this nice bed sheet made up of 100  cotton to give you comfort  this bed sheet is hand printed  this bedsheet gives nice look to your room and its fast colour and good quality gives this bedsheet long life  specifications of jaipur print cotton floral king sized double bedsheet  1 bed sheet 2 pillow cover  w...\n",
       "                                                                                                                                                                                                                                                               ...                                                                                                                                                                                                                                                         \n",
       "1045    oren empower extra large self adhesive sticker  pack of 2                            price  rs  999           double sticker can be used for the big walls  two pieces is there that can be arranged alternatively or reflectively  this will d cor the wall like 3d look  tree with the green shaded leaves will give the sharp feature of the greenery  reusable i e  can be used again after applied once  simple remove and re use the sticker on same or another wall with a different idea    how to insta...\n",
       "1046    wallmantra large vinyl sticker sticker  pack of 1                            price  rs  1 896           bring home this exclusive piece of wall art to give your home a refreshing look it deserves    wall decals are the latest trend  sweeping the world of interior design  as a quick and easy way to personalise and transform your home  we at wallmantra use only the highest quality premium self adhesive vinyl for our products to ensure you receive the best quality product   the sizes are in inc...\n",
       "1047                                                                                                                                                                                                                                                 buy uberlyfe extra large pigmented polyvinyl films  imported  sticker for rs 1449 online  uberlyfe extra large pigmented polyvinyl films  imported  sticker at best prices with free shipping   cash on delivery  only genuine products  30 day replacement guarantee \n",
       "1048                                                                                                                                                                                                                                                                                                     buy wallmantra medium vinyl sticker sticker for rs 1333 online  wallmantra medium vinyl sticker sticker at best prices with free shipping   cash on delivery  only genuine products  30 day replacement guarantee \n",
       "1049                                                                                                                                                                                                                                                                                                                            buy uberlyfe large vinyl sticker for rs 595 online  uberlyfe large vinyl sticker at best prices with free shipping   cash on delivery  only genuine products  30 day replacement guarantee \n",
       "Name: description_pre_clean, Length: 1050, dtype: object"
      ]
     },
     "metadata": {},
     "output_type": "display_data"
    }
   ],
   "source": [
    "with pd.option_context(\"display.max_colwidth\", 500, \"display.max_columns\", 5):\n",
    "    display(\n",
    "df['description_pre_clean']\n",
    "    )"
   ]
  },
  {
   "cell_type": "code",
   "execution_count": 45,
   "id": "f6849eb2",
   "metadata": {},
   "outputs": [
    {
     "data": {
      "text/plain": [
       "0       key feature elegance polyester multicolor abstract eyelet door curtain floral curtain elegance polyester multicolor abstract eyelet door curtain 213 cm height pack 2 price rs 899 curtain enhance look interior curtain make 100 high quality polyester fabric feature eyelet style stitch metal ring make room environment romantic love curtain ant wrinkle anti shrinkage elegant apparance give home bright modernistic appeal design surreal attention sure steal heart contemporary eyelet valance curtai...\n",
       "1                                                                                                       specification sathiyas cotton bath towel 3 bath towel red yellow blue bath towel feature machine washable yes material cotton design self design general brand sathiyas type bath towel gsm 500 model name sathiyas cotton bath towel ideal man woman boy girl model asvtwl322 color red yellow blue size mediam dimension length 30 inch width 60 inch box number content sale package 3 sale package 3 bath towel\n",
       "2       key feature eurospa cotton terry face towel set size small height 9 inch gsm 360 eurospa cotton terry face towel set 20 piece face towel set assort price rs 299 eurospa bring exclusively design 100 soft cotton towel export quality product soft texture take care skin give enriched feeling deserve eurospa export bath towel lot renowned brand last 10 year famous fine print absorbency softness durability note product 100 cotton susceptible shrinkage product color may vary picture size may vary 3...\n",
       "3       key feature santosh royal fashion cotton print king size double bedsheet royal bedsheet perfact wedding gift specification santosh royal fashion cotton print king size double bedsheet 1 bedsheet 2 pillow cover multicolor general brand santosh royal fashion machine washable yes type flat material cotton model name gold design royal cotton print wedding gift double bedsheet 2 pillow cover model goldbedi 38 color multicolor size king fabric care machine wash bleach dimension flat sheet width 90...\n",
       "4       key feature jaipur print cotton floral king size double bedsheet 100 cotton jaipur print cotton floral king size double bedsheet 1 bed sheet 2 pillow cover white price rs 998 nice bed sheet make 100 cotton give comfort bed sheet hand print bedsheet give nice look room fast colour good quality give bedsheet long life specification jaipur print cotton floral king size double bedsheet 1 bed sheet 2 pillow cover white general machine washable yes brand jaipur print type flat model name jaipur117...\n",
       "                                                                                                                                                                                                                                                               ...                                                                                                                                                                                                                                                         \n",
       "1045    oren empower extra large self adhesive sticker pack 2 price rs 999 double sticker use big wall two piece arrange alternatively reflectively cor wall like 3d look tree green shaded leave give sharp feature greenery reusable e use apply simple remove use sticker another wall different idea install 1 surface wish attach decal must clean free dust grease contamination 2 simply peel pre cut piece wall sticker back paper apply desire area note 1 freshly paint lacquer surface must allow completely ...\n",
       "1046    wallmantra large vinyl sticker sticker pack 1 price rs 1 896 bring home exclusive piece wall art give home refreshing look deserve wall decal late trend sweep world interior design quick easy way personalise transform home wallmantra use high quality premium self adhesive vinyl product ensure receive good quality product size inch width x height round near inch size product final size wall easy apply remove apply send ready apply decal sticker 2 practice item instruction manual also see appl...\n",
       "1047                                                                                                                                                                                                                                                                                           buy uberlyfe extra large pigment polyvinyl film import sticker rs 1449 online uberlyfe extra large pigment polyvinyl film import sticker good price free shipping cash delivery genuine product 30 day replacement guarantee\n",
       "1048                                                                                                                                                                                                                                                                                                                                 buy wallmantra medium vinyl sticker sticker rs 1333 online wallmantra medium vinyl sticker sticker good price free shipping cash delivery genuine product 30 day replacement guarantee\n",
       "1049                                                                                                                                                                                                                                                                                                                                                        buy uberlyfe large vinyl sticker rs 595 online uberlyfe large vinyl sticker good price free shipping cash delivery genuine product 30 day replacement guarantee\n",
       "Name: description_clean, Length: 1050, dtype: object"
      ]
     },
     "metadata": {},
     "output_type": "display_data"
    }
   ],
   "source": [
    "with pd.option_context(\"display.max_colwidth\", 500, \"display.max_columns\", 5):\n",
    "    display(\n",
    "    df['description_clean']\n",
    "    )"
   ]
  },
  {
   "cell_type": "markdown",
   "id": "e9c8ebed",
   "metadata": {},
   "source": [
    "# Bag of words Tfidf"
   ]
  },
  {
   "cell_type": "code",
   "execution_count": 52,
   "id": "e62ee53a",
   "metadata": {},
   "outputs": [
    {
     "name": "stdout",
     "output_type": "stream",
     "text": [
      "          N_gram  Fréquence\n",
      "0  autre exemple          1\n",
      "1       ce texte          1\n",
      "2       de texte          1\n",
      "3      encore un          1\n",
      "4         est un          1\n",
      "5     exemple de          1\n",
      "6      texte est          1\n",
      "7       un autre          1\n",
      "8     un exemple          2\n"
     ]
    }
   ],
   "source": [
    "from sklearn.feature_extraction.text import CountVectorizer\n",
    "\n",
    "def generer_ngrams(dataframe, n):\n",
    "    # Convertir la série en une liste de textes\n",
    "    textes = dataframe.tolist()\n",
    "\n",
    "    # Créer un objet CountVectorizer avec les paramètres appropriés\n",
    "    vectorizer = CountVectorizer(ngram_range=(n, n))\n",
    "\n",
    "    # Calculer la matrice des N-grams\n",
    "    matrice_ngrams = vectorizer.fit_transform(textes)\n",
    "\n",
    "    # Obtenir les noms des N-grams\n",
    "    noms_ngrams = vectorizer.get_feature_names_out()\n",
    "\n",
    "    # Obtenir les fréquences des N-grams\n",
    "    frequences_ngrams = matrice_ngrams.sum(axis=0).A1\n",
    "\n",
    "    # Créer un dataframe avec les N-grams et leurs fréquences\n",
    "    dataframe_ngrams = pd.DataFrame({'N_gram': noms_ngrams, 'Fréquence': frequences_ngrams})\n",
    "\n",
    "    return dataframe_ngrams\n",
    "\n",
    "# Exemple d'utilisation\n",
    "serie_texte = pd.Series(['Ce texte est un exemple', 'Un autre exemple de texte', 'Encore un exemple'])\n",
    "\n",
    "dataframe_ngrams = generer_ngrams(serie_texte, 2)\n",
    "\n",
    "print(dataframe_ngrams)"
   ]
  },
  {
   "cell_type": "code",
   "execution_count": 53,
   "id": "94f61531",
   "metadata": {
    "scrolled": false
   },
   "outputs": [
    {
     "data": {
      "text/html": [
       "<div>\n",
       "<style scoped>\n",
       "    .dataframe tbody tr th:only-of-type {\n",
       "        vertical-align: middle;\n",
       "    }\n",
       "\n",
       "    .dataframe tbody tr th {\n",
       "        vertical-align: top;\n",
       "    }\n",
       "\n",
       "    .dataframe thead th {\n",
       "        text-align: right;\n",
       "    }\n",
       "</style>\n",
       "<table border=\"1\" class=\"dataframe\">\n",
       "  <thead>\n",
       "    <tr style=\"text-align: right;\">\n",
       "      <th></th>\n",
       "      <th>N_gram</th>\n",
       "      <th>Fréquence</th>\n",
       "    </tr>\n",
       "  </thead>\n",
       "  <tbody>\n",
       "    <tr>\n",
       "      <th>18872</th>\n",
       "      <td>shipping cash</td>\n",
       "      <td>564</td>\n",
       "    </tr>\n",
       "    <tr>\n",
       "      <th>5320</th>\n",
       "      <td>cash on</td>\n",
       "      <td>564</td>\n",
       "    </tr>\n",
       "    <tr>\n",
       "      <th>15461</th>\n",
       "      <td>only genuine</td>\n",
       "      <td>564</td>\n",
       "    </tr>\n",
       "    <tr>\n",
       "      <th>15222</th>\n",
       "      <td>on delivery</td>\n",
       "      <td>564</td>\n",
       "    </tr>\n",
       "    <tr>\n",
       "      <th>9424</th>\n",
       "      <td>free shipping</td>\n",
       "      <td>564</td>\n",
       "    </tr>\n",
       "    <tr>\n",
       "      <th>9768</th>\n",
       "      <td>genuine products</td>\n",
       "      <td>564</td>\n",
       "    </tr>\n",
       "    <tr>\n",
       "      <th>9053</th>\n",
       "      <td>flipkart com</td>\n",
       "      <td>472</td>\n",
       "    </tr>\n",
       "    <tr>\n",
       "      <th>7122</th>\n",
       "      <td>day replacement</td>\n",
       "      <td>470</td>\n",
       "    </tr>\n",
       "    <tr>\n",
       "      <th>17123</th>\n",
       "      <td>products 30</td>\n",
       "      <td>469</td>\n",
       "    </tr>\n",
       "    <tr>\n",
       "      <th>17706</th>\n",
       "      <td>replacement guarantee</td>\n",
       "      <td>469</td>\n",
       "    </tr>\n",
       "  </tbody>\n",
       "</table>\n",
       "</div>"
      ],
      "text/plain": [
       "                      N_gram  Fréquence\n",
       "18872          shipping cash        564\n",
       "5320                 cash on        564\n",
       "15461           only genuine        564\n",
       "15222            on delivery        564\n",
       "9424           free shipping        564\n",
       "9768        genuine products        564\n",
       "9053            flipkart com        472\n",
       "7122         day replacement        470\n",
       "17123            products 30        469\n",
       "17706  replacement guarantee        469"
      ]
     },
     "execution_count": 53,
     "metadata": {},
     "output_type": "execute_result"
    }
   ],
   "source": [
    "generer_ngrams(df['description_pre_clean'],2).sort_values('Fréquence',ascending = False).head(10)"
   ]
  },
  {
   "cell_type": "code",
   "execution_count": 54,
   "id": "70a81edd",
   "metadata": {
    "scrolled": true
   },
   "outputs": [
    {
     "data": {
      "text/html": [
       "<div>\n",
       "<style scoped>\n",
       "    .dataframe tbody tr th:only-of-type {\n",
       "        vertical-align: middle;\n",
       "    }\n",
       "\n",
       "    .dataframe tbody tr th {\n",
       "        vertical-align: top;\n",
       "    }\n",
       "\n",
       "    .dataframe thead th {\n",
       "        text-align: right;\n",
       "    }\n",
       "</style>\n",
       "<table border=\"1\" class=\"dataframe\">\n",
       "  <thead>\n",
       "    <tr style=\"text-align: right;\">\n",
       "      <th></th>\n",
       "      <th>N_gram</th>\n",
       "      <th>Fréquence</th>\n",
       "    </tr>\n",
       "  </thead>\n",
       "  <tbody>\n",
       "    <tr>\n",
       "      <th>4332</th>\n",
       "      <td>cash delivery</td>\n",
       "      <td>564</td>\n",
       "    </tr>\n",
       "    <tr>\n",
       "      <th>8459</th>\n",
       "      <td>free shipping</td>\n",
       "      <td>564</td>\n",
       "    </tr>\n",
       "    <tr>\n",
       "      <th>16612</th>\n",
       "      <td>shipping cash</td>\n",
       "      <td>564</td>\n",
       "    </tr>\n",
       "    <tr>\n",
       "      <th>8741</th>\n",
       "      <td>genuine product</td>\n",
       "      <td>564</td>\n",
       "    </tr>\n",
       "    <tr>\n",
       "      <th>8273</th>\n",
       "      <td>flipkart com</td>\n",
       "      <td>472</td>\n",
       "    </tr>\n",
       "    <tr>\n",
       "      <th>6194</th>\n",
       "      <td>day replacement</td>\n",
       "      <td>471</td>\n",
       "    </tr>\n",
       "    <tr>\n",
       "      <th>15408</th>\n",
       "      <td>replacement guarantee</td>\n",
       "      <td>469</td>\n",
       "    </tr>\n",
       "    <tr>\n",
       "      <th>764</th>\n",
       "      <td>30 day</td>\n",
       "      <td>469</td>\n",
       "    </tr>\n",
       "    <tr>\n",
       "      <th>14747</th>\n",
       "      <td>product 30</td>\n",
       "      <td>469</td>\n",
       "    </tr>\n",
       "    <tr>\n",
       "      <th>14572</th>\n",
       "      <td>price rs</td>\n",
       "      <td>342</td>\n",
       "    </tr>\n",
       "    <tr>\n",
       "      <th>9294</th>\n",
       "      <td>guarantee free</td>\n",
       "      <td>286</td>\n",
       "    </tr>\n",
       "    <tr>\n",
       "      <th>16163</th>\n",
       "      <td>sale package</td>\n",
       "      <td>261</td>\n",
       "    </tr>\n",
       "    <tr>\n",
       "      <th>2008</th>\n",
       "      <td>analog watch</td>\n",
       "      <td>237</td>\n",
       "    </tr>\n",
       "    <tr>\n",
       "      <th>5159</th>\n",
       "      <td>com genuine</td>\n",
       "      <td>228</td>\n",
       "    </tr>\n",
       "    <tr>\n",
       "      <th>10575</th>\n",
       "      <td>key feature</td>\n",
       "      <td>207</td>\n",
       "    </tr>\n",
       "    <tr>\n",
       "      <th>13249</th>\n",
       "      <td>online rs</td>\n",
       "      <td>196</td>\n",
       "    </tr>\n",
       "    <tr>\n",
       "      <th>9111</th>\n",
       "      <td>good price</td>\n",
       "      <td>189</td>\n",
       "    </tr>\n",
       "    <tr>\n",
       "      <th>14566</th>\n",
       "      <td>price free</td>\n",
       "      <td>183</td>\n",
       "    </tr>\n",
       "    <tr>\n",
       "      <th>6330</th>\n",
       "      <td>delivery genuine</td>\n",
       "      <td>183</td>\n",
       "    </tr>\n",
       "    <tr>\n",
       "      <th>2432</th>\n",
       "      <td>baby girl</td>\n",
       "      <td>170</td>\n",
       "    </tr>\n",
       "  </tbody>\n",
       "</table>\n",
       "</div>"
      ],
      "text/plain": [
       "                      N_gram  Fréquence\n",
       "4332           cash delivery        564\n",
       "8459           free shipping        564\n",
       "16612          shipping cash        564\n",
       "8741         genuine product        564\n",
       "8273            flipkart com        472\n",
       "6194         day replacement        471\n",
       "15408  replacement guarantee        469\n",
       "764                   30 day        469\n",
       "14747             product 30        469\n",
       "14572               price rs        342\n",
       "9294          guarantee free        286\n",
       "16163           sale package        261\n",
       "2008            analog watch        237\n",
       "5159             com genuine        228\n",
       "10575            key feature        207\n",
       "13249              online rs        196\n",
       "9111              good price        189\n",
       "14566             price free        183\n",
       "6330        delivery genuine        183\n",
       "2432               baby girl        170"
      ]
     },
     "execution_count": 54,
     "metadata": {},
     "output_type": "execute_result"
    }
   ],
   "source": [
    "generer_ngrams(df['description_clean'],2).sort_values('Fréquence',ascending = False).head(20)"
   ]
  },
  {
   "cell_type": "code",
   "execution_count": 55,
   "id": "96426593",
   "metadata": {
    "scrolled": false
   },
   "outputs": [
    {
     "name": "stdout",
     "output_type": "stream",
     "text": [
      "\n",
      " Home Furnishing \n",
      "                N_gram  Fréquence\n",
      "1310     flipkart com         74\n",
      "2451    shipping cash         74\n",
      "1374  genuine product         74\n",
      "1343    free shipping         74\n",
      "797       com genuine         74\n",
      "2141     product free         74\n",
      "629     cash delivery         74\n",
      "2378     sale package         62\n",
      "2099         price rs         54\n",
      "999     cushion cover         46\n",
      "1923   number content         40\n",
      "847      content sale         40\n",
      "470        box number         39\n",
      "1367    general brand         35\n",
      "1984     package pack         33\n",
      "1634      key feature         32\n",
      "135             40 cm         28\n",
      "707          cm width         28\n",
      "1126     door curtain         26\n",
      "316     aroma comfort         23\n",
      "\n",
      " Baby Care \n",
      "                  N_gram  Fréquence\n",
      "331           baby girl        170\n",
      "323            baby boy         99\n",
      "3000       sale package         85\n",
      "1891         ideal baby         80\n",
      "1650     general detail         73\n",
      "2442     number content         70\n",
      "977        content sale         69\n",
      "1399      fabric cotton         67\n",
      "2011        key feature         60\n",
      "2558       package pack         57\n",
      "2742           price rs         56\n",
      "1186     detail pattern         52\n",
      "1398        fabric care         45\n",
      "2536        pack fabric         43\n",
      "2455    occasion casual         40\n",
      "1055        cotton type         35\n",
      "2911         round neck         35\n",
      "233   additional detail         34\n",
      "11           100 cotton         34\n",
      "3093      shipping cash         34\n",
      "\n",
      " Watches \n",
      "                      N_gram  Fréquence\n",
      "299            analog watch        237\n",
      "1455              watch man        135\n",
      "630        discount genuine        134\n",
      "1096             product 30        134\n",
      "766          great discount        134\n",
      "1125  replacement guarantee        134\n",
      "136                  30 day        134\n",
      "482           cash delivery        134\n",
      "1257          shipping cash        134\n",
      "589         day replacement        134\n",
      "720           free shipping        134\n",
      "707            flipkart com        134\n",
      "773          guarantee free        134\n",
      "807          india flipkart        134\n",
      "734         genuine product        134\n",
      "1037              online rs        133\n",
      "1466            watch woman         89\n",
      "552               com great         68\n",
      "882                 man buy         57\n",
      "1469        water resistant         49\n",
      "\n",
      " Home Decor & Festive Needs \n",
      "                      N_gram  Fréquence\n",
      "1923             good price         80\n",
      "3693          shipping cash         76\n",
      "1235        day replacement         76\n",
      "872           cash delivery         76\n",
      "3275             product 30         76\n",
      "1764          free shipping         76\n",
      "3248             price free         76\n",
      "130                  30 day         76\n",
      "1825        genuine product         76\n",
      "3433  replacement guarantee         76\n",
      "1294       delivery genuine         76\n",
      "3250               price rs         64\n",
      "972                 cm good         63\n",
      "989                   cm rs         62\n",
      "3744           showpiece cm         44\n",
      "3608           sale package         43\n",
      "2354            key feature         33\n",
      "2708           model number         30\n",
      "1819          general brand         27\n",
      "662                box sale         26\n",
      "\n",
      " Kitchen & Dining \n",
      "                      N_gram  Fréquence\n",
      "585             ceramic mug        111\n",
      "670              coffee mug        109\n",
      "2219               price rs         88\n",
      "1674               love one         72\n",
      "1758         microwave safe         56\n",
      "1727       material ceramic         55\n",
      "1195          free shipping         51\n",
      "559           cash delivery         51\n",
      "2582          shipping cash         51\n",
      "1235        genuine product         51\n",
      "2364  replacement guarantee         50\n",
      "104                  30 day         50\n",
      "843         day replacement         50\n",
      "2273             product 30         50\n",
      "2216             price free         48\n",
      "865        delivery genuine         48\n",
      "1311             good price         48\n",
      "1245              gift love         47\n",
      "2097           perfect gift         46\n",
      "247            also perfect         46\n",
      "\n",
      " Beauty and Personal Care \n",
      "                      N_gram  Fréquence\n",
      "1101           flipkart com        159\n",
      "81                   30 day        101\n",
      "1986             product 30        101\n",
      "601           cash delivery        101\n",
      "2111  replacement guarantee        101\n",
      "826         day replacement        101\n",
      "1132          free shipping        101\n",
      "2326          shipping cash        101\n",
      "1162        genuine product        101\n",
      "708               combo set         82\n",
      "1230         guarantee free         80\n",
      "690                 com buy         79\n",
      "691             com genuine         63\n",
      "2287             set online         62\n",
      "1787              online rs         62\n",
      "1977               price rs         30\n",
      "1975             price free         21\n",
      "847        delivery genuine         21\n",
      "1207             good price         21\n",
      "1157          general trait         19\n",
      "\n",
      " Computers \n",
      "                      N_gram  Fréquence\n",
      "1025        day replacement         95\n",
      "2331             product 30         94\n",
      "2441  replacement guarantee         94\n",
      "1382        genuine product         94\n",
      "1331          free shipping         94\n",
      "731           cash delivery         94\n",
      "156                  30 day         94\n",
      "2641          shipping cash         94\n",
      "1427         guarantee free         70\n",
      "829             com genuine         68\n",
      "1317           flipkart com         68\n",
      "1673            laptop skin         62\n",
      "2312            print shape         52\n",
      "2309               price rs         44\n",
      "1473           high quality         44\n",
      "3124      warranty warranty         42\n",
      "1916              mouse pad         42\n",
      "1687             lead light         42\n",
      "2682             skin mouse         42\n",
      "102                   19 5v         38\n"
     ]
    }
   ],
   "source": [
    "for i in df['target'].unique():\n",
    "    df.loc[\n",
    "        df['target'] == i\n",
    "    ]\n",
    "    print(\n",
    "        '\\n',\n",
    "        i,\n",
    "        '\\n',\n",
    "        generer_ngrams(df.loc[\n",
    "            df['target']==i]['description_clean'],2).sort_values('Fréquence',ascending = False).head(20)\n",
    "         )"
   ]
  },
  {
   "cell_type": "markdown",
   "id": "e7708aec",
   "metadata": {},
   "source": [
    "> On voir des bigrams comme 'cash delivery' , 'shipping cash', 'free shipping' , ces derniers sont présents sur tous les produits et ne vont par conséquences pas nous aider à les distinguer\n",
    "Ce sont des constantes ou stopwords à supprimer.\n",
    "Tous les produits du site sont en effet par définition livrable à domicile"
   ]
  },
  {
   "cell_type": "code",
   "execution_count": 50,
   "id": "f417f442",
   "metadata": {},
   "outputs": [
    {
     "data": {
      "text/plain": [
       "Index(['uniq_id', 'crawl_timestamp', 'product_url', 'product_name',\n",
       "       'product_category_tree', 'pid', 'retail_price', 'discounted_price',\n",
       "       'image', 'is_FK_Advantage_product', 'description', 'product_rating',\n",
       "       'overall_rating', 'brand', 'product_specifications', 'target',\n",
       "       'description_pre_clean', 'description_clean'],\n",
       "      dtype='object')"
      ]
     },
     "execution_count": 50,
     "metadata": {},
     "output_type": "execute_result"
    }
   ],
   "source": [
    "df.columns"
   ]
  },
  {
   "cell_type": "code",
   "execution_count": 56,
   "id": "9a70347d",
   "metadata": {
    "scrolled": true
   },
   "outputs": [
    {
     "name": "stdout",
     "output_type": "stream",
     "text": [
      "       Mot  frequences_ponderes\n",
      "0    autre             0.552490\n",
      "1       ce             0.552490\n",
      "2       de             0.552490\n",
      "3   encore             0.767495\n",
      "4      est             0.552490\n",
      "5  exemple             1.105914\n",
      "6    texte             0.840366\n",
      "7       un             1.105914\n"
     ]
    }
   ],
   "source": [
    "from sklearn.feature_extraction.text import TfidfVectorizer\n",
    "\n",
    "def generer_tfidf(dataframe):\n",
    "    # Convertir la série en une liste de textes\n",
    "    textes = dataframe.tolist()\n",
    "\n",
    "    # Créer un objet TfidfVectorizer avec les paramètres appropriés\n",
    "    vectorizer = TfidfVectorizer()\n",
    "\n",
    "    # Calculer la matrice TF-IDF\n",
    "    matrice_tfidf = vectorizer.fit_transform(textes)\n",
    "\n",
    "    # Obtenir les noms des mots\n",
    "    noms_mots = vectorizer.get_feature_names_out()\n",
    "\n",
    "    # Obtenir les fréquences pondérées des mots\n",
    "    frequences_ponderes = matrice_tfidf.sum(axis=0).A1\n",
    "\n",
    "    # Créer un dataframe avec les mots et leurs fréquences pondérées\n",
    "    dataframe_tfidf = pd.DataFrame({'Mot': noms_mots, 'frequences_ponderes': frequences_ponderes})\n",
    "\n",
    "    return dataframe_tfidf\n",
    "\n",
    "# Exemple d'utilisation\n",
    "serie_texte = pd.Series(['Ce texte est un exemple', 'Un autre exemple de texte', 'Encore un exemple'])\n",
    "\n",
    "dataframe_tfidf = generer_tfidf(serie_texte)\n",
    "\n",
    "print(dataframe_tfidf)"
   ]
  },
  {
   "cell_type": "code",
   "execution_count": 57,
   "id": "be8e9ac0",
   "metadata": {
    "scrolled": false
   },
   "outputs": [
    {
     "data": {
      "text/html": [
       "<div>\n",
       "<style scoped>\n",
       "    .dataframe tbody tr th:only-of-type {\n",
       "        vertical-align: middle;\n",
       "    }\n",
       "\n",
       "    .dataframe tbody tr th {\n",
       "        vertical-align: top;\n",
       "    }\n",
       "\n",
       "    .dataframe thead th {\n",
       "        text-align: right;\n",
       "    }\n",
       "</style>\n",
       "<table border=\"1\" class=\"dataframe\">\n",
       "  <thead>\n",
       "    <tr style=\"text-align: right;\">\n",
       "      <th></th>\n",
       "      <th>Mot</th>\n",
       "      <th>frequences_ponderes</th>\n",
       "    </tr>\n",
       "  </thead>\n",
       "  <tbody>\n",
       "    <tr>\n",
       "      <th>1531</th>\n",
       "      <td>com</td>\n",
       "      <td>49.139136</td>\n",
       "    </tr>\n",
       "    <tr>\n",
       "      <th>2271</th>\n",
       "      <td>flipkart</td>\n",
       "      <td>48.861101</td>\n",
       "    </tr>\n",
       "    <tr>\n",
       "      <th>3873</th>\n",
       "      <td>product</td>\n",
       "      <td>42.060209</td>\n",
       "    </tr>\n",
       "    <tr>\n",
       "      <th>4347</th>\n",
       "      <td>shipping</td>\n",
       "      <td>41.444926</td>\n",
       "    </tr>\n",
       "    <tr>\n",
       "      <th>1364</th>\n",
       "      <td>cash</td>\n",
       "      <td>41.444926</td>\n",
       "    </tr>\n",
       "    <tr>\n",
       "      <th>2409</th>\n",
       "      <td>genuine</td>\n",
       "      <td>41.444926</td>\n",
       "    </tr>\n",
       "    <tr>\n",
       "      <th>1792</th>\n",
       "      <td>delivery</td>\n",
       "      <td>41.388788</td>\n",
       "    </tr>\n",
       "    <tr>\n",
       "      <th>2321</th>\n",
       "      <td>free</td>\n",
       "      <td>41.098985</td>\n",
       "    </tr>\n",
       "    <tr>\n",
       "      <th>1296</th>\n",
       "      <td>buy</td>\n",
       "      <td>40.918572</td>\n",
       "    </tr>\n",
       "    <tr>\n",
       "      <th>1760</th>\n",
       "      <td>day</td>\n",
       "      <td>35.255657</td>\n",
       "    </tr>\n",
       "    <tr>\n",
       "      <th>4066</th>\n",
       "      <td>replacement</td>\n",
       "      <td>34.964431</td>\n",
       "    </tr>\n",
       "    <tr>\n",
       "      <th>333</th>\n",
       "      <td>30</td>\n",
       "      <td>34.819515</td>\n",
       "    </tr>\n",
       "    <tr>\n",
       "      <th>4182</th>\n",
       "      <td>rs</td>\n",
       "      <td>34.695993</td>\n",
       "    </tr>\n",
       "    <tr>\n",
       "      <th>2506</th>\n",
       "      <td>guarantee</td>\n",
       "      <td>34.446608</td>\n",
       "    </tr>\n",
       "    <tr>\n",
       "      <th>3518</th>\n",
       "      <td>online</td>\n",
       "      <td>28.820429</td>\n",
       "    </tr>\n",
       "    <tr>\n",
       "      <th>1491</th>\n",
       "      <td>cm</td>\n",
       "      <td>28.690591</td>\n",
       "    </tr>\n",
       "    <tr>\n",
       "      <th>5105</th>\n",
       "      <td>watch</td>\n",
       "      <td>27.782372</td>\n",
       "    </tr>\n",
       "    <tr>\n",
       "      <th>3332</th>\n",
       "      <td>mug</td>\n",
       "      <td>26.994196</td>\n",
       "    </tr>\n",
       "    <tr>\n",
       "      <th>4309</th>\n",
       "      <td>set</td>\n",
       "      <td>24.277840</td>\n",
       "    </tr>\n",
       "    <tr>\n",
       "      <th>887</th>\n",
       "      <td>analog</td>\n",
       "      <td>23.509810</td>\n",
       "    </tr>\n",
       "  </tbody>\n",
       "</table>\n",
       "</div>"
      ],
      "text/plain": [
       "              Mot  frequences_ponderes\n",
       "1531          com            49.139136\n",
       "2271     flipkart            48.861101\n",
       "3873      product            42.060209\n",
       "4347     shipping            41.444926\n",
       "1364         cash            41.444926\n",
       "2409      genuine            41.444926\n",
       "1792     delivery            41.388788\n",
       "2321         free            41.098985\n",
       "1296          buy            40.918572\n",
       "1760          day            35.255657\n",
       "4066  replacement            34.964431\n",
       "333            30            34.819515\n",
       "4182           rs            34.695993\n",
       "2506    guarantee            34.446608\n",
       "3518       online            28.820429\n",
       "1491           cm            28.690591\n",
       "5105        watch            27.782372\n",
       "3332          mug            26.994196\n",
       "4309          set            24.277840\n",
       "887        analog            23.509810"
      ]
     },
     "execution_count": 57,
     "metadata": {},
     "output_type": "execute_result"
    }
   ],
   "source": [
    "generer_tfidf((df['description_clean'])).sort_values('frequences_ponderes',ascending = False).head(20)"
   ]
  },
  {
   "cell_type": "markdown",
   "id": "7bcd0ba8",
   "metadata": {},
   "source": [
    "# New_stops\n",
    "    Ces mots n'apportent pas d'informations"
   ]
  },
  {
   "cell_type": "code",
   "execution_count": 53,
   "id": "d6418e12",
   "metadata": {},
   "outputs": [],
   "source": [
    "new_stops = ['cash','rs','delivery','flipkart','com','guarantee',\n",
    "             '30','cash','product','shipping','genuine','free','buy',\n",
    "             'price','replacement','day'\n",
    "            ]"
   ]
  },
  {
   "cell_type": "code",
   "execution_count": 54,
   "id": "1edcf165",
   "metadata": {
    "scrolled": true
   },
   "outputs": [
    {
     "name": "stdout",
     "output_type": "stream",
     "text": [
      "\n",
      " Home Furnishing \n",
      "           Mot  frequences_ponderes\n",
      "281       buy            11.458640\n",
      "478      free            11.386874\n",
      "290      cash            11.363698\n",
      "833  shipping            11.363698\n",
      "374  delivery            11.363698\n",
      "466  flipkart            11.363698\n",
      "323       com            11.363698\n",
      "493   genuine            11.363698\n",
      "738   product            11.089939\n",
      "801        rs             9.015599\n",
      "310        cm             8.544444\n",
      "195  abstract             6.982648\n",
      "345    cotton             6.795485\n",
      "260   blanket             6.654163\n",
      "922     towel             6.608470\n",
      "347     cover             6.395729\n",
      "845    single             6.327615\n",
      "391    double             6.291875\n",
      "754     quilt             6.082938\n",
      "357   cushion             5.894552\n",
      "\n",
      " Baby Care \n",
      "            Mot  frequences_ponderes\n",
      "214       baby            13.146684\n",
      "599       girl             9.863636\n",
      "440     detail             9.315977\n",
      "400     cotton             7.984666\n",
      "461      dress             7.864099\n",
      "516     fabric             7.515824\n",
      "279        boy             6.773057\n",
      "971      print             6.110590\n",
      "1108    sleeve             5.773406\n",
      "369        com             5.739151\n",
      "552   flipkart             5.739151\n",
      "842       neck             5.684641\n",
      "973    product             5.267758\n",
      "1078     shirt             5.069824\n",
      "568       free             5.056352\n",
      "594    genuine             4.959407\n",
      "1077  shipping             4.959407\n",
      "431   delivery             4.959407\n",
      "316       cash             4.959407\n",
      "1037        rs             4.602225\n",
      "\n",
      " Watches \n",
      "            Mot  frequences_ponderes\n",
      "663      watch            13.553854\n",
      "194     analog            12.283894\n",
      "445        man            10.589543\n",
      "679      woman             9.267088\n",
      "594     sonata             6.429880\n",
      "294        day             6.335145\n",
      "410      india             6.333902\n",
      "502     online             6.333902\n",
      "244        buy             6.333902\n",
      "371    genuine             6.333902\n",
      "362       free             6.333902\n",
      "582   shipping             6.333902\n",
      "256       cash             6.333902\n",
      "388  guarantee             6.333902\n",
      "277        com             6.333902\n",
      "297   delivery             6.333902\n",
      "80          30             6.333902\n",
      "306   discount             6.333902\n",
      "384      great             6.333902\n",
      "353   flipkart             6.333902\n",
      "\n",
      " Home Decor & Festive Needs \n",
      "               Mot  frequences_ponderes\n",
      "413            cm            10.757355\n",
      "1357    showpiece            10.225831\n",
      "1193      product             6.182917\n",
      "733          good             6.098763\n",
      "81             30             6.059656\n",
      "497           day             5.935391\n",
      "1082       online             5.910510\n",
      "712       genuine             5.890374\n",
      "1347     shipping             5.890374\n",
      "747     guarantee             5.890374\n",
      "373          cash             5.890374\n",
      "1260  replacement             5.890374\n",
      "354           buy             5.864806\n",
      "511      delivery             5.864509\n",
      "681          free             5.842171\n",
      "1186        price             5.154941\n",
      "1297           rs             5.010092\n",
      "822          inch             4.460314\n",
      "334         brass             4.169168\n",
      "1568         wall             3.995992\n",
      "\n",
      " Kitchen & Dining \n",
      "               Mot  frequences_ponderes\n",
      "798           mug            18.906656\n",
      "270       ceramic            10.277033\n",
      "308        coffee             8.699425\n",
      "373           day             7.326799\n",
      "954       product             7.289687\n",
      "874       perfect             7.064579\n",
      "392        design             6.564777\n",
      "681        kadhai             6.292771\n",
      "1011   rockmantra             6.118184\n",
      "557          gift             6.115218\n",
      "834           one             5.958784\n",
      "568          good             5.715257\n",
      "533          free             5.662205\n",
      "1053     shipping             5.634917\n",
      "553       genuine             5.634917\n",
      "387      delivery             5.634917\n",
      "261          cash             5.634917\n",
      "582     guarantee             5.556082\n",
      "58             30             5.556082\n",
      "991   replacement             5.541343\n",
      "\n",
      " Beauty and Personal Care \n",
      "               Mot  frequences_ponderes\n",
      "346           com            19.686375\n",
      "539      flipkart            19.171613\n",
      "1064          set            10.590519\n",
      "348         combo            10.327760\n",
      "951       product             9.781252\n",
      "53             30             9.716667\n",
      "302          cash             9.625473\n",
      "570       genuine             9.625473\n",
      "1080     shipping             9.625473\n",
      "606     guarantee             9.625473\n",
      "403           day             9.585024\n",
      "288           buy             9.582953\n",
      "414      delivery             9.574705\n",
      "1003  replacement             9.544240\n",
      "553          free             9.539736\n",
      "860        online             9.150967\n",
      "1029           rs             8.352901\n",
      "945         price             4.239510\n",
      "608          hair             3.515377\n",
      "751           low             3.364921\n",
      "\n",
      " Computers \n",
      "               Mot  frequences_ponderes\n",
      "624      flipkart             9.744683\n",
      "427           com             9.744683\n",
      "1070  replacement             9.683361\n",
      "655       genuine             9.323741\n",
      "391          cash             9.323741\n",
      "1133     shipping             9.323741\n",
      "513      delivery             9.323741\n",
      "1287          usb             9.318041\n",
      "675     guarantee             9.290460\n",
      "118            30             9.280688\n",
      "375           buy             9.265712\n",
      "506           day             9.216037\n",
      "1023      product             8.917320\n",
      "635          free             8.861774\n",
      "776        laptop             8.629107\n",
      "1095           rs             7.575497\n",
      "330       battery             6.006149\n",
      "1321     warranty             5.433803\n",
      "798         light             5.313815\n",
      "396          cell             4.749466\n"
     ]
    }
   ],
   "source": [
    "for i in df['target'].unique():\n",
    "    df.loc[\n",
    "        df['target'] == i\n",
    "    ]\n",
    "    print(\n",
    "        '\\n',\n",
    "        i,\n",
    "        '\\n',\n",
    "        generer_tfidf(df.loc[\n",
    "            df['target']==i]['description_clean']).sort_values('frequences_ponderes',ascending = False).head(20)\n",
    "         )"
   ]
  },
  {
   "cell_type": "markdown",
   "id": "bf11f3d5",
   "metadata": {},
   "source": [
    "# Premier modèle KMeans\n",
    "    On fait un premier modèle sans modifier les stopwords pour avoir une baseline"
   ]
  },
  {
   "cell_type": "code",
   "execution_count": 75,
   "id": "6c1bf61c",
   "metadata": {},
   "outputs": [
    {
     "data": {
      "text/html": [
       "<div>\n",
       "<style scoped>\n",
       "    .dataframe tbody tr th:only-of-type {\n",
       "        vertical-align: middle;\n",
       "    }\n",
       "\n",
       "    .dataframe tbody tr th {\n",
       "        vertical-align: top;\n",
       "    }\n",
       "\n",
       "    .dataframe thead th {\n",
       "        text-align: right;\n",
       "    }\n",
       "</style>\n",
       "<table border=\"1\" class=\"dataframe\">\n",
       "  <thead>\n",
       "    <tr style=\"text-align: right;\">\n",
       "      <th></th>\n",
       "      <th>product_name</th>\n",
       "      <th>description</th>\n",
       "    </tr>\n",
       "  </thead>\n",
       "  <tbody>\n",
       "    <tr>\n",
       "      <th>0</th>\n",
       "      <td>Elegance Polyester Multicolor Abstract Eyelet ...</td>\n",
       "      <td>Key Features of Elegance Polyester Multicolor ...</td>\n",
       "    </tr>\n",
       "    <tr>\n",
       "      <th>1</th>\n",
       "      <td>Sathiyas Cotton Bath Towel</td>\n",
       "      <td>Specifications of Sathiyas Cotton Bath Towel (...</td>\n",
       "    </tr>\n",
       "    <tr>\n",
       "      <th>2</th>\n",
       "      <td>Eurospa Cotton Terry Face Towel Set</td>\n",
       "      <td>Key Features of Eurospa Cotton Terry Face Towe...</td>\n",
       "    </tr>\n",
       "    <tr>\n",
       "      <th>3</th>\n",
       "      <td>SANTOSH ROYAL FASHION Cotton Printed King size...</td>\n",
       "      <td>Key Features of SANTOSH ROYAL FASHION Cotton P...</td>\n",
       "    </tr>\n",
       "    <tr>\n",
       "      <th>4</th>\n",
       "      <td>Jaipur Print Cotton Floral King sized Double B...</td>\n",
       "      <td>Key Features of Jaipur Print Cotton Floral Kin...</td>\n",
       "    </tr>\n",
       "    <tr>\n",
       "      <th>...</th>\n",
       "      <td>...</td>\n",
       "      <td>...</td>\n",
       "    </tr>\n",
       "    <tr>\n",
       "      <th>1045</th>\n",
       "      <td>Oren Empower Extra Large Self Adhesive Sticker</td>\n",
       "      <td>Oren Empower Extra Large Self Adhesive Sticker...</td>\n",
       "    </tr>\n",
       "    <tr>\n",
       "      <th>1046</th>\n",
       "      <td>Wallmantra Large Vinyl Sticker Sticker</td>\n",
       "      <td>Wallmantra Large Vinyl Sticker Sticker (Pack o...</td>\n",
       "    </tr>\n",
       "    <tr>\n",
       "      <th>1047</th>\n",
       "      <td>Uberlyfe Extra Large Pigmented Polyvinyl Films...</td>\n",
       "      <td>Buy Uberlyfe Extra Large Pigmented Polyvinyl F...</td>\n",
       "    </tr>\n",
       "    <tr>\n",
       "      <th>1048</th>\n",
       "      <td>Wallmantra Medium Vinyl Sticker Sticker</td>\n",
       "      <td>Buy Wallmantra Medium Vinyl Sticker Sticker fo...</td>\n",
       "    </tr>\n",
       "    <tr>\n",
       "      <th>1049</th>\n",
       "      <td>Uberlyfe Large Vinyl Sticker</td>\n",
       "      <td>Buy Uberlyfe Large Vinyl Sticker for Rs.595 on...</td>\n",
       "    </tr>\n",
       "  </tbody>\n",
       "</table>\n",
       "<p>1050 rows × 2 columns</p>\n",
       "</div>"
      ],
      "text/plain": [
       "                                           product_name  \\\n",
       "0     Elegance Polyester Multicolor Abstract Eyelet ...   \n",
       "1                            Sathiyas Cotton Bath Towel   \n",
       "2                   Eurospa Cotton Terry Face Towel Set   \n",
       "3     SANTOSH ROYAL FASHION Cotton Printed King size...   \n",
       "4     Jaipur Print Cotton Floral King sized Double B...   \n",
       "...                                                 ...   \n",
       "1045     Oren Empower Extra Large Self Adhesive Sticker   \n",
       "1046             Wallmantra Large Vinyl Sticker Sticker   \n",
       "1047  Uberlyfe Extra Large Pigmented Polyvinyl Films...   \n",
       "1048            Wallmantra Medium Vinyl Sticker Sticker   \n",
       "1049                       Uberlyfe Large Vinyl Sticker   \n",
       "\n",
       "                                            description  \n",
       "0     Key Features of Elegance Polyester Multicolor ...  \n",
       "1     Specifications of Sathiyas Cotton Bath Towel (...  \n",
       "2     Key Features of Eurospa Cotton Terry Face Towe...  \n",
       "3     Key Features of SANTOSH ROYAL FASHION Cotton P...  \n",
       "4     Key Features of Jaipur Print Cotton Floral Kin...  \n",
       "...                                                 ...  \n",
       "1045  Oren Empower Extra Large Self Adhesive Sticker...  \n",
       "1046  Wallmantra Large Vinyl Sticker Sticker (Pack o...  \n",
       "1047  Buy Uberlyfe Extra Large Pigmented Polyvinyl F...  \n",
       "1048  Buy Wallmantra Medium Vinyl Sticker Sticker fo...  \n",
       "1049  Buy Uberlyfe Large Vinyl Sticker for Rs.595 on...  \n",
       "\n",
       "[1050 rows x 2 columns]"
      ]
     },
     "execution_count": 75,
     "metadata": {},
     "output_type": "execute_result"
    }
   ],
   "source": [
    "df[['product_name','description']]"
   ]
  },
  {
   "cell_type": "code",
   "execution_count": 58,
   "id": "4e610f68",
   "metadata": {
    "scrolled": true
   },
   "outputs": [
    {
     "name": "stdout",
     "output_type": "stream",
     "text": [
      "Nombre de clusters à trouver :  7\n"
     ]
    }
   ],
   "source": [
    "print('Nombre de clusters à trouver : ',df['target'].nunique())"
   ]
  },
  {
   "cell_type": "code",
   "execution_count": 59,
   "id": "abb2ee13",
   "metadata": {},
   "outputs": [],
   "source": [
    "from sklearn.cluster import KMeans\n",
    "from yellowbrick.cluster import KElbowVisualizer, SilhouetteVisualizer\n",
    "from sklearn.feature_extraction.text import TfidfVectorizer, CountVectorizer"
   ]
  },
  {
   "cell_type": "code",
   "execution_count": 60,
   "id": "865d0f8d",
   "metadata": {},
   "outputs": [
    {
     "name": "stdout",
     "output_type": "stream",
     "text": [
      "['and' 'document' 'first' 'is' 'one' 'second' 'the' 'third' 'this'] ['and' 'and this' 'document' 'document is' 'first' 'first document' 'is'\n",
      " 'is the' 'is this' 'one' 'second' 'second document' 'the' 'the first'\n",
      " 'the second' 'the third' 'third' 'third one' 'this' 'this document'\n",
      " 'this is' 'this the']\n"
     ]
    }
   ],
   "source": [
    "\n",
    "vectorizer = TfidfVectorizer() # Tfidf\n",
    "counter = CountVectorizer(ngram_range = (1,2)) # N-grams, ici 1,2 soit unigramme et bigrammes\n",
    "\n",
    "# Exemple de code de la documentation de scikit-learn\n",
    "corpus = [\n",
    "    'This is the first document.',\n",
    "    'This document is the second document.',\n",
    "    'And this is the third one.',\n",
    "    'Is this the first document?',\n",
    "]\n",
    "\n",
    "X = vectorizer.fit_transform(corpus)\n",
    "vectorizer.get_feature_names_out()\n",
    "\n",
    "Z = counter.fit_transform(corpus)\n",
    "\n",
    "print(\n",
    "    vectorizer.get_feature_names_out(),\n",
    "    counter.get_feature_names_out()\n",
    ")"
   ]
  },
  {
   "cell_type": "code",
   "execution_count": 66,
   "id": "4472ea9f",
   "metadata": {},
   "outputs": [
    {
     "data": {
      "text/plain": [
       "array(['00', '000', '001', ..., 'zoom', 'zora', 'zyxel'], dtype=object)"
      ]
     },
     "execution_count": 66,
     "metadata": {},
     "output_type": "execute_result"
    }
   ],
   "source": [
    "# Sur nos données \n",
    "vectorizer = TfidfVectorizer()\n",
    "X = vectorizer.fit_transform(df['description_clean'])\n",
    "vectorizer.get_feature_names_out()"
   ]
  },
  {
   "cell_type": "code",
   "execution_count": 67,
   "id": "5e033dcc",
   "metadata": {},
   "outputs": [
    {
     "data": {
      "text/plain": [
       "<1050x5246 sparse matrix of type '<class 'numpy.float64'>'\n",
       "\twith 37216 stored elements in Compressed Sparse Row format>"
      ]
     },
     "execution_count": 67,
     "metadata": {},
     "output_type": "execute_result"
    }
   ],
   "source": [
    "X"
   ]
  },
  {
   "cell_type": "code",
   "execution_count": 68,
   "id": "fc9b0596",
   "metadata": {},
   "outputs": [],
   "source": [
    "model = KMeans(n_clusters = 7, random_state=62023).fit(X)\n",
    "y_pred = model.predict(X)\n",
    "df['cluster'] = y_pred"
   ]
  },
  {
   "cell_type": "markdown",
   "id": "bfe629a3",
   "metadata": {},
   "source": [
    "# Fonction KMeans"
   ]
  },
  {
   "cell_type": "code",
   "execution_count": 78,
   "id": "64ca14e2",
   "metadata": {},
   "outputs": [
    {
     "data": {
      "text/plain": [
       "(<1050x5246 sparse matrix of type '<class 'numpy.float64'>'\n",
       " \twith 37216 stored elements in Compressed Sparse Row format>,\n",
       " array([2, 1, 1, ..., 0, 0, 0]))"
      ]
     },
     "execution_count": 78,
     "metadata": {},
     "output_type": "execute_result"
    }
   ],
   "source": [
    "# Modèles de features / transformation\n",
    "vectorizer = TfidfVectorizer() # Tfidf\n",
    "counter = CountVectorizer(ngram_range = (1,2)) # N-grams, ici 1,2 soit unigramme et bigrammes\n",
    "# ajouter BERT\n",
    "# ajouter word2vev\n",
    "# ajouter USE\n",
    "\n",
    "def kmeans_texte(transformer,features):\n",
    "    X = transformer.fit_transform(features)\n",
    "    model = KMeans(n_clusters = 7, random_state=62023).fit(X)\n",
    "    y_pred = model.predict(X)\n",
    "    return X, y_pred\n",
    "\n",
    "\n",
    "\n",
    "kmeans_texte(counter,df['description_clean'])\n",
    "X, y_pred"
   ]
  },
  {
   "cell_type": "code",
   "execution_count": null,
   "id": "08b8a432",
   "metadata": {},
   "outputs": [],
   "source": []
  },
  {
   "cell_type": "code",
   "execution_count": null,
   "id": "56fe754a",
   "metadata": {},
   "outputs": [],
   "source": []
  },
  {
   "cell_type": "markdown",
   "id": "715fd0b8",
   "metadata": {},
   "source": [
    "# Fonction :  ARI et visualisation par Tsne et heatmap"
   ]
  },
  {
   "cell_type": "code",
   "execution_count": 73,
   "id": "26a83593",
   "metadata": {
    "scrolled": true
   },
   "outputs": [],
   "source": [
    "from sklearn.manifold import TSNE\n",
    "from sklearn.metrics import adjusted_rand_score\n",
    "\n",
    "def ARI_viz(X):\n",
    "\n",
    "    X_embedded = TSNE(n_components=2, learning_rate='auto',\n",
    "                   init='random', perplexity=3,random_state = 62023 ).fit_transform(X)\n",
    "\n",
    "\n",
    "    fig = plt.figure(figsize=(20,20))\n",
    "\n",
    "    # Graphique 1 TSNE clusters\n",
    "\n",
    "    plt.subplot(2,2,1) # ligne, colonne, élément\n",
    "\n",
    "    data_tsne = pd.DataFrame(X_embedded)\n",
    "    data_tsne.columns = ['pc1','pc2']\n",
    "    data_tsne['cluster'] = y_pred\n",
    "    palette = sns.color_palette(\"Paired\", 7)\n",
    "    sns.scatterplot(data=data_tsne, x='pc1',y='pc2',hue='cluster',palette=palette)\n",
    "    \n",
    "    plt.title('TSNE des clusters')\n",
    "    \n",
    "    # Graphique 2 TSNE des vrais groupes\n",
    "\n",
    "    plt.subplot(2,2,2)\n",
    "\n",
    "    data_tsne['target'] = df['target']\n",
    "    sns.scatterplot(data=data_tsne, x='pc1',y='pc2', hue='target',palette=palette)\n",
    "    \n",
    "    plt.title('TSNE des vrais groupes')\n",
    "\n",
    "    # Graphique 3 Matrice de corrélation ou heatmap entre vrais groupes et clusters\n",
    "    \n",
    "    plt.subplot(2,2,3)\n",
    "\n",
    "    sns.heatmap(\n",
    "        pd.crosstab(data_tsne['target'],data_tsne['cluster']),\n",
    "        cmap= 'coolwarm',\n",
    "        annot=True\n",
    "\n",
    "    )\n",
    "    \n",
    "    plt.title('Matrice des corrélations entre clusters et vrais groupes')\n",
    "    \n",
    "    return plt.show(), print('ARI : ', adjusted_rand_score(data_tsne['target'],data_tsne['cluster']))\n",
    "            \n",
    "\n",
    "\n",
    "#plt.show()\n",
    "\n",
    "#print('ARI : ', adjusted_rand_score(tmp['target'],tmp['cluster']))"
   ]
  },
  {
   "cell_type": "code",
   "execution_count": 74,
   "id": "abfcd521",
   "metadata": {},
   "outputs": [
    {
     "data": {
      "image/png": "[encoded data removed]",
      "text/plain": [
       "<Figure size 2000x2000 with 4 Axes>"
      ]
     },
     "metadata": {},
     "output_type": "display_data"
    },
    {
     "name": "stdout",
     "output_type": "stream",
     "text": [
      "ARI :  0.3173710995985318\n"
     ]
    },
    {
     "data": {
      "text/plain": [
       "(None, None)"
      ]
     },
     "execution_count": 74,
     "metadata": {},
     "output_type": "execute_result"
    }
   ],
   "source": [
    "ARI_viz(X)"
   ]
  },
  {
   "cell_type": "code",
   "execution_count": null,
   "id": "6612f872",
   "metadata": {},
   "outputs": [],
   "source": []
  },
  {
   "cell_type": "code",
   "execution_count": null,
   "id": "8b64643e",
   "metadata": {},
   "outputs": [],
   "source": []
  },
  {
   "cell_type": "markdown",
   "id": "4469e720",
   "metadata": {},
   "source": [
    "# Brouillon"
   ]
  },
  {
   "cell_type": "code",
   "execution_count": 76,
   "id": "bcc2048e",
   "metadata": {
    "scrolled": true
   },
   "outputs": [
    {
     "data": {
      "image/png": "[encoded data removed]",
      "text/plain": [
       "<Figure size 500x500 with 2 Axes>"
      ]
     },
     "metadata": {},
     "output_type": "display_data"
    }
   ],
   "source": [
    "plt.figure(figsize=(5,5))\n",
    "sns.heatmap(\n",
    "    pd.crosstab(tmp['target'],tmp['cluster']),\n",
    "    cmap= 'RdBu',\n",
    "    annot=True\n",
    ")\n",
    "plt.show()"
   ]
  },
  {
   "cell_type": "code",
   "execution_count": 61,
   "id": "d7685458",
   "metadata": {},
   "outputs": [],
   "source": [
    "# # Instantiate the clustering model and visualizer\n",
    "# model = KMeans()\n",
    "# visualizer = KElbowVisualizer(model, k=(2,12))\n",
    "\n",
    "# visualizer.fit((X))    # Fit the data to the visualizer\n",
    "# visualizer.poof()    # Draw/show/poof the data\n",
    "\n",
    "# plt.show()"
   ]
  },
  {
   "cell_type": "code",
   "execution_count": 142,
   "id": "415a01cc",
   "metadata": {
    "scrolled": true
   },
   "outputs": [
    {
     "data": {
      "text/plain": [
       "array(['Home Furnishing', 'Baby Care', 'Watches',\n",
       "       'Home Decor & Festive Needs', 'Kitchen & Dining',\n",
       "       'Beauty and Personal Care', 'Computers'], dtype=object)"
      ]
     },
     "execution_count": 142,
     "metadata": {},
     "output_type": "execute_result"
    }
   ],
   "source": [
    "import time\n",
    "\n",
    "# Calcul Tsne, détermination des clusters et calcul ARI entre vrais catégorie et n° de clusters\n",
    "def ARI_fct(features) :\n",
    "    time1 = time.time()\n",
    "    num_labels=len(l_cat)\n",
    "    tsne = manifold.TSNE(n_components=2, perplexity=30, n_iter=2000, \n",
    "                                 init='random', learning_rate=200, random_state=42)\n",
    "    X_tsne = tsne.fit_transform(features)\n",
    "    \n",
    "    # Détermination des clusters à partir des données après Tsne \n",
    "    cls = cluster.KMeans(n_clusters=num_labels, n_init=100, random_state=42)\n",
    "    cls.fit(X_tsne)\n",
    "    ARI = np.round(metrics.adjusted_rand_score(y_cat_num, cls.labels_),4)\n",
    "    time2 = np.round(time.time() - time1,0)\n",
    "    print(\"ARI : \", ARI, \"time : \", time2)\n",
    "    \n",
    "    return ARI, X_tsne, cls.labels_"
   ]
  },
  {
   "cell_type": "code",
   "execution_count": 44,
   "id": "a92bff43",
   "metadata": {},
   "outputs": [
    {
     "name": "stdout",
     "output_type": "stream",
     "text": [
      "Salut ! Comment ça va ?  # excité  \n"
     ]
    }
   ],
   "source": [
    "import unicodedata\n",
    "\n",
    "def nettoyer_texte(texte):\n",
    "    # Supprimer les caractères spéciaux et émoticons\n",
    "    texte_propre = ''.join(c for c in texte if unicodedata.category(c)[0] != 'S')\n",
    "    \n",
    "    return texte_propre\n",
    "\n",
    "# Exemple d'utilisation\n",
    "texte_original = \"Salut ! Comment ça va ? 😃 # excité � \"\n",
    "texte_nettoye = nettoyer_texte(texte_original)\n",
    "\n",
    "print(texte_nettoye)"
   ]
  },
  {
   "cell_type": "code",
   "execution_count": 45,
   "id": "b8c4e32b",
   "metadata": {},
   "outputs": [
    {
     "name": "stdout",
     "output_type": "stream",
     "text": [
      "Il y a   des caract res sp ciaux 123 et des espaces        excit   \n"
     ]
    }
   ],
   "source": [
    "import re\n",
    "\n",
    "texte = \"Il y a ! des caractères spéciaux 123 et des espaces___ 😃 # excité �\"\n",
    "\n",
    "texte_propre = re.sub(r'[^a-zA-Z0-9]', ' ', texte)\n",
    "\n",
    "print(texte_propre)\n"
   ]
  },
  {
   "cell_type": "code",
   "execution_count": 46,
   "id": "d36ce312",
   "metadata": {},
   "outputs": [
    {
     "name": "stdout",
     "output_type": "stream",
     "text": [
      "Il y a   des caract res sp ciaux 123 et des espaces    et des chiffres 2.34   il m en reste 2 \n"
     ]
    }
   ],
   "source": [
    "import re\n",
    "\n",
    "texte = \"Il y a ! des caractères spéciaux 123 et des espaces___ et des chiffres 2.34 % il m'en reste 2.\"\n",
    "\n",
    "texte_propre = re.sub(r'(?<!\\d)\\.(?!\\d)|\\.(?!\\d)|\\.(?=\\s|$)|[^a-zA-Z0-9.]', ' ', texte)\n",
    "\n",
    "print(texte_propre)"
   ]
  },
  {
   "cell_type": "code",
   "execution_count": 47,
   "id": "8b05072a",
   "metadata": {
    "scrolled": true
   },
   "outputs": [
    {
     "data": {
      "text/plain": [
       "0    Key Features of Elegance Polyester Multicolor Abstract Eyelet Door Curtain Floral Curtain Elegance Polyester Multicolor Abstract Eyelet Door Curtain  213 cm in Height  Pack of 2  Price  Rs  899 This curtain enhances the look of the interiors This curtain is made from 100  high quality polyester fabric It features an eyelet style stitch with Metal Ring It makes the room environment romantic and loving This curtain is ant  wrinkle and anti shrinkage and have elegant apparance Give your home a ...\n",
       "1                                                           Specifications of Sathiyas Cotton Bath Towel  3 Bath Towel  Red  Yellow  Blue  Bath Towel Features Machine Washable Yes Material Cotton Design Self Design General Brand Sathiyas Type Bath Towel GSM 500 Model Name Sathiyas cotton bath towel Ideal For Men  Women  Boys  Girls Model ID asvtwl322 Color Red  Yellow  Blue Size Mediam Dimensions Length 30 inch Width 60 inch In the Box Number of Contents in Sales Package 3 Sales Package 3 Bath Towel\n",
       "2    Key Features of Eurospa Cotton Terry Face Towel Set Size  small Height  9 inch GSM  360 Eurospa Cotton Terry Face Towel Set  20 PIECE FACE TOWEL SET  Assorted  Price  Rs  299 Eurospa brings to you an exclusively designed  100  soft cotton towels of export quality  All our products have soft texture that takes care of your skin and gives you that enriched feeling you deserve  Eurospa has been exporting its bath towels to lot of renowned brands for last 10 years and is famous for its fine prin...\n",
       "3    Key Features of SANTOSH ROYAL FASHION Cotton Printed King sized Double Bedsheet Royal Bedsheet Perfact for Wedding   Gifting Specifications of SANTOSH ROYAL FASHION Cotton Printed King sized Double Bedsheet  1 Bedsheet 2 Pillow Cover  Multicolor  General Brand SANTOSH ROYAL FASHION Machine Washable Yes Type Flat Material Cotton Model Name Gold Design Royal Cotton Printed Wedding   Gifted Double Bedsheet With 2 Pillow cover Model ID goldbedi 38 Color Multicolor Size King Fabric Care Machine W...\n",
       "4    Key Features of Jaipur Print Cotton Floral King sized Double Bedsheet 100  cotton Jaipur Print Cotton Floral King sized Double Bedsheet  1 bed sheet 2 pillow cover  White  Price  Rs  998 This nice bed sheet made up of 100  cotton to give you comfort  This bed sheet is hand printed  This bedsheet gives nice look to your room And its fast colour and good quality gives this bedsheet long life  Specifications of Jaipur Print Cotton Floral King sized Double Bedsheet  1 bed sheet 2 pillow cover  W...\n",
       "Name: description, dtype: object"
      ]
     },
     "metadata": {},
     "output_type": "display_data"
    }
   ],
   "source": [
    "with pd.option_context(\"display.max_colwidth\", 500, \"display.max_columns\", 5):\n",
    "    display(\n",
    "    (df['description']).str.replace(r'[^a-zA-Z0-9]', ' ', regex = True).head()\n",
    "    )"
   ]
  },
  {
   "cell_type": "code",
   "execution_count": 120,
   "id": "6549624a",
   "metadata": {
    "scrolled": false
   },
   "outputs": [
    {
     "data": {
      "text/plain": [
       "1045    oren empower extra large self adhesive sticker (pack of 2)                           price: rs. 999           double sticker can be used for the big walls. two pieces is there that can be arranged alternatively or reflectively. this will dcor the wall like 3d look. tree with the green shaded leaves will give the sharp feature of the greenery. reusable i.e. can be used again after applied once. simple remove and re-use the sticker on same or another wall with a different idea    how to instal...\n",
       "1046    wallmantra large vinyl sticker sticker (pack of 1)                           price: rs. 1,896           bring home this exclusive piece of wall art to give your home a refreshing look it deserves !  wall decals are the latest trend, sweeping the world of interior design, as a quick and easy way to personalise and transform your home. we at wallmantra use only the highest quality premium self-adhesive vinyl for our products to ensure you receive the best quality product.  the sizes are in inc...\n",
       "1047                                                                                                                                                                                                                                                 buy uberlyfe extra large pigmented polyvinyl films (imported) sticker for rs.1449 online. uberlyfe extra large pigmented polyvinyl films (imported) sticker at best prices with free shipping & cash on delivery. only genuine products. 30 day replacement guarantee.\n",
       "1048                                                                                                                                                                                                                                                                                                     buy wallmantra medium vinyl sticker sticker for rs.1333 online. wallmantra medium vinyl sticker sticker at best prices with free shipping & cash on delivery. only genuine products. 30 day replacement guarantee.\n",
       "Name: description_clean, dtype: object"
      ]
     },
     "metadata": {},
     "output_type": "display_data"
    }
   ],
   "source": [
    "with pd.option_context(\"display.max_colwidth\", 500, \"display.max_columns\", 5):\n",
    "    display(\n",
    "df['description_clean'][1045:1049].map(nettoyer_texte)\n",
    "    )"
   ]
  },
  {
   "cell_type": "code",
   "execution_count": 122,
   "id": "e3b0d6cd",
   "metadata": {
    "scrolled": false
   },
   "outputs": [
    {
     "data": {
      "text/plain": [
       "0       {'k': 10, 'e': 137, 'y': 31, ' ': 229, 'f': 20...\n",
       "1       {'s': 26, 'p': 4, 'e': 42, 'c': 12, 'i': 22, '...\n",
       "2       {'k': 6, 'e': 121, 'y': 22, ' ': 214, 'f': 32,...\n",
       "3       {'k': 6, 'e': 83, 'y': 8, ' ': 144, 'f': 20, '...\n",
       "4       {'k': 9, 'e': 111, 'y': 10, ' ': 213, 'f': 24,...\n",
       "                              ...                        \n",
       "1045    {'o': 121, 'r': 121, 'e': 260, 'n': 97, ' ': 5...\n",
       "1046    {'w': 31, 'a': 101, 'l': 70, 'm': 25, 'n': 66,...\n",
       "1047    {'b': 4, 'u': 6, 'y': 10, ' ': 36, 'e': 30, 'r...\n",
       "1048    {'b': 2, 'u': 6, 'y': 6, ' ': 30, 'w': 3, 'a':...\n",
       "1049    {'b': 4, 'u': 6, 'y': 8, ' ': 28, 'e': 22, 'r'...\n",
       "Name: description_clean, Length: 1050, dtype: object"
      ]
     },
     "execution_count": 122,
     "metadata": {},
     "output_type": "execute_result"
    }
   ],
   "source": [
    "from collections import Counter\n",
    "\n",
    "(df['description_clean']).map(Counter)"
   ]
  }
 ],
 "metadata": {
  "kernelspec": {
   "display_name": "Python 3 (ipykernel)",
   "language": "python",
   "name": "python3"
  },
  "language_info": {
   "codemirror_mode": {
    "name": "ipython",
    "version": 3
   },
   "file_extension": ".py",
   "mimetype": "text/x-python",
   "name": "python",
   "nbconvert_exporter": "python",
   "pygments_lexer": "ipython3",
   "version": "3.9.13"
  }
 },
 "nbformat": 4,
 "nbformat_minor": 5
}
